{
 "cells": [
  {
   "cell_type": "markdown",
   "id": "f1c950e7",
   "metadata": {},
   "source": [
    "# Import packages"
   ]
  },
  {
   "cell_type": "code",
   "execution_count": 1,
   "id": "881c46de",
   "metadata": {},
   "outputs": [],
   "source": [
    "import os\n",
    "import re\n",
    "import glob\n",
    "import pathlib\n",
    "import time\n",
    "import math\n",
    "import numpy as np\n",
    "import pandas as pd\n",
    "import matplotlib.pyplot as plt\n",
    "%matplotlib inline\n",
    "\n",
    "import cv2\n",
    "\n",
    "import PIL\n",
    "from PIL import Image\n",
    "\n",
    "from sklearn.model_selection import train_test_split\n",
    "from sklearn.utils import class_weight\n",
    "\n",
    "from collections import Counter\n",
    "\n",
    "from warnings import filterwarnings\n",
    "filterwarnings('ignore')"
   ]
  },
  {
   "cell_type": "code",
   "execution_count": 2,
   "id": "86a2c1a0",
   "metadata": {},
   "outputs": [],
   "source": [
    "SEED=123\n",
    "np.random.seed(SEED)"
   ]
  },
  {
   "cell_type": "code",
   "execution_count": 3,
   "id": "6ae54722",
   "metadata": {},
   "outputs": [],
   "source": [
    "import tensorflow as tf\n",
    "from tensorflow import keras\n",
    "from tensorflow.keras import layers\n",
    "from tensorflow.keras.models import Model,Sequential\n",
    "from tensorflow.keras.optimizers import Adam, SGD, RMSprop\n",
    "from tensorflow.keras.layers import Dropout, BatchNormalization\n",
    "from tensorflow.keras.layers import (\n",
    "    Input, Dense, Conv2D, Flatten, Activation, \n",
    "    MaxPooling2D, AveragePooling2D, ZeroPadding2D, GlobalAveragePooling2D, GlobalMaxPooling2D, add\n",
    ")\n",
    "\n",
    "from tensorflow.python.keras.callbacks import EarlyStopping, ModelCheckpoint\n",
    "from tensorflow.keras.preprocessing import image\n",
    "from tensorflow.keras.preprocessing.image import ImageDataGenerator\n",
    "\n",
    "from tensorflow.keras.utils import plot_model\n",
    "\n",
    "from tensorflow.keras.applications.vgg19 import VGG19\n",
    "from tensorflow.keras.applications.vgg19 import preprocess_input\n",
    "from tensorflow.keras.applications.resnet50 import ResNet50\n",
    "from tensorflow.keras.applications.resnet50 import preprocess_input\n",
    "from tensorflow.keras.applications.inception_v3 import InceptionV3\n",
    "from tensorflow.keras.models import load_model"
   ]
  },
  {
   "cell_type": "markdown",
   "id": "dffe9d14",
   "metadata": {},
   "source": [
    "# Set path"
   ]
  },
  {
   "cell_type": "code",
   "execution_count": 4,
   "id": "796d5915",
   "metadata": {},
   "outputs": [],
   "source": [
    "BASEPATH = '/home/ubuntu/w210_melanoma/data'\n",
    "\n",
    "df_train_full = pd.read_csv(os.path.join(BASEPATH, 'metadata_train.csv'))\n",
    "\n",
    "train_path = BASEPATH + '/train_7525'\n",
    "train_dir = pathlib.Path(train_path)\n",
    "\n",
    "test_path = BASEPATH + '/ISIC_2020_Test_Input'\n",
    "test_dir = pathlib.Path(test_path)"
   ]
  },
  {
   "cell_type": "markdown",
   "id": "577bddcf",
   "metadata": {},
   "source": [
    "# Configurations"
   ]
  },
  {
   "cell_type": "code",
   "execution_count": 5,
   "id": "f95de8d2",
   "metadata": {},
   "outputs": [],
   "source": [
    "CFG = dict(\n",
    "        batch_size        =  16,     \n",
    "        epochs            =  50, #10,  \n",
    "        verbose           =   1,   \n",
    "        workers           =   4,   \n",
    "\n",
    "        optimizer         = 'adam', \n",
    "\n",
    "        RANDOM_STATE      =  123,   \n",
    "    \n",
    "        # Path to save a model\n",
    "        path_model        = '/home/ubuntu/w210_melanoma/model/',\n",
    "\n",
    "        # Images sizes\n",
    "        img_size          = 224, \n",
    "        img_height        = 224, \n",
    "        img_width         = 224, \n",
    "\n",
    "        # Postprocessing\n",
    "        label_smooth_fac  =  0.00,      \n",
    ")"
   ]
  },
  {
   "cell_type": "markdown",
   "id": "e4413737",
   "metadata": {},
   "source": [
    "# Data split and generation"
   ]
  },
  {
   "cell_type": "code",
   "execution_count": 6,
   "id": "617cdacb",
   "metadata": {},
   "outputs": [],
   "source": [
    "#train_generator = ImageDataGenerator(rescale=1./255, validation_split=0.2)\n",
    "#valid_generator = ImageDataGenerator(rescale=1./255, validation_split=0.2)"
   ]
  },
  {
   "cell_type": "code",
   "execution_count": 49,
   "id": "25a88682",
   "metadata": {},
   "outputs": [],
   "source": [
    "train_generator = ImageDataGenerator(\n",
    "                  rescale=1./255, \n",
    "                  validation_split=0.2,\n",
    "                  rotation_range=45, # was Rotate 90 degree\n",
    "                  horizontal_flip=True, # new\n",
    "                  vertical_flip=True, # new \n",
    "                  samplewise_std_normalization=True , # Boolean. Divide each input by its std.\n",
    "                  width_shift_range=0.3,\n",
    "                  height_shift_range=0.3,\n",
    "                  brightness_range=[0.2,1.0]\n",
    "                  ) \n",
    "valid_generator = ImageDataGenerator(rescale=1./255, validation_split=0.2)"
   ]
  },
  {
   "cell_type": "code",
   "execution_count": 50,
   "id": "f9b77422",
   "metadata": {},
   "outputs": [
    {
     "name": "stdout",
     "output_type": "stream",
     "text": [
      "Found 1908 images belonging to 2 classes.\n",
      "Found 476 images belonging to 2 classes.\n"
     ]
    }
   ],
   "source": [
    "train_generator = train_generator.flow_from_directory(train_dir,\n",
    "                                                    subset='training',                  \n",
    "                                                    target_size=(CFG['img_size'], CFG['img_size']),\n",
    "                                                    batch_size = CFG['batch_size'],\n",
    "                                                    class_mode='categorical',\n",
    "                                                    shuffle=True\n",
    "                                                    )\n",
    "\n",
    "\n",
    "valid_generator = valid_generator.flow_from_directory(train_dir,\n",
    "                                                     subset='validation',              \n",
    "                                                     target_size=(CFG['img_size'], CFG['img_size']),\n",
    "                                                     batch_size = 1,\n",
    "                                                     class_mode='categorical',\n",
    "                                                     shuffle=False\n",
    "                                                     )"
   ]
  },
  {
   "cell_type": "code",
   "execution_count": 51,
   "id": "eb70acdc",
   "metadata": {},
   "outputs": [
    {
     "data": {
      "text/plain": [
       "0.24369747899159663"
      ]
     },
     "execution_count": 51,
     "metadata": {},
     "output_type": "execute_result"
    }
   ],
   "source": [
    "np.mean(valid_generator.classes)"
   ]
  },
  {
   "cell_type": "markdown",
   "id": "19c8528d",
   "metadata": {},
   "source": [
    "# Re-train the model pre-trained with 50/50 data"
   ]
  },
  {
   "cell_type": "code",
   "execution_count": 59,
   "id": "7353d077",
   "metadata": {},
   "outputs": [],
   "source": [
    "model = load_model('/home/ubuntu/w210_melanoma/model/ResNet50-DA-balanced-28-0.48.hdf5')"
   ]
  },
  {
   "cell_type": "code",
   "execution_count": 60,
   "id": "e1561a9e",
   "metadata": {},
   "outputs": [],
   "source": [
    "model.layers[0].trainable = False"
   ]
  },
  {
   "cell_type": "code",
   "execution_count": 61,
   "id": "3db865f6",
   "metadata": {},
   "outputs": [
    {
     "name": "stdout",
     "output_type": "stream",
     "text": [
      "Model: \"sequential\"\n",
      "_________________________________________________________________\n",
      "Layer (type)                 Output Shape              Param #   \n",
      "=================================================================\n",
      "resnet50 (Functional)        (None, 7, 7, 2048)        23587712  \n",
      "_________________________________________________________________\n",
      "global_average_pooling2d (Gl (None, 2048)              0         \n",
      "_________________________________________________________________\n",
      "dense (Dense)                (None, 2)                 4098      \n",
      "=================================================================\n",
      "Total params: 23,591,810\n",
      "Trainable params: 4,098\n",
      "Non-trainable params: 23,587,712\n",
      "_________________________________________________________________\n"
     ]
    }
   ],
   "source": [
    "model.summary()"
   ]
  },
  {
   "cell_type": "code",
   "execution_count": 13,
   "id": "38af34ec",
   "metadata": {},
   "outputs": [],
   "source": [
    "model.compile(\n",
    "    optimizer = CFG['optimizer'],\n",
    "    loss = tf.keras.losses.BinaryCrossentropy(label_smoothing = CFG['label_smooth_fac']),\n",
    "    #loss = 'binary_crossentropy',\n",
    "    metrics=[tf.keras.metrics.Recall()]\n",
    ")"
   ]
  },
  {
   "cell_type": "markdown",
   "id": "8dba91ec",
   "metadata": {},
   "source": [
    "# Fit model"
   ]
  },
  {
   "cell_type": "code",
   "execution_count": 14,
   "id": "9c643124",
   "metadata": {},
   "outputs": [],
   "source": [
    "def scheduler(epoch, lr):\n",
    "    if epoch < 10:\n",
    "        return lr\n",
    "    else:\n",
    "        return lr * tf.math.exp(-0.1)\n",
    "\n",
    "cb_lr_scheduler = tf.keras.callbacks.LearningRateScheduler(scheduler)"
   ]
  },
  {
   "cell_type": "code",
   "execution_count": 15,
   "id": "e2435a0c",
   "metadata": {},
   "outputs": [
    {
     "name": "stdout",
     "output_type": "stream",
     "text": [
      "Epoch 1/50\n",
      "120/120 [==============================] - 167s 1s/step - loss: 1.3109 - recall: 0.5902 - val_loss: 0.4200 - val_recall: 0.7878\n",
      "\n",
      "Epoch 00001: val_recall improved from -inf to 0.78782, saving model to /home/ubuntu/w210_melanoma/model/ResNet50-DA-5050-7525-01-0.7878.hdf5\n",
      "Epoch 2/50\n",
      "120/120 [==============================] - 159s 1s/step - loss: 0.5487 - recall: 0.7374 - val_loss: 0.4288 - val_recall: 0.7773\n",
      "\n",
      "Epoch 00002: val_recall did not improve from 0.78782\n",
      "Epoch 3/50\n",
      "120/120 [==============================] - 164s 1s/step - loss: 0.5240 - recall: 0.7450 - val_loss: 0.4257 - val_recall: 0.7815\n",
      "\n",
      "Epoch 00003: val_recall did not improve from 0.78782\n",
      "Epoch 4/50\n",
      "120/120 [==============================] - 160s 1s/step - loss: 0.5049 - recall: 0.7646 - val_loss: 0.4244 - val_recall: 0.7752\n",
      "\n",
      "Epoch 00004: val_recall did not improve from 0.78782\n",
      "Epoch 5/50\n",
      "120/120 [==============================] - 168s 1s/step - loss: 0.5204 - recall: 0.7619 - val_loss: 0.4103 - val_recall: 0.7962\n",
      "\n",
      "Epoch 00005: val_recall improved from 0.78782 to 0.79622, saving model to /home/ubuntu/w210_melanoma/model/ResNet50-DA-5050-7525-05-0.7962.hdf5\n",
      "Epoch 6/50\n",
      "120/120 [==============================] - 161s 1s/step - loss: 0.5395 - recall: 0.7492 - val_loss: 0.4416 - val_recall: 0.7773\n",
      "\n",
      "Epoch 00006: val_recall did not improve from 0.79622\n",
      "Epoch 7/50\n",
      "120/120 [==============================] - 164s 1s/step - loss: 0.5261 - recall: 0.7665 - val_loss: 0.4386 - val_recall: 0.7794\n",
      "\n",
      "Epoch 00007: val_recall did not improve from 0.79622\n",
      "Epoch 8/50\n",
      "120/120 [==============================] - 166s 1s/step - loss: 0.4798 - recall: 0.7774 - val_loss: 0.4188 - val_recall: 0.7941\n",
      "\n",
      "Epoch 00008: val_recall did not improve from 0.79622\n",
      "Epoch 9/50\n",
      "120/120 [==============================] - 163s 1s/step - loss: 0.5049 - recall: 0.7598 - val_loss: 0.4242 - val_recall: 0.7794\n",
      "\n",
      "Epoch 00009: val_recall did not improve from 0.79622\n",
      "Epoch 10/50\n",
      "120/120 [==============================] - 167s 1s/step - loss: 0.5036 - recall: 0.7519 - val_loss: 0.4234 - val_recall: 0.7773\n",
      "\n",
      "Epoch 00010: val_recall did not improve from 0.79622\n",
      "Epoch 11/50\n",
      "120/120 [==============================] - 164s 1s/step - loss: 0.4761 - recall: 0.7680 - val_loss: 0.4187 - val_recall: 0.7920\n",
      "\n",
      "Epoch 00011: val_recall did not improve from 0.79622\n",
      "Epoch 12/50\n",
      "120/120 [==============================] - 164s 1s/step - loss: 0.4699 - recall: 0.7833 - val_loss: 0.4209 - val_recall: 0.7983\n",
      "\n",
      "Epoch 00012: val_recall improved from 0.79622 to 0.79832, saving model to /home/ubuntu/w210_melanoma/model/ResNet50-DA-5050-7525-12-0.7983.hdf5\n",
      "Epoch 13/50\n",
      "120/120 [==============================] - 164s 1s/step - loss: 0.4861 - recall: 0.7555 - val_loss: 0.4220 - val_recall: 0.7962\n",
      "\n",
      "Epoch 00013: val_recall did not improve from 0.79832\n",
      "Epoch 14/50\n",
      "120/120 [==============================] - 161s 1s/step - loss: 0.4644 - recall: 0.7751 - val_loss: 0.4198 - val_recall: 0.7899\n",
      "\n",
      "Epoch 00014: val_recall did not improve from 0.79832\n",
      "Epoch 15/50\n",
      "120/120 [==============================] - 166s 1s/step - loss: 0.4783 - recall: 0.7719 - val_loss: 0.4217 - val_recall: 0.7899\n",
      "\n",
      "Epoch 00015: val_recall did not improve from 0.79832\n",
      "Epoch 16/50\n",
      "120/120 [==============================] - 167s 1s/step - loss: 0.4732 - recall: 0.7835 - val_loss: 0.4157 - val_recall: 0.7836\n",
      "\n",
      "Epoch 00016: val_recall did not improve from 0.79832\n",
      "Epoch 17/50\n",
      "120/120 [==============================] - 165s 1s/step - loss: 0.4880 - recall: 0.7651 - val_loss: 0.4207 - val_recall: 0.7878\n",
      "\n",
      "Epoch 00017: val_recall did not improve from 0.79832\n",
      "Epoch 18/50\n",
      "120/120 [==============================] - 166s 1s/step - loss: 0.4771 - recall: 0.7577 - val_loss: 0.4276 - val_recall: 0.7773\n",
      "\n",
      "Epoch 00018: val_recall did not improve from 0.79832\n",
      "Epoch 19/50\n",
      "120/120 [==============================] - 164s 1s/step - loss: 0.4769 - recall: 0.7620 - val_loss: 0.4195 - val_recall: 0.7773\n",
      "\n",
      "Epoch 00019: val_recall did not improve from 0.79832\n",
      "Epoch 20/50\n",
      "120/120 [==============================] - 165s 1s/step - loss: 0.4507 - recall: 0.7798 - val_loss: 0.4199 - val_recall: 0.7836\n",
      "\n",
      "Epoch 00020: val_recall did not improve from 0.79832\n",
      "Epoch 21/50\n",
      "120/120 [==============================] - 164s 1s/step - loss: 0.4752 - recall: 0.7633 - val_loss: 0.4232 - val_recall: 0.7794\n",
      "\n",
      "Epoch 00021: val_recall did not improve from 0.79832\n",
      "Epoch 22/50\n",
      "120/120 [==============================] - 163s 1s/step - loss: 0.4732 - recall: 0.7505 - val_loss: 0.4260 - val_recall: 0.7857\n",
      "\n",
      "Epoch 00022: val_recall did not improve from 0.79832\n",
      "Epoch 23/50\n",
      "120/120 [==============================] - 167s 1s/step - loss: 0.4756 - recall: 0.7669 - val_loss: 0.4235 - val_recall: 0.7857\n",
      "\n",
      "Epoch 00023: val_recall did not improve from 0.79832\n",
      "Epoch 24/50\n",
      "120/120 [==============================] - 165s 1s/step - loss: 0.4510 - recall: 0.7862 - val_loss: 0.4261 - val_recall: 0.7920\n",
      "\n",
      "Epoch 00024: val_recall did not improve from 0.79832\n",
      "Epoch 25/50\n",
      "120/120 [==============================] - 166s 1s/step - loss: 0.4777 - recall: 0.7648 - val_loss: 0.4263 - val_recall: 0.7794\n",
      "\n",
      "Epoch 00025: val_recall did not improve from 0.79832\n",
      "Epoch 26/50\n",
      "120/120 [==============================] - 167s 1s/step - loss: 0.4666 - recall: 0.7617 - val_loss: 0.4253 - val_recall: 0.7899\n",
      "\n",
      "Epoch 00026: val_recall did not improve from 0.79832\n",
      "Epoch 27/50\n",
      "120/120 [==============================] - 162s 1s/step - loss: 0.4805 - recall: 0.7586 - val_loss: 0.4246 - val_recall: 0.7794\n",
      "\n",
      "Epoch 00027: val_recall did not improve from 0.79832\n",
      "Epoch 28/50\n",
      "120/120 [==============================] - 163s 1s/step - loss: 0.4601 - recall: 0.7802 - val_loss: 0.4236 - val_recall: 0.7899\n",
      "\n",
      "Epoch 00028: val_recall did not improve from 0.79832\n",
      "Epoch 29/50\n",
      "120/120 [==============================] - 164s 1s/step - loss: 0.4639 - recall: 0.7739 - val_loss: 0.4266 - val_recall: 0.7857\n",
      "\n",
      "Epoch 00029: val_recall did not improve from 0.79832\n",
      "Epoch 30/50\n",
      "120/120 [==============================] - 161s 1s/step - loss: 0.4425 - recall: 0.7969 - val_loss: 0.4260 - val_recall: 0.7857\n",
      "\n",
      "Epoch 00030: val_recall did not improve from 0.79832\n",
      "Epoch 31/50\n",
      "120/120 [==============================] - 162s 1s/step - loss: 0.4460 - recall: 0.8046 - val_loss: 0.4257 - val_recall: 0.7920\n",
      "\n",
      "Epoch 00031: val_recall did not improve from 0.79832\n",
      "Epoch 32/50\n",
      "120/120 [==============================] - 167s 1s/step - loss: 0.4519 - recall: 0.7840 - val_loss: 0.4261 - val_recall: 0.7878\n",
      "\n",
      "Epoch 00032: val_recall did not improve from 0.79832\n",
      "Epoch 33/50\n",
      "120/120 [==============================] - 163s 1s/step - loss: 0.4801 - recall: 0.7588 - val_loss: 0.4260 - val_recall: 0.7815\n",
      "\n",
      "Epoch 00033: val_recall did not improve from 0.79832\n",
      "Epoch 34/50\n",
      "120/120 [==============================] - 162s 1s/step - loss: 0.4851 - recall: 0.7655 - val_loss: 0.4261 - val_recall: 0.7857\n",
      "\n",
      "Epoch 00034: val_recall did not improve from 0.79832\n",
      "Epoch 35/50\n",
      "120/120 [==============================] - 161s 1s/step - loss: 0.4553 - recall: 0.7780 - val_loss: 0.4253 - val_recall: 0.7815\n",
      "\n",
      "Epoch 00035: val_recall did not improve from 0.79832\n",
      "Epoch 36/50\n",
      "120/120 [==============================] - 165s 1s/step - loss: 0.4731 - recall: 0.7786 - val_loss: 0.4257 - val_recall: 0.7857\n",
      "\n",
      "Epoch 00036: val_recall did not improve from 0.79832\n",
      "Epoch 37/50\n",
      "120/120 [==============================] - 165s 1s/step - loss: 0.4687 - recall: 0.7751 - val_loss: 0.4248 - val_recall: 0.7857\n",
      "\n",
      "Epoch 00037: val_recall did not improve from 0.79832\n",
      "Epoch 38/50\n",
      "120/120 [==============================] - 161s 1s/step - loss: 0.4520 - recall: 0.7734 - val_loss: 0.4259 - val_recall: 0.7815\n",
      "\n",
      "Epoch 00038: val_recall did not improve from 0.79832\n",
      "Epoch 39/50\n",
      "120/120 [==============================] - 162s 1s/step - loss: 0.4358 - recall: 0.7904 - val_loss: 0.4246 - val_recall: 0.7815\n",
      "\n",
      "Epoch 00039: val_recall did not improve from 0.79832\n",
      "Epoch 40/50\n",
      "120/120 [==============================] - 165s 1s/step - loss: 0.4769 - recall: 0.7622 - val_loss: 0.4249 - val_recall: 0.7815\n",
      "\n",
      "Epoch 00040: val_recall did not improve from 0.79832\n",
      "Epoch 41/50\n",
      "120/120 [==============================] - 165s 1s/step - loss: 0.4661 - recall: 0.7687 - val_loss: 0.4241 - val_recall: 0.7836\n",
      "\n",
      "Epoch 00041: val_recall did not improve from 0.79832\n",
      "Epoch 42/50\n"
     ]
    },
    {
     "name": "stdout",
     "output_type": "stream",
     "text": [
      "120/120 [==============================] - 167s 1s/step - loss: 0.4641 - recall: 0.7688 - val_loss: 0.4253 - val_recall: 0.7815\n",
      "\n",
      "Epoch 00042: val_recall did not improve from 0.79832\n",
      "Epoch 43/50\n",
      "120/120 [==============================] - 163s 1s/step - loss: 0.4464 - recall: 0.7918 - val_loss: 0.4245 - val_recall: 0.7815\n",
      "\n",
      "Epoch 00043: val_recall did not improve from 0.79832\n",
      "Epoch 44/50\n",
      "120/120 [==============================] - 165s 1s/step - loss: 0.4540 - recall: 0.7783 - val_loss: 0.4257 - val_recall: 0.7815\n",
      "\n",
      "Epoch 00044: val_recall did not improve from 0.79832\n",
      "Epoch 45/50\n",
      "120/120 [==============================] - 167s 1s/step - loss: 0.4546 - recall: 0.7679 - val_loss: 0.4255 - val_recall: 0.7815\n",
      "\n",
      "Epoch 00045: val_recall did not improve from 0.79832\n",
      "Epoch 46/50\n",
      "120/120 [==============================] - 169s 1s/step - loss: 0.4604 - recall: 0.7690 - val_loss: 0.4252 - val_recall: 0.7794\n",
      "\n",
      "Epoch 00046: val_recall did not improve from 0.79832\n",
      "Epoch 47/50\n",
      "120/120 [==============================] - 164s 1s/step - loss: 0.4618 - recall: 0.7725 - val_loss: 0.4252 - val_recall: 0.7815\n",
      "\n",
      "Epoch 00047: val_recall did not improve from 0.79832\n",
      "Epoch 48/50\n",
      "120/120 [==============================] - 168s 1s/step - loss: 0.4567 - recall: 0.7706 - val_loss: 0.4247 - val_recall: 0.7815\n",
      "\n",
      "Epoch 00048: val_recall did not improve from 0.79832\n",
      "Epoch 49/50\n",
      "120/120 [==============================] - 163s 1s/step - loss: 0.4354 - recall: 0.7893 - val_loss: 0.4249 - val_recall: 0.7815\n",
      "\n",
      "Epoch 00049: val_recall did not improve from 0.79832\n",
      "Epoch 50/50\n",
      "120/120 [==============================] - 162s 1s/step - loss: 0.4478 - recall: 0.7844 - val_loss: 0.4252 - val_recall: 0.7815\n",
      "\n",
      "Epoch 00050: val_recall did not improve from 0.79832\n"
     ]
    }
   ],
   "source": [
    "#cb_early_stopper = EarlyStopping(monitor = 'val_loss', patience = 10)\n",
    "cb_checkpointer  = ModelCheckpoint(filepath = CFG['path_model']+'ResNet50-DA-5050-7525-{epoch:02d}-{val_recall:.4f}.hdf5',\n",
    "                                   monitor  = 'val_recall', \n",
    "                                   verbose  = CFG['verbose'], \n",
    "                                   save_best_only=True, \n",
    "                                   mode='max'\n",
    "                                  )\n",
    "\n",
    "callbacks_list = [cb_lr_scheduler, cb_checkpointer]\n",
    "\n",
    "history = model.fit(train_generator, \n",
    "                    epochs=CFG['epochs'], \n",
    "                    workers=CFG['workers'],\n",
    "                    validation_data=valid_generator, \n",
    "                    callbacks = callbacks_list\n",
    "                    )"
   ]
  },
  {
   "cell_type": "code",
   "execution_count": 16,
   "id": "ab48c83f",
   "metadata": {},
   "outputs": [
    {
     "data": {
      "image/png": "[encoded data removed]",
      "text/plain": [
       "<Figure size 1656x576 with 2 Axes>"
      ]
     },
     "metadata": {
      "needs_background": "light"
     },
     "output_type": "display_data"
    }
   ],
   "source": [
    "acc = history.history['recall']\n",
    "val_acc = history.history['val_recall']\n",
    "\n",
    "loss = history.history['loss']\n",
    "val_loss = history.history['val_loss']\n",
    "\n",
    "metrics = history.history['recall']\n",
    "epochs_range = range(1, len(metrics) + 1) \n",
    "\n",
    "plt.figure(figsize=(23, 8))\n",
    "plt.subplot(1, 2, 1)\n",
    "plt.plot(epochs_range, acc, label='Training Recall')\n",
    "plt.plot(epochs_range, val_acc, label='Validation Recall')\n",
    "plt.legend(loc='lower right')\n",
    "plt.title('Training and Validation Recall')\n",
    "\n",
    "plt.subplot(1, 2, 2)\n",
    "plt.plot(epochs_range, loss, label='Training Loss')\n",
    "plt.plot(epochs_range, val_loss, label='Validation Loss')\n",
    "plt.legend(loc='upper right')\n",
    "plt.title('Training and Validation Loss')\n",
    "plt.show()"
   ]
  },
  {
   "cell_type": "markdown",
   "id": "8a25608c",
   "metadata": {},
   "source": [
    "# Make predictions on the Validation set and analyze the results"
   ]
  },
  {
   "cell_type": "code",
   "execution_count": 69,
   "id": "cd2f32cf",
   "metadata": {},
   "outputs": [],
   "source": [
    "model = load_model('/home/ubuntu/w210_melanoma/model/ResNet50-DA-5050-7525-12-0.7983.hdf5')"
   ]
  },
  {
   "cell_type": "code",
   "execution_count": 70,
   "id": "575dd5a2",
   "metadata": {},
   "outputs": [
    {
     "name": "stdout",
     "output_type": "stream",
     "text": [
      "Model: \"sequential\"\n",
      "_________________________________________________________________\n",
      "Layer (type)                 Output Shape              Param #   \n",
      "=================================================================\n",
      "resnet50 (Functional)        (None, 7, 7, 2048)        23587712  \n",
      "_________________________________________________________________\n",
      "global_average_pooling2d (Gl (None, 2048)              0         \n",
      "_________________________________________________________________\n",
      "dense (Dense)                (None, 2)                 4098      \n",
      "=================================================================\n",
      "Total params: 23,591,810\n",
      "Trainable params: 4,098\n",
      "Non-trainable params: 23,587,712\n",
      "_________________________________________________________________\n"
     ]
    }
   ],
   "source": [
    "model.summary()"
   ]
  },
  {
   "cell_type": "code",
   "execution_count": 71,
   "id": "ea4cd01e",
   "metadata": {},
   "outputs": [],
   "source": [
    "true_label = valid_generator.classes"
   ]
  },
  {
   "cell_type": "code",
   "execution_count": 72,
   "id": "ee22550a",
   "metadata": {},
   "outputs": [],
   "source": [
    "pred_probs = model.predict(valid_generator)"
   ]
  },
  {
   "cell_type": "code",
   "execution_count": 73,
   "id": "ac8939a8",
   "metadata": {},
   "outputs": [],
   "source": [
    "predictions = np.vstack((true_label, pred_probs[:,1])).T"
   ]
  },
  {
   "cell_type": "code",
   "execution_count": 74,
   "id": "cc93ce34",
   "metadata": {},
   "outputs": [],
   "source": [
    "TP, TN, FP, FN = 0, 0, 0, 0\n",
    "\n",
    "for tpl in predictions:\n",
    "    if tpl[0] == 0:\n",
    "        if tpl[1] < 0.5:\n",
    "            TN += 1\n",
    "        else:\n",
    "            FP += 1\n",
    "    else:\n",
    "        if tpl[1] < 0.5:\n",
    "            FN += 1\n",
    "        else:\n",
    "            TP += 1"
   ]
  },
  {
   "cell_type": "code",
   "execution_count": 75,
   "id": "174fe490",
   "metadata": {},
   "outputs": [
    {
     "name": "stdout",
     "output_type": "stream",
     "text": [
      "True Positive: 57\n",
      "True Negative: 323\n",
      "False Positive: 37\n",
      "False Negative: 59\n",
      "------------------------------\n",
      "Accuracy: 0.7983193277310925\n",
      "Precision: 0.6063829787234043\n",
      "Recall: 0.49137931034482757\n",
      "F-1 Score: 0.5428571428571428\n"
     ]
    }
   ],
   "source": [
    "np.seterr(divide='ignore', invalid='ignore')\n",
    "print(\"True Positive:\", TP)\n",
    "print(\"True Negative:\", TN)\n",
    "print(\"False Positive:\", FP)\n",
    "print(\"False Negative:\", FN)\n",
    "print(\"------------------------------\")\n",
    "print(\"Accuracy:\", (TP+TN)/(TP+TN+FP+FN))\n",
    "print(\"Precision:\", np.nan_to_num(np.divide(TP, TP+FP)))\n",
    "print(\"Recall:\", np.nan_to_num(np.divide(TP, TP+FN)))\n",
    "print(\"F-1 Score:\", 2*TP/(2*TP+FP+FN))"
   ]
  },
  {
   "cell_type": "code",
   "execution_count": null,
   "id": "63bfa73e",
   "metadata": {},
   "outputs": [],
   "source": []
  }
 ],
 "metadata": {
  "kernelspec": {
   "display_name": "Environment (conda_tensorflow2_latest_p37)",
   "language": "python",
   "name": "conda_tensorflow2_latest_p37"
  },
  "language_info": {
   "codemirror_mode": {
    "name": "ipython",
    "version": 3
   },
   "file_extension": ".py",
   "mimetype": "text/x-python",
   "name": "python",
   "nbconvert_exporter": "python",
   "pygments_lexer": "ipython3",
   "version": "3.7.10"
  }
 },
 "nbformat": 4,
 "nbformat_minor": 5
}
