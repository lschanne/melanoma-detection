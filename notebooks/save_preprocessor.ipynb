{
 "cells": [
  {
   "cell_type": "code",
   "execution_count": 1,
   "id": "c00c1754",
   "metadata": {},
   "outputs": [],
   "source": [
    "from sklearn.impute import SimpleImputer\n",
    "from sklearn.pipeline import FeatureUnion, Pipeline\n",
    "from sklearn.preprocessing import MinMaxScaler, OneHotEncoder\n",
    "from sklearn.model_selection import train_test_split\n",
    "import pandas as pd\n",
    "from pickle import dump"
   ]
  },
  {
   "cell_type": "code",
   "execution_count": 2,
   "id": "a1ef7c62",
   "metadata": {},
   "outputs": [],
   "source": [
    "import sys\n",
    "sys.path.append('/home/ubuntu/w210_melanoma/melanoma-detection')"
   ]
  },
  {
   "cell_type": "code",
   "execution_count": 3,
   "id": "0a718f30",
   "metadata": {},
   "outputs": [],
   "source": [
    "from melanoma_detection.preprocessor import ColumnSelector, Encoder"
   ]
  },
  {
   "cell_type": "code",
   "execution_count": 4,
   "id": "f309e83e",
   "metadata": {},
   "outputs": [],
   "source": [
    "df = pd.read_csv(\n",
    "    '/home/ubuntu/w210_melanoma/melanoma-detection/concatenated_whole.csv.gz', \n",
    "    compression='gzip',\n",
    "    error_bad_lines=False,\n",
    ")\n",
    "\n",
    "drop_col = ['image_name','patient_id', 'diagnosis', 'benign_malignant']\n",
    "data = df.drop(drop_col,axis = 1)\n",
    "train, test = train_test_split(data, test_size = 0.2, random_state = 0)\n",
    "\n",
    "X_train = train.drop(['target'], axis=1)\n",
    "y_train = train['target']\n",
    "X_test = test.drop(['target'], axis=1)\n",
    "y_test = test['target']\n",
    "\n",
    "cat = ['sex','anatom_site_general_challenge' ]\n",
    "num = list(X_train.columns.values)\n",
    "num = [elm for elm in num if elm not in cat]"
   ]
  },
  {
   "cell_type": "code",
   "execution_count": 5,
   "id": "8d5d54a2",
   "metadata": {},
   "outputs": [],
   "source": [
    "cat_pipe = Pipeline([\n",
    "    ('selector', ColumnSelector(cat)),\n",
    "    ('fill_na', SimpleImputer(strategy='constant', fill_value='unknown')),\n",
    "    ('label_encoder', Encoder()),\n",
    "    ('encoder', OneHotEncoder(handle_unknown='ignore', sparse=False)),\n",
    "])\n",
    "\n",
    "# Define numerical pipeline\n",
    "num_pipe = Pipeline([\n",
    "    ('selector', ColumnSelector(num)),\n",
    "    ('fill_na', SimpleImputer(strategy='mean')),\n",
    "    ('scaler', MinMaxScaler()),\n",
    "])\n",
    "\n",
    "# Combine categorical and numerical pipeline\n",
    "preprocessor = FeatureUnion([\n",
    "    ('cat', cat_pipe),\n",
    "    ('num', num_pipe),\n",
    "])"
   ]
  },
  {
   "cell_type": "code",
   "execution_count": 6,
   "id": "752b7cb2",
   "metadata": {},
   "outputs": [],
   "source": [
    "X_train_trasform = preprocessor.fit_transform(X_train)\n",
    "# X_train_fin = pd.DataFrame(X_train_trasform)\n",
    "\n",
    "X_test_trasform = preprocessor.transform(X_test)\n",
    "X_test_fin = pd.DataFrame(X_test_trasform)\n",
    "\n",
    "dump(preprocessor, open('/home/ubuntu/preprocessor.pkl', 'wb'))"
   ]
  },
  {
   "cell_type": "code",
   "execution_count": 7,
   "id": "d99d3092",
   "metadata": {},
   "outputs": [
    {
     "name": "stdout",
     "output_type": "stream",
     "text": [
      "True\n"
     ]
    }
   ],
   "source": [
    "from pickle import load\n",
    "preprocessor2 = load(open('/home/ubuntu/preprocessor.pkl', 'rb'))\n",
    "X_test_fin_2 = pd.DataFrame(preprocessor2.transform(X_test))\n",
    "print((X_test_fin.values==X_test_fin_2.values).all())"
   ]
  },
  {
   "cell_type": "code",
   "execution_count": 8,
   "id": "c6e15ae5",
   "metadata": {},
   "outputs": [],
   "source": [
    "X_test_fin.to_csv('/home/ubuntu/X_test_fin.csv')"
   ]
  }
 ],
 "metadata": {
  "kernelspec": {
   "display_name": "Environment (conda_tensorflow2_latest_p37)",
   "language": "python",
   "name": "conda_tensorflow2_latest_p37"
  },
  "language_info": {
   "codemirror_mode": {
    "name": "ipython",
    "version": 3
   },
   "file_extension": ".py",
   "mimetype": "text/x-python",
   "name": "python",
   "nbconvert_exporter": "python",
   "pygments_lexer": "ipython3",
   "version": "3.7.10"
  }
 },
 "nbformat": 4,
 "nbformat_minor": 5
}
