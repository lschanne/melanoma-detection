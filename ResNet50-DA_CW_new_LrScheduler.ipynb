{
 "cells": [
  {
   "cell_type": "markdown",
   "id": "f1c950e7",
   "metadata": {},
   "source": [
    "# Import packages"
   ]
  },
  {
   "cell_type": "code",
   "execution_count": 1,
   "id": "881c46de",
   "metadata": {},
   "outputs": [],
   "source": [
    "import os\n",
    "import re\n",
    "import glob\n",
    "import pathlib\n",
    "import time\n",
    "import math\n",
    "import numpy as np\n",
    "import pandas as pd\n",
    "import matplotlib.pyplot as plt\n",
    "%matplotlib inline\n",
    "\n",
    "import cv2\n",
    "\n",
    "import PIL\n",
    "from PIL import Image\n",
    "\n",
    "from sklearn.model_selection import train_test_split\n",
    "from sklearn.utils import class_weight\n",
    "\n",
    "from collections import Counter\n",
    "\n",
    "from warnings import filterwarnings\n",
    "filterwarnings('ignore')"
   ]
  },
  {
   "cell_type": "code",
   "execution_count": 2,
   "id": "86a2c1a0",
   "metadata": {},
   "outputs": [],
   "source": [
    "SEED=123\n",
    "np.random.seed(SEED)"
   ]
  },
  {
   "cell_type": "code",
   "execution_count": 3,
   "id": "6ae54722",
   "metadata": {},
   "outputs": [],
   "source": [
    "import tensorflow as tf\n",
    "from tensorflow import keras\n",
    "from tensorflow.keras import layers\n",
    "from tensorflow.keras.models import Model,Sequential\n",
    "from tensorflow.keras.optimizers import Adam, SGD, RMSprop\n",
    "from tensorflow.keras.layers import Dropout, BatchNormalization\n",
    "from tensorflow.keras.layers import (\n",
    "    Input, Dense, Conv2D, Flatten, Activation, \n",
    "    MaxPooling2D, AveragePooling2D, ZeroPadding2D, GlobalAveragePooling2D, GlobalMaxPooling2D, add\n",
    ")\n",
    "\n",
    "from tensorflow.python.keras.callbacks import EarlyStopping, ModelCheckpoint\n",
    "from tensorflow.keras.preprocessing import image\n",
    "from tensorflow.keras.preprocessing.image import ImageDataGenerator\n",
    "\n",
    "from tensorflow.keras.utils import plot_model\n",
    "\n",
    "from tensorflow.keras.applications.vgg19 import VGG19\n",
    "from tensorflow.keras.applications.vgg19 import preprocess_input\n",
    "from tensorflow.keras.applications.resnet50 import ResNet50\n",
    "from tensorflow.keras.applications.resnet50 import preprocess_input\n",
    "from tensorflow.keras.applications.inception_v3 import InceptionV3\n",
    "from tensorflow.keras.models import load_model"
   ]
  },
  {
   "cell_type": "markdown",
   "id": "dffe9d14",
   "metadata": {},
   "source": [
    "# Set path"
   ]
  },
  {
   "cell_type": "code",
   "execution_count": 4,
   "id": "796d5915",
   "metadata": {},
   "outputs": [],
   "source": [
    "BASEPATH = '/home/ubuntu/w210_melanoma/data'\n",
    "\n",
    "df_train_full = pd.read_csv(os.path.join(BASEPATH, 'metadata_train.csv'))\n",
    "\n",
    "train_path = BASEPATH + '/train'\n",
    "train_dir = pathlib.Path(train_path)\n",
    "\n",
    "test_path = BASEPATH + '/ISIC_2020_Test_Input'\n",
    "test_dir = pathlib.Path(test_path)"
   ]
  },
  {
   "cell_type": "markdown",
   "id": "577bddcf",
   "metadata": {},
   "source": [
    "# Configurations"
   ]
  },
  {
   "cell_type": "code",
   "execution_count": 5,
   "id": "f95de8d2",
   "metadata": {},
   "outputs": [],
   "source": [
    "CFG = dict(\n",
    "        batch_size        =  16,     \n",
    "        epochs            =  20, #10,  \n",
    "        verbose           =   1,   \n",
    "        workers           =   4,   \n",
    "\n",
    "        optimizer         = 'adam', \n",
    "\n",
    "        RANDOM_STATE      =  123,   \n",
    "    \n",
    "        # Path to save a model\n",
    "        path_model        = '/home/ubuntu/w210_melanoma/model/',\n",
    "\n",
    "        # Images sizes\n",
    "        img_size          = 224, \n",
    "        img_height        = 224, \n",
    "        img_width         = 224, \n",
    "\n",
    "        # Postprocessing\n",
    "        label_smooth_fac  =  0.00,      \n",
    ")"
   ]
  },
  {
   "cell_type": "markdown",
   "id": "e4413737",
   "metadata": {},
   "source": [
    "# Data split and generation"
   ]
  },
  {
   "cell_type": "code",
   "execution_count": 6,
   "id": "617cdacb",
   "metadata": {},
   "outputs": [],
   "source": [
    "#train_generator = ImageDataGenerator(rescale=1./255, validation_split=0.2)\n",
    "#valid_generator = ImageDataGenerator(rescale=1./255, validation_split=0.2)"
   ]
  },
  {
   "cell_type": "code",
   "execution_count": 7,
   "id": "25a88682",
   "metadata": {},
   "outputs": [],
   "source": [
    "train_generator = ImageDataGenerator(\n",
    "                  rescale=1./255, \n",
    "                  validation_split=0.2,\n",
    "                  rotation_range=45, # was Rotate 90 degree\n",
    "                  horizontal_flip=True, # new\n",
    "                  vertical_flip=True, # new \n",
    "                  samplewise_std_normalization=True , # Boolean. Divide each input by its std.\n",
    "                  width_shift_range=0.3,\n",
    "                  height_shift_range=0.3,\n",
    "                  brightness_range=[0.2,1.0]\n",
    "                  ) \n",
    "valid_generator = ImageDataGenerator(rescale=1./255, validation_split=0.2)"
   ]
  },
  {
   "cell_type": "code",
   "execution_count": 8,
   "id": "f9b77422",
   "metadata": {},
   "outputs": [
    {
     "name": "stdout",
     "output_type": "stream",
     "text": [
      "Found 26502 images belonging to 2 classes.\n",
      "Found 6624 images belonging to 2 classes.\n"
     ]
    }
   ],
   "source": [
    "train_generator = train_generator.flow_from_directory(train_dir,\n",
    "                                                    subset='training',                  \n",
    "                                                    target_size=(CFG['img_size'], CFG['img_size']),\n",
    "                                                    batch_size = CFG['batch_size'],\n",
    "                                                    class_mode='categorical',\n",
    "                                                    shuffle=True\n",
    "                                                    )\n",
    "\n",
    "\n",
    "valid_generator = valid_generator.flow_from_directory(train_dir,\n",
    "                                                     subset='validation',              \n",
    "                                                     target_size=(CFG['img_size'], CFG['img_size']),\n",
    "                                                     batch_size = 1,\n",
    "                                                     class_mode='categorical',\n",
    "                                                     shuffle=False\n",
    "                                                     )"
   ]
  },
  {
   "cell_type": "code",
   "execution_count": 9,
   "id": "eb70acdc",
   "metadata": {},
   "outputs": [
    {
     "data": {
      "text/plain": [
       "0.017512077294685992"
      ]
     },
     "execution_count": 9,
     "metadata": {},
     "output_type": "execute_result"
    }
   ],
   "source": [
    "np.mean(valid_generator.classes)"
   ]
  },
  {
   "cell_type": "markdown",
   "id": "19c8528d",
   "metadata": {},
   "source": [
    "# Build the ResNet50"
   ]
  },
  {
   "cell_type": "code",
   "execution_count": 10,
   "id": "7ee153b5",
   "metadata": {},
   "outputs": [
    {
     "name": "stdout",
     "output_type": "stream",
     "text": [
      "Extension horovod.torch has not been built: /home/ubuntu/anaconda3/envs/tensorflow2_latest_p37/lib/python3.7/site-packages/horovod/torch/mpi_lib/_mpi_lib.cpython-37m-x86_64-linux-gnu.so not found\n",
      "If this is not expected, reinstall Horovod with HOROVOD_WITH_PYTORCH=1 to debug the build error.\n",
      "Warning! MPI libs are missing, but python applications are still avaiable.\n",
      "[2021-10-16 15:19:29.254 ip-172-31-94-192:2150 INFO utils.py:27] RULE_JOB_STOP_SIGNAL_FILENAME: None\n",
      "[2021-10-16 15:19:29.313 ip-172-31-94-192:2150 INFO profiler_config_parser.py:102] Unable to find config at /opt/ml/input/config/profilerconfig.json. Profiler is disabled.\n"
     ]
    }
   ],
   "source": [
    "model = load_model('/home/ubuntu/w210_melanoma/model/ResNet50-DA-whole-CW-new-lrsch-04-0.8933.hdf5')"
   ]
  },
  {
   "cell_type": "code",
   "execution_count": 11,
   "id": "38af34ec",
   "metadata": {},
   "outputs": [],
   "source": [
    "model.compile(\n",
    "    optimizer = CFG['optimizer'],\n",
    "    loss = tf.keras.losses.BinaryCrossentropy(label_smoothing = CFG['label_smooth_fac']),\n",
    "    #loss = 'binary_crossentropy',\n",
    "    metrics=['accuracy']\n",
    ")"
   ]
  },
  {
   "cell_type": "code",
   "execution_count": 12,
   "id": "e1561a9e",
   "metadata": {},
   "outputs": [],
   "source": [
    "model.layers[0].trainable = False"
   ]
  },
  {
   "cell_type": "code",
   "execution_count": 13,
   "id": "3db865f6",
   "metadata": {},
   "outputs": [
    {
     "name": "stdout",
     "output_type": "stream",
     "text": [
      "Model: \"sequential\"\n",
      "_________________________________________________________________\n",
      "Layer (type)                 Output Shape              Param #   \n",
      "=================================================================\n",
      "resnet50 (Functional)        (None, 7, 7, 2048)        23587712  \n",
      "_________________________________________________________________\n",
      "global_average_pooling2d (Gl (None, 2048)              0         \n",
      "_________________________________________________________________\n",
      "dense (Dense)                (None, 2)                 4098      \n",
      "=================================================================\n",
      "Total params: 23,591,810\n",
      "Trainable params: 4,098\n",
      "Non-trainable params: 23,587,712\n",
      "_________________________________________________________________\n"
     ]
    }
   ],
   "source": [
    "model.summary()"
   ]
  },
  {
   "cell_type": "markdown",
   "id": "8dba91ec",
   "metadata": {},
   "source": [
    "# Fit model"
   ]
  },
  {
   "cell_type": "code",
   "execution_count": 14,
   "id": "9c643124",
   "metadata": {},
   "outputs": [],
   "source": [
    "def get_lr_callback(batch_size=16):\n",
    "    lr_start   = 0.000005\n",
    "    lr_max     = 0.001\n",
    "    lr_min     = 0.000001\n",
    "    lr_ramp_ep = 5\n",
    "    lr_sus_ep  = 0\n",
    "    lr_decay   = 0.8\n",
    "   \n",
    "    def lrfn(epoch):\n",
    "        if epoch < lr_ramp_ep:\n",
    "            lr = (lr_max - lr_start) / lr_ramp_ep * epoch + lr_start\n",
    "            \n",
    "        elif epoch < lr_ramp_ep + lr_sus_ep:\n",
    "            lr = lr_max\n",
    "            \n",
    "        else:\n",
    "            lr = (lr_max - lr_min) * lr_decay**(epoch - lr_ramp_ep - lr_sus_ep) + lr_min\n",
    "            \n",
    "        return lr\n",
    "\n",
    "    lr_callback = tf.keras.callbacks.LearningRateScheduler(lrfn, verbose=False)\n",
    "    return lr_callback"
   ]
  },
  {
   "cell_type": "code",
   "execution_count": 15,
   "id": "e2435a0c",
   "metadata": {},
   "outputs": [
    {
     "name": "stdout",
     "output_type": "stream",
     "text": [
      "Epoch 1/20\n",
      "1657/1657 [==============================] - 2294s 1s/step - loss: 1.6939 - accuracy: 0.5095 - val_loss: 0.2693 - val_accuracy: 0.8795\n",
      "\n",
      "Epoch 00001: val_accuracy improved from -inf to 0.87953, saving model to /home/ubuntu/w210_melanoma/model/ResNet50-DA-whole-CW-new-lrsch-01-0.8795.hdf5\n",
      "Epoch 2/20\n",
      "1657/1657 [==============================] - 2289s 1s/step - loss: 1.5911 - accuracy: 0.4295 - val_loss: 0.2900 - val_accuracy: 0.8569\n",
      "\n",
      "Epoch 00002: val_accuracy did not improve from 0.87953\n",
      "Epoch 3/20\n",
      "1657/1657 [==============================] - 2281s 1s/step - loss: 1.6210 - accuracy: 0.4436 - val_loss: 0.2770 - val_accuracy: 0.8871\n",
      "\n",
      "Epoch 00003: val_accuracy improved from 0.87953 to 0.88708, saving model to /home/ubuntu/w210_melanoma/model/ResNet50-DA-whole-CW-new-lrsch-03-0.8871.hdf5\n",
      "Epoch 4/20\n",
      "1657/1657 [==============================] - 2341s 1s/step - loss: 1.7102 - accuracy: 0.4877 - val_loss: 0.3557 - val_accuracy: 0.8039\n",
      "\n",
      "Epoch 00004: val_accuracy did not improve from 0.88708\n",
      "Epoch 5/20\n",
      "1657/1657 [==============================] - 2294s 1s/step - loss: 1.8011 - accuracy: 0.4445 - val_loss: 0.4130 - val_accuracy: 0.7634\n",
      "\n",
      "Epoch 00005: val_accuracy did not improve from 0.88708\n",
      "Epoch 6/20\n",
      "1657/1657 [==============================] - 2352s 1s/step - loss: 1.6404 - accuracy: 0.5056 - val_loss: 0.3590 - val_accuracy: 0.7843\n",
      "\n",
      "Epoch 00006: val_accuracy did not improve from 0.88708\n",
      "Epoch 7/20\n",
      "1657/1657 [==============================] - 2310s 1s/step - loss: 1.8670 - accuracy: 0.4643 - val_loss: 0.3842 - val_accuracy: 0.7604\n",
      "\n",
      "Epoch 00007: val_accuracy did not improve from 0.88708\n",
      "Epoch 8/20\n",
      "1657/1657 [==============================] - 2296s 1s/step - loss: 1.5394 - accuracy: 0.5443 - val_loss: 0.3068 - val_accuracy: 0.8158\n",
      "\n",
      "Epoch 00008: val_accuracy did not improve from 0.88708\n",
      "Epoch 9/20\n",
      "1657/1657 [==============================] - 2299s 1s/step - loss: 1.5756 - accuracy: 0.5118 - val_loss: 0.3107 - val_accuracy: 0.8140\n",
      "\n",
      "Epoch 00009: val_accuracy did not improve from 0.88708\n",
      "Epoch 10/20\n",
      "1657/1657 [==============================] - 2332s 1s/step - loss: 1.5614 - accuracy: 0.5098 - val_loss: 0.3514 - val_accuracy: 0.7893\n",
      "\n",
      "Epoch 00010: val_accuracy did not improve from 0.88708\n",
      "Epoch 11/20\n",
      "1657/1657 [==============================] - 2290s 1s/step - loss: 1.5231 - accuracy: 0.5146 - val_loss: 0.3308 - val_accuracy: 0.8031\n",
      "\n",
      "Epoch 00011: val_accuracy did not improve from 0.88708\n",
      "Epoch 12/20\n",
      "1657/1657 [==============================] - 2381s 1s/step - loss: 1.4936 - accuracy: 0.5130 - val_loss: 0.3549 - val_accuracy: 0.7965\n",
      "\n",
      "Epoch 00012: val_accuracy did not improve from 0.88708\n",
      "Epoch 13/20\n",
      "1657/1657 [==============================] - 2360s 1s/step - loss: 1.4747 - accuracy: 0.5277 - val_loss: 0.3289 - val_accuracy: 0.8087\n",
      "\n",
      "Epoch 00013: val_accuracy did not improve from 0.88708\n",
      "Epoch 14/20\n",
      "1657/1657 [==============================] - 2332s 1s/step - loss: 1.3910 - accuracy: 0.5478 - val_loss: 0.3036 - val_accuracy: 0.8284\n",
      "\n",
      "Epoch 00014: val_accuracy did not improve from 0.88708\n",
      "Epoch 15/20\n",
      "1657/1657 [==============================] - 2330s 1s/step - loss: 1.4185 - accuracy: 0.5363 - val_loss: 0.3324 - val_accuracy: 0.8072\n",
      "\n",
      "Epoch 00015: val_accuracy did not improve from 0.88708\n",
      "Epoch 16/20\n",
      "1657/1657 [==============================] - 2328s 1s/step - loss: 1.4449 - accuracy: 0.5257 - val_loss: 0.3417 - val_accuracy: 0.8015\n",
      "\n",
      "Epoch 00016: val_accuracy did not improve from 0.88708\n",
      "Epoch 17/20\n",
      "1657/1657 [==============================] - 2297s 1s/step - loss: 1.4107 - accuracy: 0.5305 - val_loss: 0.3202 - val_accuracy: 0.8151\n",
      "\n",
      "Epoch 00017: val_accuracy did not improve from 0.88708\n",
      "Epoch 18/20\n",
      "1657/1657 [==============================] - 2297s 1s/step - loss: 1.4197 - accuracy: 0.5302 - val_loss: 0.3284 - val_accuracy: 0.8101\n",
      "\n",
      "Epoch 00018: val_accuracy did not improve from 0.88708\n",
      "Epoch 19/20\n",
      "1657/1657 [==============================] - 2403s 1s/step - loss: 1.4578 - accuracy: 0.5245 - val_loss: 0.3249 - val_accuracy: 0.8116\n",
      "\n",
      "Epoch 00019: val_accuracy did not improve from 0.88708\n",
      "Epoch 20/20\n",
      "1657/1657 [==============================] - 2318s 1s/step - loss: 1.3697 - accuracy: 0.5381 - val_loss: 0.3278 - val_accuracy: 0.8099\n",
      "\n",
      "Epoch 00020: val_accuracy did not improve from 0.88708\n"
     ]
    }
   ],
   "source": [
    "#cb_early_stopper = EarlyStopping(monitor = 'val_loss', patience = 10)\n",
    "cb_checkpointer  = ModelCheckpoint(filepath = CFG['path_model']+'ResNet50-DA-whole-CW-new-lrsch-{epoch:02d}-{val_accuracy:.4f}.hdf5',\n",
    "                                   monitor  = 'val_accuracy', \n",
    "                                   verbose  = CFG['verbose'], \n",
    "                                   save_best_only=True, \n",
    "                                   mode='max'\n",
    "                                  )\n",
    "\n",
    "callbacks_list = [get_lr_callback(), cb_checkpointer]\n",
    "\n",
    "history = model.fit(train_generator, \n",
    "                    epochs=CFG['epochs'], \n",
    "                    workers=CFG['workers'],\n",
    "                    validation_data=valid_generator, \n",
    "                    callbacks = callbacks_list,\n",
    "                    class_weight = {0: 1, 1: 100}\n",
    "                            )"
   ]
  },
  {
   "cell_type": "code",
   "execution_count": 16,
   "id": "b496f794",
   "metadata": {},
   "outputs": [
    {
     "data": {
      "image/png": "[encoded data removed]",
      "text/plain": [
       "<Figure size 1656x576 with 2 Axes>"
      ]
     },
     "metadata": {
      "needs_background": "light"
     },
     "output_type": "display_data"
    }
   ],
   "source": [
    "acc = history.history['accuracy']\n",
    "val_acc = history.history['val_accuracy']\n",
    "\n",
    "loss = history.history['loss']\n",
    "val_loss = history.history['val_loss']\n",
    "\n",
    "metrics = history.history['accuracy']\n",
    "epochs_range = range(1, len(metrics) + 1) \n",
    "\n",
    "plt.figure(figsize=(23, 8))\n",
    "plt.subplot(1, 2, 1)\n",
    "plt.plot(epochs_range, acc, label='Training Accuracy')\n",
    "plt.plot(epochs_range, val_acc, label='Validation Accuracy')\n",
    "plt.legend(loc='lower right')\n",
    "plt.title('Training and Validation Accuracy')\n",
    "\n",
    "plt.subplot(1, 2, 2)\n",
    "plt.plot(epochs_range, loss, label='Training Loss')\n",
    "plt.plot(epochs_range, val_loss, label='Validation Loss')\n",
    "plt.ylim([0, 2])\n",
    "plt.legend(loc='upper right')\n",
    "plt.title('Training and Validation Loss')\n",
    "plt.show()"
   ]
  },
  {
   "cell_type": "markdown",
   "id": "8a25608c",
   "metadata": {},
   "source": [
    "# Make predictions on the Validation set and analyze the results"
   ]
  },
  {
   "cell_type": "code",
   "execution_count": 42,
   "id": "cd2f32cf",
   "metadata": {},
   "outputs": [],
   "source": [
    "model = load_model('/home/ubuntu/w210_melanoma/model/ResNet50-DA-whole-CW-new-lrsch-03-0.8871.hdf5')"
   ]
  },
  {
   "cell_type": "code",
   "execution_count": 43,
   "id": "575dd5a2",
   "metadata": {},
   "outputs": [
    {
     "name": "stdout",
     "output_type": "stream",
     "text": [
      "Model: \"sequential\"\n",
      "_________________________________________________________________\n",
      "Layer (type)                 Output Shape              Param #   \n",
      "=================================================================\n",
      "resnet50 (Functional)        (None, 7, 7, 2048)        23587712  \n",
      "_________________________________________________________________\n",
      "global_average_pooling2d (Gl (None, 2048)              0         \n",
      "_________________________________________________________________\n",
      "dense (Dense)                (None, 2)                 4098      \n",
      "=================================================================\n",
      "Total params: 23,591,810\n",
      "Trainable params: 4,098\n",
      "Non-trainable params: 23,587,712\n",
      "_________________________________________________________________\n"
     ]
    }
   ],
   "source": [
    "model.summary()"
   ]
  },
  {
   "cell_type": "code",
   "execution_count": 44,
   "id": "f767fa22",
   "metadata": {},
   "outputs": [],
   "source": [
    "true_label = valid_generator.classes"
   ]
  },
  {
   "cell_type": "code",
   "execution_count": 45,
   "id": "777fc467",
   "metadata": {},
   "outputs": [],
   "source": [
    "pred_probs = model.predict(valid_generator)"
   ]
  },
  {
   "cell_type": "code",
   "execution_count": 46,
   "id": "c798b2c7",
   "metadata": {},
   "outputs": [],
   "source": [
    "predictions = np.vstack((true_label, pred_probs[:,1])).T"
   ]
  },
  {
   "cell_type": "code",
   "execution_count": 57,
   "id": "cf014c35",
   "metadata": {},
   "outputs": [],
   "source": [
    "TP, TN, FP, FN = 0, 0, 0, 0\n",
    "\n",
    "for tpl in predictions:\n",
    "    if tpl[0] == 0:\n",
    "        if tpl[1] < 0.4:\n",
    "            TN += 1\n",
    "        else:\n",
    "            FP += 1\n",
    "    else:\n",
    "        if tpl[1] < 0.4:\n",
    "            FN += 1\n",
    "        else:\n",
    "            TP += 1"
   ]
  },
  {
   "cell_type": "code",
   "execution_count": 58,
   "id": "4824e0d7",
   "metadata": {},
   "outputs": [
    {
     "name": "stdout",
     "output_type": "stream",
     "text": [
      "True Positive: 74\n",
      "True Negative: 5245\n",
      "False Positive: 1263\n",
      "False Negative: 42\n",
      "------------------------------\n",
      "Accuracy: 0.8029891304347826\n",
      "Precision: 0.055347793567688854\n",
      "Recall: 0.6379310344827587\n",
      "F-1 Score: 0.1018582243633861\n"
     ]
    }
   ],
   "source": [
    "np.seterr(divide='ignore', invalid='ignore')\n",
    "print(\"True Positive:\", TP)\n",
    "print(\"True Negative:\", TN)\n",
    "print(\"False Positive:\", FP)\n",
    "print(\"False Negative:\", FN)\n",
    "print(\"------------------------------\")\n",
    "print(\"Accuracy:\", (TP+TN)/(TP+TN+FP+FN))\n",
    "print(\"Precision:\", np.nan_to_num(np.divide(TP, TP+FP)))\n",
    "print(\"Recall:\", np.nan_to_num(np.divide(TP, TP+FN)))\n",
    "print(\"F-1 Score:\", 2*TP/(2*TP+FP+FN))"
   ]
  },
  {
   "cell_type": "code",
   "execution_count": null,
   "id": "49e47789",
   "metadata": {},
   "outputs": [],
   "source": []
  }
 ],
 "metadata": {
  "kernelspec": {
   "display_name": "Environment (conda_tensorflow2_latest_p37)",
   "language": "python",
   "name": "conda_tensorflow2_latest_p37"
  },
  "language_info": {
   "codemirror_mode": {
    "name": "ipython",
    "version": 3
   },
   "file_extension": ".py",
   "mimetype": "text/x-python",
   "name": "python",
   "nbconvert_exporter": "python",
   "pygments_lexer": "ipython3",
   "version": "3.7.10"
  }
 },
 "nbformat": 4,
 "nbformat_minor": 5
}
