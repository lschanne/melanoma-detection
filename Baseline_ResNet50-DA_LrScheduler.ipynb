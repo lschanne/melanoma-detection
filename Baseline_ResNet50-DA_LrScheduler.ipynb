{
 "cells": [
  {
   "cell_type": "markdown",
   "id": "f1c950e7",
   "metadata": {},
   "source": [
    "# Import packages"
   ]
  },
  {
   "cell_type": "code",
   "execution_count": 54,
   "id": "881c46de",
   "metadata": {},
   "outputs": [],
   "source": [
    "import os\n",
    "import re\n",
    "import glob\n",
    "import pathlib\n",
    "import time\n",
    "import math\n",
    "import numpy as np\n",
    "import pandas as pd\n",
    "import matplotlib.pyplot as plt\n",
    "%matplotlib inline\n",
    "\n",
    "import cv2\n",
    "\n",
    "import PIL\n",
    "from PIL import Image\n",
    "\n",
    "from sklearn.model_selection import train_test_split\n",
    "from sklearn.utils import class_weight\n",
    "\n",
    "from collections import Counter\n",
    "\n",
    "from warnings import filterwarnings\n",
    "filterwarnings('ignore')"
   ]
  },
  {
   "cell_type": "code",
   "execution_count": 55,
   "id": "86a2c1a0",
   "metadata": {},
   "outputs": [],
   "source": [
    "SEED=123\n",
    "np.random.seed(SEED)"
   ]
  },
  {
   "cell_type": "code",
   "execution_count": 56,
   "id": "6ae54722",
   "metadata": {},
   "outputs": [],
   "source": [
    "import tensorflow as tf\n",
    "from tensorflow import keras\n",
    "from tensorflow.keras import layers\n",
    "from tensorflow.keras.models import Model,Sequential\n",
    "from tensorflow.keras.optimizers import Adam, SGD, RMSprop\n",
    "from tensorflow.keras.layers import Dropout, BatchNormalization\n",
    "from tensorflow.keras.layers import (\n",
    "    Input, Dense, Conv2D, Flatten, Activation, \n",
    "    MaxPooling2D, AveragePooling2D, ZeroPadding2D, GlobalAveragePooling2D, GlobalMaxPooling2D, add\n",
    ")\n",
    "\n",
    "from tensorflow.python.keras.callbacks import EarlyStopping, ModelCheckpoint\n",
    "from tensorflow.keras.preprocessing import image\n",
    "from tensorflow.keras.preprocessing.image import ImageDataGenerator\n",
    "\n",
    "from tensorflow.keras.utils import plot_model\n",
    "\n",
    "from tensorflow.keras.applications.vgg19 import VGG19\n",
    "from tensorflow.keras.applications.vgg19 import preprocess_input\n",
    "from tensorflow.keras.applications.resnet50 import ResNet50\n",
    "from tensorflow.keras.applications.resnet50 import preprocess_input\n",
    "from tensorflow.keras.applications.inception_v3 import InceptionV3"
   ]
  },
  {
   "cell_type": "markdown",
   "id": "dffe9d14",
   "metadata": {},
   "source": [
    "# Set path"
   ]
  },
  {
   "cell_type": "code",
   "execution_count": 57,
   "id": "796d5915",
   "metadata": {},
   "outputs": [],
   "source": [
    "BASEPATH = '/home/ubuntu/w210_melanoma/data'\n",
    "\n",
    "df_train_full = pd.read_csv(os.path.join(BASEPATH, 'metadata_train.csv'))\n",
    "\n",
    "train_path = BASEPATH + '/train'\n",
    "train_dir = pathlib.Path(train_path)\n",
    "\n",
    "test_path = BASEPATH + '/ISIC_2020_Test_Input'\n",
    "test_dir = pathlib.Path(test_path)"
   ]
  },
  {
   "cell_type": "markdown",
   "id": "577bddcf",
   "metadata": {},
   "source": [
    "# Configurations"
   ]
  },
  {
   "cell_type": "code",
   "execution_count": 58,
   "id": "f95de8d2",
   "metadata": {},
   "outputs": [],
   "source": [
    "CFG = dict(\n",
    "        batch_size        =  16,     \n",
    "        epochs            =  50, #10,  \n",
    "        verbose           =   1,   \n",
    "        workers           =   4,   \n",
    "\n",
    "        optimizer         = 'adam', \n",
    "\n",
    "        RANDOM_STATE      =  123,   \n",
    "    \n",
    "        # Path to save a model\n",
    "        path_model        = '/home/ubuntu/w210_melanoma/model/',\n",
    "\n",
    "        # Images sizes\n",
    "        img_size          = 224, \n",
    "        img_height        = 224, \n",
    "        img_width         = 224, \n",
    "\n",
    "        # Postprocessing\n",
    "        label_smooth_fac  =  0.00,      \n",
    ")"
   ]
  },
  {
   "cell_type": "markdown",
   "id": "e4413737",
   "metadata": {},
   "source": [
    "# Data split and generation"
   ]
  },
  {
   "cell_type": "code",
   "execution_count": 59,
   "id": "617cdacb",
   "metadata": {},
   "outputs": [],
   "source": [
    "#train_generator = ImageDataGenerator(rescale=1./255, validation_split=0.2)\n",
    "#valid_generator = ImageDataGenerator(rescale=1./255, validation_split=0.2)"
   ]
  },
  {
   "cell_type": "code",
   "execution_count": 60,
   "id": "25a88682",
   "metadata": {},
   "outputs": [],
   "source": [
    "train_generator = ImageDataGenerator(\n",
    "                  rescale=1./255, \n",
    "                  validation_split=0.2,\n",
    "                  rotation_range=90, # Rotate 90 degree\n",
    "                  width_shift_range=0.3,\n",
    "                  height_shift_range=0.3,\n",
    "                  brightness_range=[0.2,1.0],\n",
    "                  horizontal_flip = True,\n",
    "                  vertical_flip = True,\n",
    "                  )\n",
    "valid_generator = ImageDataGenerator(rescale=1./255, validation_split=0.2)"
   ]
  },
  {
   "cell_type": "code",
   "execution_count": 61,
   "id": "f9b77422",
   "metadata": {},
   "outputs": [
    {
     "name": "stdout",
     "output_type": "stream",
     "text": [
      "Found 26502 images belonging to 2 classes.\n",
      "Found 6624 images belonging to 2 classes.\n"
     ]
    }
   ],
   "source": [
    "train_generator = train_generator.flow_from_directory(train_dir,\n",
    "                                                    subset='training',                  \n",
    "                                                    target_size=(CFG['img_size'], CFG['img_size']),\n",
    "                                                    batch_size = CFG['batch_size'],\n",
    "                                                    class_mode='categorical',\n",
    "                                                    shuffle=True\n",
    "                                                    )\n",
    "\n",
    "\n",
    "valid_generator = valid_generator.flow_from_directory(train_dir,\n",
    "                                                     subset='validation',              \n",
    "                                                     target_size=(CFG['img_size'], CFG['img_size']),\n",
    "                                                     batch_size = CFG['batch_size'],\n",
    "                                                     class_mode='categorical',\n",
    "                                                     shuffle=True\n",
    "                                                     )"
   ]
  },
  {
   "cell_type": "markdown",
   "id": "19c8528d",
   "metadata": {},
   "source": [
    "# Build the ResNet50"
   ]
  },
  {
   "cell_type": "code",
   "execution_count": 62,
   "id": "7ee153b5",
   "metadata": {},
   "outputs": [],
   "source": [
    "model_ResNet50 = tf.keras.Sequential([\n",
    "     ResNet50(\n",
    "        input_shape=(224, 224,3),\n",
    "        weights='imagenet',\n",
    "        include_top=False\n",
    "    ),\n",
    "    \n",
    "    GlobalAveragePooling2D(),\n",
    "     \n",
    "    Dense(2, activation='softmax')\n",
    "    \n",
    "])"
   ]
  },
  {
   "cell_type": "code",
   "execution_count": 63,
   "id": "38af34ec",
   "metadata": {},
   "outputs": [],
   "source": [
    "model_ResNet50.compile(\n",
    "    optimizer = CFG['optimizer'],\n",
    "    loss = tf.keras.losses.BinaryCrossentropy(label_smoothing = CFG['label_smooth_fac']),\n",
    "    #loss = 'binary_crossentropy',\n",
    "    metrics=['accuracy']\n",
    ")"
   ]
  },
  {
   "cell_type": "code",
   "execution_count": 64,
   "id": "e1561a9e",
   "metadata": {},
   "outputs": [],
   "source": [
    "model_ResNet50.layers[0].trainable = False"
   ]
  },
  {
   "cell_type": "code",
   "execution_count": 65,
   "id": "3db865f6",
   "metadata": {},
   "outputs": [
    {
     "name": "stdout",
     "output_type": "stream",
     "text": [
      "Model: \"sequential_1\"\n",
      "_________________________________________________________________\n",
      "Layer (type)                 Output Shape              Param #   \n",
      "=================================================================\n",
      "resnet50 (Functional)        (None, 7, 7, 2048)        23587712  \n",
      "_________________________________________________________________\n",
      "global_average_pooling2d_1 ( (None, 2048)              0         \n",
      "_________________________________________________________________\n",
      "dense_1 (Dense)              (None, 2)                 4098      \n",
      "=================================================================\n",
      "Total params: 23,591,810\n",
      "Trainable params: 4,098\n",
      "Non-trainable params: 23,587,712\n",
      "_________________________________________________________________\n"
     ]
    }
   ],
   "source": [
    "model_ResNet50.summary()"
   ]
  },
  {
   "cell_type": "markdown",
   "id": "8dba91ec",
   "metadata": {},
   "source": [
    "# Fit model"
   ]
  },
  {
   "cell_type": "code",
   "execution_count": 66,
   "id": "9c643124",
   "metadata": {},
   "outputs": [],
   "source": [
    "def scheduler(epoch, lr):\n",
    "    if epoch < 10:\n",
    "        return lr\n",
    "    else:\n",
    "        return lr * tf.math.exp(-0.1)\n",
    "\n",
    "cb_lr_scheduler = tf.keras.callbacks.LearningRateScheduler(scheduler)"
   ]
  },
  {
   "cell_type": "code",
   "execution_count": 67,
   "id": "e2435a0c",
   "metadata": {},
   "outputs": [
    {
     "name": "stdout",
     "output_type": "stream",
     "text": [
      "Epoch 1/50\n",
      "1657/1657 [==============================] - 2358s 1s/step - loss: 0.1147 - accuracy: 0.9788 - val_loss: 0.0904 - val_accuracy: 0.9825\n",
      "\n",
      "Epoch 00001: val_loss improved from inf to 0.09045, saving model to /home/ubuntu/w210_melanoma/model/ResNet50-DA-whole-01-0.09.hdf5\n",
      "Epoch 2/50\n",
      "1657/1657 [==============================] - 2330s 1s/step - loss: 0.0959 - accuracy: 0.9812 - val_loss: 0.0961 - val_accuracy: 0.9825\n",
      "\n",
      "Epoch 00002: val_loss did not improve from 0.09045\n",
      "Epoch 3/50\n",
      "1657/1657 [==============================] - 2309s 1s/step - loss: 0.0959 - accuracy: 0.9810 - val_loss: 0.0928 - val_accuracy: 0.9825\n",
      "\n",
      "Epoch 00003: val_loss did not improve from 0.09045\n",
      "Epoch 4/50\n",
      "1657/1657 [==============================] - 2324s 1s/step - loss: 0.0910 - accuracy: 0.9823 - val_loss: 0.1190 - val_accuracy: 0.9825\n",
      "\n",
      "Epoch 00004: val_loss did not improve from 0.09045\n",
      "Epoch 5/50\n",
      "1657/1657 [==============================] - 2351s 1s/step - loss: 0.0893 - accuracy: 0.9824 - val_loss: 0.0951 - val_accuracy: 0.9825\n",
      "\n",
      "Epoch 00005: val_loss did not improve from 0.09045\n",
      "Epoch 6/50\n",
      "1657/1657 [==============================] - 2345s 1s/step - loss: 0.0884 - accuracy: 0.9827 - val_loss: 0.1201 - val_accuracy: 0.9825\n",
      "\n",
      "Epoch 00006: val_loss did not improve from 0.09045\n",
      "Epoch 7/50\n",
      "1657/1657 [==============================] - 2257s 1s/step - loss: 0.0866 - accuracy: 0.9833 - val_loss: 0.1264 - val_accuracy: 0.9825\n",
      "\n",
      "Epoch 00007: val_loss did not improve from 0.09045\n",
      "Epoch 8/50\n",
      "1657/1657 [==============================] - 2320s 1s/step - loss: 0.0930 - accuracy: 0.9814 - val_loss: 0.1016 - val_accuracy: 0.9825\n",
      "\n",
      "Epoch 00008: val_loss did not improve from 0.09045\n",
      "Epoch 9/50\n",
      "1657/1657 [==============================] - 2278s 1s/step - loss: 0.0851 - accuracy: 0.9835 - val_loss: 0.0858 - val_accuracy: 0.9825\n",
      "\n",
      "Epoch 00009: val_loss improved from 0.09045 to 0.08584, saving model to /home/ubuntu/w210_melanoma/model/ResNet50-DA-whole-09-0.09.hdf5\n",
      "Epoch 10/50\n",
      "1657/1657 [==============================] - 2296s 1s/step - loss: 0.0840 - accuracy: 0.9832 - val_loss: 0.1032 - val_accuracy: 0.9825\n",
      "\n",
      "Epoch 00010: val_loss did not improve from 0.08584\n",
      "Epoch 11/50\n",
      "1657/1657 [==============================] - 2267s 1s/step - loss: 0.0836 - accuracy: 0.9833 - val_loss: 0.0852 - val_accuracy: 0.9825\n",
      "\n",
      "Epoch 00011: val_loss improved from 0.08584 to 0.08519, saving model to /home/ubuntu/w210_melanoma/model/ResNet50-DA-whole-11-0.09.hdf5\n",
      "Epoch 12/50\n",
      "1657/1657 [==============================] - 2279s 1s/step - loss: 0.0844 - accuracy: 0.9831 - val_loss: 0.0856 - val_accuracy: 0.9825\n",
      "\n",
      "Epoch 00012: val_loss did not improve from 0.08519\n",
      "Epoch 13/50\n",
      "1657/1657 [==============================] - 2239s 1s/step - loss: 0.0845 - accuracy: 0.9832 - val_loss: 0.0843 - val_accuracy: 0.9823\n",
      "\n",
      "Epoch 00013: val_loss improved from 0.08519 to 0.08427, saving model to /home/ubuntu/w210_melanoma/model/ResNet50-DA-whole-13-0.08.hdf5\n",
      "Epoch 14/50\n",
      "1657/1657 [==============================] - 2254s 1s/step - loss: 0.0877 - accuracy: 0.9820 - val_loss: 0.0862 - val_accuracy: 0.9823\n",
      "\n",
      "Epoch 00014: val_loss did not improve from 0.08427\n",
      "Epoch 15/50\n",
      "1657/1657 [==============================] - 2279s 1s/step - loss: 0.0816 - accuracy: 0.9835 - val_loss: 0.0887 - val_accuracy: 0.9825\n",
      "\n",
      "Epoch 00015: val_loss did not improve from 0.08427\n",
      "Epoch 16/50\n",
      "1657/1657 [==============================] - 2316s 1s/step - loss: 0.0867 - accuracy: 0.9817 - val_loss: 0.0893 - val_accuracy: 0.9817\n",
      "\n",
      "Epoch 00016: val_loss did not improve from 0.08427\n",
      "Epoch 17/50\n",
      "1657/1657 [==============================] - 2312s 1s/step - loss: 0.0869 - accuracy: 0.9817 - val_loss: 0.0842 - val_accuracy: 0.9820\n",
      "\n",
      "Epoch 00017: val_loss improved from 0.08427 to 0.08422, saving model to /home/ubuntu/w210_melanoma/model/ResNet50-DA-whole-17-0.08.hdf5\n",
      "Epoch 18/50\n",
      "1657/1657 [==============================] - 2299s 1s/step - loss: 0.0871 - accuracy: 0.9813 - val_loss: 0.0840 - val_accuracy: 0.9820\n",
      "\n",
      "Epoch 00018: val_loss improved from 0.08422 to 0.08397, saving model to /home/ubuntu/w210_melanoma/model/ResNet50-DA-whole-18-0.08.hdf5\n",
      "Epoch 19/50\n",
      "1657/1657 [==============================] - 2371s 1s/step - loss: 0.0871 - accuracy: 0.9814 - val_loss: 0.0842 - val_accuracy: 0.9820\n",
      "\n",
      "Epoch 00019: val_loss did not improve from 0.08397\n",
      "Epoch 20/50\n",
      "1657/1657 [==============================] - 2300s 1s/step - loss: 0.0797 - accuracy: 0.9832 - val_loss: 0.0920 - val_accuracy: 0.9813\n",
      "\n",
      "Epoch 00020: val_loss did not improve from 0.08397\n",
      "Epoch 21/50\n",
      "1657/1657 [==============================] - 2310s 1s/step - loss: 0.0816 - accuracy: 0.9827 - val_loss: 0.0854 - val_accuracy: 0.9817\n",
      "\n",
      "Epoch 00021: val_loss did not improve from 0.08397\n",
      "Epoch 22/50\n",
      "1657/1657 [==============================] - 2354s 1s/step - loss: 0.0843 - accuracy: 0.9819 - val_loss: 0.0859 - val_accuracy: 0.9820\n",
      "\n",
      "Epoch 00022: val_loss did not improve from 0.08397\n",
      "Epoch 23/50\n",
      "1657/1657 [==============================] - 2304s 1s/step - loss: 0.0766 - accuracy: 0.9841 - val_loss: 0.0828 - val_accuracy: 0.9822\n",
      "\n",
      "Epoch 00023: val_loss improved from 0.08397 to 0.08281, saving model to /home/ubuntu/w210_melanoma/model/ResNet50-DA-whole-23-0.08.hdf5\n",
      "Epoch 24/50\n",
      "1657/1657 [==============================] - 2302s 1s/step - loss: 0.0802 - accuracy: 0.9829 - val_loss: 0.0861 - val_accuracy: 0.9811\n",
      "\n",
      "Epoch 00024: val_loss did not improve from 0.08281\n",
      "Epoch 25/50\n",
      "1657/1657 [==============================] - 2290s 1s/step - loss: 0.0842 - accuracy: 0.9817 - val_loss: 0.0804 - val_accuracy: 0.9820\n",
      "\n",
      "Epoch 00025: val_loss improved from 0.08281 to 0.08036, saving model to /home/ubuntu/w210_melanoma/model/ResNet50-DA-whole-25-0.08.hdf5\n",
      "Epoch 26/50\n",
      "1657/1657 [==============================] - 2337s 1s/step - loss: 0.0830 - accuracy: 0.9815 - val_loss: 0.0817 - val_accuracy: 0.9820\n",
      "\n",
      "Epoch 00026: val_loss did not improve from 0.08036\n",
      "Epoch 27/50\n",
      "1657/1657 [==============================] - 2305s 1s/step - loss: 0.0839 - accuracy: 0.9819 - val_loss: 0.0838 - val_accuracy: 0.9810\n",
      "\n",
      "Epoch 00027: val_loss did not improve from 0.08036\n",
      "Epoch 28/50\n",
      "1657/1657 [==============================] - 2299s 1s/step - loss: 0.0828 - accuracy: 0.9820 - val_loss: 0.0819 - val_accuracy: 0.9819\n",
      "\n",
      "Epoch 00028: val_loss did not improve from 0.08036\n",
      "Epoch 29/50\n",
      "1657/1657 [==============================] - 2291s 1s/step - loss: 0.0760 - accuracy: 0.9836 - val_loss: 0.0816 - val_accuracy: 0.9819\n",
      "\n",
      "Epoch 00029: val_loss did not improve from 0.08036\n",
      "Epoch 30/50\n",
      "1657/1657 [==============================] - 2339s 1s/step - loss: 0.0844 - accuracy: 0.9810 - val_loss: 0.0827 - val_accuracy: 0.9822\n",
      "\n",
      "Epoch 00030: val_loss did not improve from 0.08036\n",
      "Epoch 31/50\n",
      "1657/1657 [==============================] - 2293s 1s/step - loss: 0.0772 - accuracy: 0.9834 - val_loss: 0.0823 - val_accuracy: 0.9819\n",
      "\n",
      "Epoch 00031: val_loss did not improve from 0.08036\n",
      "Epoch 32/50\n",
      "1657/1657 [==============================] - 2301s 1s/step - loss: 0.0788 - accuracy: 0.9822 - val_loss: 0.0808 - val_accuracy: 0.9816\n",
      "\n",
      "Epoch 00032: val_loss did not improve from 0.08036\n",
      "Epoch 33/50\n",
      "1657/1657 [==============================] - 2299s 1s/step - loss: 0.0791 - accuracy: 0.9827 - val_loss: 0.0813 - val_accuracy: 0.9823\n",
      "\n",
      "Epoch 00033: val_loss did not improve from 0.08036\n",
      "Epoch 34/50\n",
      "1657/1657 [==============================] - 2297s 1s/step - loss: 0.0787 - accuracy: 0.9827 - val_loss: 0.0820 - val_accuracy: 0.9816\n",
      "\n",
      "Epoch 00034: val_loss did not improve from 0.08036\n",
      "Epoch 35/50\n",
      "1657/1657 [==============================] - 2297s 1s/step - loss: 0.0784 - accuracy: 0.9826 - val_loss: 0.0820 - val_accuracy: 0.9816\n",
      "\n",
      "Epoch 00035: val_loss did not improve from 0.08036\n",
      "Epoch 36/50\n",
      "1657/1657 [==============================] - 2315s 1s/step - loss: 0.0803 - accuracy: 0.9820 - val_loss: 0.0815 - val_accuracy: 0.9823\n",
      "\n",
      "Epoch 00036: val_loss did not improve from 0.08036\n",
      "Epoch 37/50\n",
      "1657/1657 [==============================] - 2294s 1s/step - loss: 0.0749 - accuracy: 0.9833 - val_loss: 0.0817 - val_accuracy: 0.9820\n",
      "\n",
      "Epoch 00037: val_loss did not improve from 0.08036\n",
      "Epoch 38/50\n",
      "1657/1657 [==============================] - 2288s 1s/step - loss: 0.0806 - accuracy: 0.9821 - val_loss: 0.0810 - val_accuracy: 0.9822\n",
      "\n",
      "Epoch 00038: val_loss did not improve from 0.08036\n",
      "Epoch 39/50\n"
     ]
    },
    {
     "name": "stdout",
     "output_type": "stream",
     "text": [
      "1657/1657 [==============================] - 2319s 1s/step - loss: 0.0815 - accuracy: 0.9812 - val_loss: 0.0810 - val_accuracy: 0.9820\n",
      "\n",
      "Epoch 00039: val_loss did not improve from 0.08036\n",
      "Epoch 40/50\n",
      "1657/1657 [==============================] - 2312s 1s/step - loss: 0.0763 - accuracy: 0.9830 - val_loss: 0.0809 - val_accuracy: 0.9820\n",
      "\n",
      "Epoch 00040: val_loss did not improve from 0.08036\n",
      "Epoch 41/50\n",
      "1657/1657 [==============================] - 2287s 1s/step - loss: 0.0795 - accuracy: 0.9823 - val_loss: 0.0794 - val_accuracy: 0.9822\n",
      "\n",
      "Epoch 00041: val_loss improved from 0.08036 to 0.07939, saving model to /home/ubuntu/w210_melanoma/model/ResNet50-DA-whole-41-0.08.hdf5\n",
      "Epoch 42/50\n",
      "1657/1657 [==============================] - 2287s 1s/step - loss: 0.0758 - accuracy: 0.9831 - val_loss: 0.0807 - val_accuracy: 0.9820\n",
      "\n",
      "Epoch 00042: val_loss did not improve from 0.07939\n",
      "Epoch 43/50\n",
      "1657/1657 [==============================] - 2321s 1s/step - loss: 0.0771 - accuracy: 0.9827 - val_loss: 0.0806 - val_accuracy: 0.9820\n",
      "\n",
      "Epoch 00043: val_loss did not improve from 0.07939\n",
      "Epoch 44/50\n",
      "1657/1657 [==============================] - 2312s 1s/step - loss: 0.0801 - accuracy: 0.9820 - val_loss: 0.0801 - val_accuracy: 0.9820\n",
      "\n",
      "Epoch 00044: val_loss did not improve from 0.07939\n",
      "Epoch 45/50\n",
      "1657/1657 [==============================] - 2291s 1s/step - loss: 0.0797 - accuracy: 0.9818 - val_loss: 0.0802 - val_accuracy: 0.9822\n",
      "\n",
      "Epoch 00045: val_loss did not improve from 0.07939\n",
      "Epoch 46/50\n",
      "1657/1657 [==============================] - 2296s 1s/step - loss: 0.0781 - accuracy: 0.9826 - val_loss: 0.0804 - val_accuracy: 0.9823\n",
      "\n",
      "Epoch 00046: val_loss did not improve from 0.07939\n",
      "Epoch 47/50\n",
      "1657/1657 [==============================] - 2326s 1s/step - loss: 0.0838 - accuracy: 0.9813 - val_loss: 0.0804 - val_accuracy: 0.9823\n",
      "\n",
      "Epoch 00047: val_loss did not improve from 0.07939\n",
      "Epoch 48/50\n",
      "1657/1657 [==============================] - 2288s 1s/step - loss: 0.0805 - accuracy: 0.9822 - val_loss: 0.0808 - val_accuracy: 0.9820\n",
      "\n",
      "Epoch 00048: val_loss did not improve from 0.07939\n",
      "Epoch 49/50\n",
      "1657/1657 [==============================] - 2301s 1s/step - loss: 0.0793 - accuracy: 0.9823 - val_loss: 0.0805 - val_accuracy: 0.9820\n",
      "\n",
      "Epoch 00049: val_loss did not improve from 0.07939\n",
      "Epoch 50/50\n",
      "1657/1657 [==============================] - 2279s 1s/step - loss: 0.0771 - accuracy: 0.9828 - val_loss: 0.0803 - val_accuracy: 0.9820\n",
      "\n",
      "Epoch 00050: val_loss did not improve from 0.07939\n"
     ]
    }
   ],
   "source": [
    "#cb_early_stopper = EarlyStopping(monitor = 'val_loss', patience = 10)\n",
    "cb_checkpointer  = ModelCheckpoint(filepath = CFG['path_model']+'ResNet50-DA-whole-{epoch:02d}-{val_loss:.2f}.hdf5',\n",
    "                                   monitor  = 'val_loss', \n",
    "                                   verbose  = CFG['verbose'], \n",
    "                                   save_best_only=True, \n",
    "                                   mode='min'\n",
    "                                  )\n",
    "\n",
    "callbacks_list = [cb_lr_scheduler, cb_checkpointer]\n",
    "\n",
    "history = model_ResNet50.fit(train_generator, \n",
    "                             epochs=CFG['epochs'], \n",
    "                             workers=CFG['workers'],\n",
    "                             validation_data=valid_generator, \n",
    "                             callbacks = callbacks_list\n",
    "                            )"
   ]
  },
  {
   "cell_type": "code",
   "execution_count": 70,
   "id": "b496f794",
   "metadata": {},
   "outputs": [
    {
     "data": {
      "image/png": "[encoded data removed]",
      "text/plain": [
       "<Figure size 1656x576 with 2 Axes>"
      ]
     },
     "metadata": {
      "needs_background": "light"
     },
     "output_type": "display_data"
    }
   ],
   "source": [
    "acc = history.history['accuracy']\n",
    "val_acc = history.history['val_accuracy']\n",
    "\n",
    "loss = history.history['loss']\n",
    "val_loss = history.history['val_loss']\n",
    "\n",
    "metrics = history.history['accuracy']\n",
    "epochs_range = range(1, len(metrics) + 1) \n",
    "\n",
    "plt.figure(figsize=(23, 8))\n",
    "plt.subplot(1, 2, 1)\n",
    "plt.plot(epochs_range, acc, label='Training Accuracy')\n",
    "plt.plot(epochs_range, val_acc, label='Validation Accuracy')\n",
    "plt.legend(loc='lower right')\n",
    "plt.title('Training and Validation Accuracy')\n",
    "\n",
    "plt.subplot(1, 2, 2)\n",
    "plt.plot(epochs_range, loss, label='Training Loss')\n",
    "plt.plot(epochs_range, val_loss, label='Validation Loss')\n",
    "plt.ylim([0, 0.2])\n",
    "plt.legend(loc='upper right')\n",
    "plt.title('Training and Validation Loss')\n",
    "plt.show()"
   ]
  },
  {
   "cell_type": "markdown",
   "id": "8a25608c",
   "metadata": {},
   "source": [
    "# Make predictions on the Validation set and analyze the results"
   ]
  },
  {
   "cell_type": "code",
   "execution_count": 71,
   "id": "f841546d",
   "metadata": {},
   "outputs": [],
   "source": [
    "from tensorflow.keras.models import load_model"
   ]
  },
  {
   "cell_type": "code",
   "execution_count": 72,
   "id": "cd2f32cf",
   "metadata": {},
   "outputs": [],
   "source": [
    "model = load_model('/home/ubuntu/w210_melanoma/model/ResNet50-DA-whole-41-0.08.hdf5')"
   ]
  },
  {
   "cell_type": "code",
   "execution_count": 73,
   "id": "575dd5a2",
   "metadata": {},
   "outputs": [
    {
     "name": "stdout",
     "output_type": "stream",
     "text": [
      "Model: \"sequential_1\"\n",
      "_________________________________________________________________\n",
      "Layer (type)                 Output Shape              Param #   \n",
      "=================================================================\n",
      "resnet50 (Functional)        (None, 7, 7, 2048)        23587712  \n",
      "_________________________________________________________________\n",
      "global_average_pooling2d_1 ( (None, 2048)              0         \n",
      "_________________________________________________________________\n",
      "dense_1 (Dense)              (None, 2)                 4098      \n",
      "=================================================================\n",
      "Total params: 23,591,810\n",
      "Trainable params: 23,538,690\n",
      "Non-trainable params: 53,120\n",
      "_________________________________________________________________\n"
     ]
    }
   ],
   "source": [
    "model.summary()"
   ]
  },
  {
   "cell_type": "code",
   "execution_count": 74,
   "id": "f767fa22",
   "metadata": {},
   "outputs": [
    {
     "name": "stdout",
     "output_type": "stream",
     "text": [
      "Found 33126 files belonging to 2 classes.\n",
      "Using 6625 files for validation.\n"
     ]
    }
   ],
   "source": [
    "valid_ds = tf.keras.preprocessing.image_dataset_from_directory(train_dir, \n",
    "                                                               validation_split=0.2, \n",
    "                                                               image_size=(224,224), \n",
    "                                                               subset=\"validation\",\n",
    "                                                               seed=SEED)"
   ]
  },
  {
   "cell_type": "code",
   "execution_count": 75,
   "id": "777fc467",
   "metadata": {},
   "outputs": [],
   "source": [
    "file_paths = valid_ds.file_paths"
   ]
  },
  {
   "cell_type": "code",
   "execution_count": 76,
   "id": "c798b2c7",
   "metadata": {},
   "outputs": [
    {
     "data": {
      "text/plain": [
       "'ISIC_3223682'"
      ]
     },
     "execution_count": 76,
     "metadata": {},
     "output_type": "execute_result"
    }
   ],
   "source": [
    "file_paths[1].split(os.sep)[-1][0:-4]"
   ]
  },
  {
   "cell_type": "code",
   "execution_count": 77,
   "id": "cf014c35",
   "metadata": {},
   "outputs": [],
   "source": [
    "def process(image,label):\n",
    "    image = tf.cast(image/255. ,tf.float32)\n",
    "    return image,label"
   ]
  },
  {
   "cell_type": "code",
   "execution_count": 78,
   "id": "4824e0d7",
   "metadata": {},
   "outputs": [],
   "source": [
    "valid_ds = valid_ds.map(process)"
   ]
  },
  {
   "cell_type": "code",
   "execution_count": 79,
   "id": "bfcab63c",
   "metadata": {},
   "outputs": [],
   "source": [
    "valid_images_ds = valid_ds.map(lambda image, idnum: image)"
   ]
  },
  {
   "cell_type": "code",
   "execution_count": 80,
   "id": "c75b3cb6",
   "metadata": {},
   "outputs": [],
   "source": [
    "pred_probs = model.predict(valid_images_ds)"
   ]
  },
  {
   "cell_type": "code",
   "execution_count": 81,
   "id": "f4958136",
   "metadata": {},
   "outputs": [
    {
     "data": {
      "text/plain": [
       "(6625, 2)"
      ]
     },
     "execution_count": 81,
     "metadata": {},
     "output_type": "execute_result"
    }
   ],
   "source": [
    "pred_probs.shape"
   ]
  },
  {
   "cell_type": "code",
   "execution_count": 83,
   "id": "5c7f00ee",
   "metadata": {},
   "outputs": [
    {
     "data": {
      "text/plain": [
       "2.6797492e-08"
      ]
     },
     "execution_count": 83,
     "metadata": {},
     "output_type": "execute_result"
    }
   ],
   "source": [
    "pred_probs[:,1].min()"
   ]
  },
  {
   "cell_type": "code",
   "execution_count": 84,
   "id": "43e47e66",
   "metadata": {},
   "outputs": [],
   "source": [
    "valid_ids_ds = valid_ds.map(lambda image, idnum: idnum).unbatch()"
   ]
  },
  {
   "cell_type": "code",
   "execution_count": 85,
   "id": "85b279ce",
   "metadata": {},
   "outputs": [],
   "source": [
    "valid_ids = next(iter(valid_ids_ds.batch(6625))).numpy().astype('U')"
   ]
  },
  {
   "cell_type": "code",
   "execution_count": 86,
   "id": "767bae2d",
   "metadata": {},
   "outputs": [
    {
     "data": {
      "text/plain": [
       "6625"
      ]
     },
     "execution_count": 86,
     "metadata": {},
     "output_type": "execute_result"
    }
   ],
   "source": [
    "len(valid_ids)"
   ]
  },
  {
   "cell_type": "code",
   "execution_count": 87,
   "id": "92ca2795",
   "metadata": {},
   "outputs": [],
   "source": [
    "img_list = []\n",
    "img_id_list = []\n",
    "img_name_list = []\n",
    "for i in range(len(file_paths)):\n",
    "    img_list.append(file_paths[i].split(os.sep)[-1])\n",
    "    img_id_list.append(i)\n",
    "    img_name_list.append(file_paths[i].split(os.sep)[-1][0:-4])\n",
    "\n",
    "img_name_list_by_ids = []\n",
    "for iid in list(valid_ids):\n",
    "    #print(int(iid),img_name_list[int(iid)],pred_probs[:,1][int(iid)]) \n",
    "    img_name_list_by_ids.append(img_name_list[int(iid)])"
   ]
  },
  {
   "cell_type": "code",
   "execution_count": 88,
   "id": "d736639a",
   "metadata": {},
   "outputs": [
    {
     "data": {
      "text/html": [
       "<div>\n",
       "<style scoped>\n",
       "    .dataframe tbody tr th:only-of-type {\n",
       "        vertical-align: middle;\n",
       "    }\n",
       "\n",
       "    .dataframe tbody tr th {\n",
       "        vertical-align: top;\n",
       "    }\n",
       "\n",
       "    .dataframe thead th {\n",
       "        text-align: right;\n",
       "    }\n",
       "</style>\n",
       "<table border=\"1\" class=\"dataframe\">\n",
       "  <thead>\n",
       "    <tr style=\"text-align: right;\">\n",
       "      <th></th>\n",
       "      <th>image_name</th>\n",
       "      <th>pred_target</th>\n",
       "    </tr>\n",
       "  </thead>\n",
       "  <tbody>\n",
       "    <tr>\n",
       "      <th>0</th>\n",
       "      <td>ISIC_3604231</td>\n",
       "      <td>0.001429</td>\n",
       "    </tr>\n",
       "    <tr>\n",
       "      <th>1</th>\n",
       "      <td>ISIC_3223682</td>\n",
       "      <td>0.000016</td>\n",
       "    </tr>\n",
       "    <tr>\n",
       "      <th>2</th>\n",
       "      <td>ISIC_5797220</td>\n",
       "      <td>0.000243</td>\n",
       "    </tr>\n",
       "    <tr>\n",
       "      <th>3</th>\n",
       "      <td>ISIC_5854870</td>\n",
       "      <td>0.000640</td>\n",
       "    </tr>\n",
       "    <tr>\n",
       "      <th>4</th>\n",
       "      <td>ISIC_3642241</td>\n",
       "      <td>0.000021</td>\n",
       "    </tr>\n",
       "  </tbody>\n",
       "</table>\n",
       "</div>"
      ],
      "text/plain": [
       "     image_name  pred_target\n",
       "0  ISIC_3604231     0.001429\n",
       "1  ISIC_3223682     0.000016\n",
       "2  ISIC_5797220     0.000243\n",
       "3  ISIC_5854870     0.000640\n",
       "4  ISIC_3642241     0.000021"
      ]
     },
     "execution_count": 88,
     "metadata": {},
     "output_type": "execute_result"
    }
   ],
   "source": [
    "pred_df = pd.DataFrame({'image_name': img_name_list, 'pred_target': pred_probs[:,1]})\n",
    "pred_df.head()"
   ]
  },
  {
   "cell_type": "code",
   "execution_count": 89,
   "id": "da1b7307",
   "metadata": {},
   "outputs": [
    {
     "data": {
      "text/plain": [
       "6625"
      ]
     },
     "execution_count": 89,
     "metadata": {},
     "output_type": "execute_result"
    }
   ],
   "source": [
    "len(pred_df)"
   ]
  },
  {
   "cell_type": "code",
   "execution_count": 90,
   "id": "da90f8d2",
   "metadata": {},
   "outputs": [
    {
     "data": {
      "text/html": [
       "<div>\n",
       "<style scoped>\n",
       "    .dataframe tbody tr th:only-of-type {\n",
       "        vertical-align: middle;\n",
       "    }\n",
       "\n",
       "    .dataframe tbody tr th {\n",
       "        vertical-align: top;\n",
       "    }\n",
       "\n",
       "    .dataframe thead th {\n",
       "        text-align: right;\n",
       "    }\n",
       "</style>\n",
       "<table border=\"1\" class=\"dataframe\">\n",
       "  <thead>\n",
       "    <tr style=\"text-align: right;\">\n",
       "      <th></th>\n",
       "      <th>image_name</th>\n",
       "      <th>patient_id</th>\n",
       "      <th>sex</th>\n",
       "      <th>age_approx</th>\n",
       "      <th>anatom_site_general_challenge</th>\n",
       "      <th>diagnosis</th>\n",
       "      <th>benign_malignant</th>\n",
       "      <th>target</th>\n",
       "    </tr>\n",
       "  </thead>\n",
       "  <tbody>\n",
       "    <tr>\n",
       "      <th>0</th>\n",
       "      <td>ISIC_2637011</td>\n",
       "      <td>IP_7279968</td>\n",
       "      <td>male</td>\n",
       "      <td>45.0</td>\n",
       "      <td>head/neck</td>\n",
       "      <td>unknown</td>\n",
       "      <td>benign</td>\n",
       "      <td>0</td>\n",
       "    </tr>\n",
       "    <tr>\n",
       "      <th>1</th>\n",
       "      <td>ISIC_0015719</td>\n",
       "      <td>IP_3075186</td>\n",
       "      <td>female</td>\n",
       "      <td>45.0</td>\n",
       "      <td>upper extremity</td>\n",
       "      <td>unknown</td>\n",
       "      <td>benign</td>\n",
       "      <td>0</td>\n",
       "    </tr>\n",
       "    <tr>\n",
       "      <th>2</th>\n",
       "      <td>ISIC_0052212</td>\n",
       "      <td>IP_2842074</td>\n",
       "      <td>female</td>\n",
       "      <td>50.0</td>\n",
       "      <td>lower extremity</td>\n",
       "      <td>nevus</td>\n",
       "      <td>benign</td>\n",
       "      <td>0</td>\n",
       "    </tr>\n",
       "    <tr>\n",
       "      <th>3</th>\n",
       "      <td>ISIC_0068279</td>\n",
       "      <td>IP_6890425</td>\n",
       "      <td>female</td>\n",
       "      <td>45.0</td>\n",
       "      <td>head/neck</td>\n",
       "      <td>unknown</td>\n",
       "      <td>benign</td>\n",
       "      <td>0</td>\n",
       "    </tr>\n",
       "    <tr>\n",
       "      <th>4</th>\n",
       "      <td>ISIC_0074268</td>\n",
       "      <td>IP_8723313</td>\n",
       "      <td>female</td>\n",
       "      <td>55.0</td>\n",
       "      <td>upper extremity</td>\n",
       "      <td>unknown</td>\n",
       "      <td>benign</td>\n",
       "      <td>0</td>\n",
       "    </tr>\n",
       "  </tbody>\n",
       "</table>\n",
       "</div>"
      ],
      "text/plain": [
       "     image_name  patient_id     sex  age_approx anatom_site_general_challenge  \\\n",
       "0  ISIC_2637011  IP_7279968    male        45.0                     head/neck   \n",
       "1  ISIC_0015719  IP_3075186  female        45.0               upper extremity   \n",
       "2  ISIC_0052212  IP_2842074  female        50.0               lower extremity   \n",
       "3  ISIC_0068279  IP_6890425  female        45.0                     head/neck   \n",
       "4  ISIC_0074268  IP_8723313  female        55.0               upper extremity   \n",
       "\n",
       "  diagnosis benign_malignant  target  \n",
       "0   unknown           benign       0  \n",
       "1   unknown           benign       0  \n",
       "2     nevus           benign       0  \n",
       "3   unknown           benign       0  \n",
       "4   unknown           benign       0  "
      ]
     },
     "execution_count": 90,
     "metadata": {},
     "output_type": "execute_result"
    }
   ],
   "source": [
    "df_train_full.head()"
   ]
  },
  {
   "cell_type": "code",
   "execution_count": 91,
   "id": "d9a645db",
   "metadata": {},
   "outputs": [],
   "source": [
    "pred_df = pd.merge(pred_df, df_train_full, on = ['image_name'], how = 'left')"
   ]
  },
  {
   "cell_type": "code",
   "execution_count": 92,
   "id": "4e6c6372",
   "metadata": {},
   "outputs": [],
   "source": [
    "TP, TN, FP, FN = 0, 0, 0, 0\n",
    "\n",
    "for index, row in pred_df.iterrows():\n",
    "    if row['target'] == 0:\n",
    "        if row['pred_target'] < 0.5:\n",
    "            TN += 1\n",
    "        else:\n",
    "            FP += 1\n",
    "    else:\n",
    "        if row['pred_target'] > 0.5:\n",
    "            TP += 1\n",
    "        else:\n",
    "            FN += 1"
   ]
  },
  {
   "cell_type": "code",
   "execution_count": 93,
   "id": "ec5e2210",
   "metadata": {},
   "outputs": [
    {
     "name": "stdout",
     "output_type": "stream",
     "text": [
      "True Positive: 0\n",
      "True Negative: 6495\n",
      "False Positive: 2\n",
      "False Negative: 128\n",
      "------------------------------\n",
      "Accuracy: 0.9803773584905661\n",
      "Precision: 0.0\n",
      "Recall: 0.9806734108410086\n",
      "F-1 Score: 0.0\n"
     ]
    }
   ],
   "source": [
    "np.seterr(divide='ignore', invalid='ignore')\n",
    "print(\"True Positive:\", TP)\n",
    "print(\"True Negative:\", TN)\n",
    "print(\"False Positive:\", FP)\n",
    "print(\"False Negative:\", FN)\n",
    "print(\"------------------------------\")\n",
    "print(\"Accuracy:\", (TP+TN)/(TP+TN+FP+FN))\n",
    "print(\"Precision:\", np.nan_to_num(np.divide(TP, TP+FP)))\n",
    "print(\"Recall:\", np.nan_to_num(np.divide(TN, TN+FN)))\n",
    "print(\"F-1 Score:\", 2*TP/(2*TP+FP+FN))"
   ]
  },
  {
   "cell_type": "code",
   "execution_count": null,
   "id": "49e47789",
   "metadata": {},
   "outputs": [],
   "source": []
  }
 ],
 "metadata": {
  "kernelspec": {
   "display_name": "Environment (conda_tensorflow2_latest_p37)",
   "language": "python",
   "name": "conda_tensorflow2_latest_p37"
  },
  "language_info": {
   "codemirror_mode": {
    "name": "ipython",
    "version": 3
   },
   "file_extension": ".py",
   "mimetype": "text/x-python",
   "name": "python",
   "nbconvert_exporter": "python",
   "pygments_lexer": "ipython3",
   "version": "3.7.10"
  }
 },
 "nbformat": 4,
 "nbformat_minor": 5
}
