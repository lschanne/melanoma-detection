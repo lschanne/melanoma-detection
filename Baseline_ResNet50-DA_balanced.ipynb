{
 "cells": [
  {
   "cell_type": "markdown",
   "id": "f1c950e7",
   "metadata": {},
   "source": [
    "# Import packages"
   ]
  },
  {
   "cell_type": "code",
   "execution_count": 1,
   "id": "881c46de",
   "metadata": {},
   "outputs": [],
   "source": [
    "import os\n",
    "import re\n",
    "import glob\n",
    "import pathlib\n",
    "import time\n",
    "import math\n",
    "import numpy as np\n",
    "import pandas as pd\n",
    "import matplotlib.pyplot as plt\n",
    "%matplotlib inline\n",
    "\n",
    "import cv2\n",
    "\n",
    "import PIL\n",
    "from PIL import Image\n",
    "\n",
    "from sklearn.model_selection import train_test_split\n",
    "from sklearn.utils import class_weight\n",
    "\n",
    "from collections import Counter\n",
    "\n",
    "from warnings import filterwarnings\n",
    "filterwarnings('ignore')"
   ]
  },
  {
   "cell_type": "code",
   "execution_count": 2,
   "id": "86a2c1a0",
   "metadata": {},
   "outputs": [],
   "source": [
    "SEED=123\n",
    "np.random.seed(SEED)"
   ]
  },
  {
   "cell_type": "code",
   "execution_count": 3,
   "id": "6ae54722",
   "metadata": {},
   "outputs": [],
   "source": [
    "import tensorflow as tf\n",
    "from tensorflow import keras\n",
    "from tensorflow.keras import layers\n",
    "from tensorflow.keras.models import Model,Sequential\n",
    "from tensorflow.keras.optimizers import Adam, SGD, RMSprop\n",
    "from tensorflow.keras.layers import Dropout, BatchNormalization\n",
    "from tensorflow.keras.layers import (\n",
    "    Input, Dense, Conv2D, Flatten, Activation, \n",
    "    MaxPooling2D, AveragePooling2D, ZeroPadding2D, GlobalAveragePooling2D, GlobalMaxPooling2D, add\n",
    ")\n",
    "\n",
    "from tensorflow.python.keras.callbacks import EarlyStopping, ModelCheckpoint\n",
    "from tensorflow.keras.preprocessing import image\n",
    "from tensorflow.keras.preprocessing.image import ImageDataGenerator\n",
    "\n",
    "from tensorflow.keras.utils import plot_model\n",
    "\n",
    "from tensorflow.keras.applications.vgg19 import VGG19\n",
    "from tensorflow.keras.applications.vgg19 import preprocess_input\n",
    "from tensorflow.keras.applications.resnet50 import ResNet50\n",
    "from tensorflow.keras.applications.resnet50 import preprocess_input\n",
    "from tensorflow.keras.applications.inception_v3 import InceptionV3"
   ]
  },
  {
   "cell_type": "markdown",
   "id": "dffe9d14",
   "metadata": {},
   "source": [
    "# Set path"
   ]
  },
  {
   "cell_type": "code",
   "execution_count": 4,
   "id": "796d5915",
   "metadata": {},
   "outputs": [],
   "source": [
    "BASEPATH = '/home/ubuntu/w210_melanoma/data'\n",
    "\n",
    "df_train_full = pd.read_csv(os.path.join(BASEPATH, 'metadata_train.csv'))\n",
    "\n",
    "train_path = BASEPATH + '/train_balanced'\n",
    "train_dir = pathlib.Path(train_path)\n",
    "\n",
    "test_path = BASEPATH + '/ISIC_2020_Test_Input'\n",
    "test_dir = pathlib.Path(test_path)"
   ]
  },
  {
   "cell_type": "markdown",
   "id": "577bddcf",
   "metadata": {},
   "source": [
    "# Configurations"
   ]
  },
  {
   "cell_type": "code",
   "execution_count": 5,
   "id": "f95de8d2",
   "metadata": {},
   "outputs": [],
   "source": [
    "CFG = dict(\n",
    "        batch_size        =  16,     \n",
    "        epochs            =  50, #10,  \n",
    "        verbose           =   1,   \n",
    "        workers           =   4,   \n",
    "\n",
    "        optimizer         = 'adam', \n",
    "\n",
    "        RANDOM_STATE      =  123,   \n",
    "    \n",
    "        # Path to save a model\n",
    "        path_model        = '/home/ubuntu/w210_melanoma/model/',\n",
    "\n",
    "        # Images sizes\n",
    "        img_size          = 224, \n",
    "        img_height        = 224, \n",
    "        img_width         = 224, \n",
    "\n",
    "        # Postprocessing\n",
    "        label_smooth_fac  =  0.00,      \n",
    ")"
   ]
  },
  {
   "cell_type": "markdown",
   "id": "e4413737",
   "metadata": {},
   "source": [
    "# Data split and generation"
   ]
  },
  {
   "cell_type": "code",
   "execution_count": 6,
   "id": "617cdacb",
   "metadata": {},
   "outputs": [],
   "source": [
    "#train_generator = ImageDataGenerator(rescale=1./255, validation_split=0.2)\n",
    "#valid_generator = ImageDataGenerator(rescale=1./255, validation_split=0.2)"
   ]
  },
  {
   "cell_type": "code",
   "execution_count": 7,
   "id": "25a88682",
   "metadata": {},
   "outputs": [],
   "source": [
    "train_generator = ImageDataGenerator(\n",
    "                  rescale=1./255, \n",
    "                  validation_split=0.2,\n",
    "                  rotation_range=90, # Rotate 90 degree\n",
    "                  width_shift_range=0.3,\n",
    "                  height_shift_range=0.3,\n",
    "                  brightness_range=[0.2,1.0],\n",
    "                  horizontal_flip = True,\n",
    "                  vertical_flip = True,\n",
    "                  )\n",
    "valid_generator = ImageDataGenerator(rescale=1./255, validation_split=0.2)"
   ]
  },
  {
   "cell_type": "code",
   "execution_count": 8,
   "id": "f9b77422",
   "metadata": {},
   "outputs": [
    {
     "name": "stdout",
     "output_type": "stream",
     "text": [
      "Found 936 images belonging to 2 classes.\n",
      "Found 232 images belonging to 2 classes.\n"
     ]
    }
   ],
   "source": [
    "train_generator = train_generator.flow_from_directory(train_dir,\n",
    "                                                    subset='training',                  \n",
    "                                                    target_size=(CFG['img_size'], CFG['img_size']),\n",
    "                                                    batch_size = CFG['batch_size'],\n",
    "                                                    class_mode='categorical',\n",
    "                                                    shuffle=True\n",
    "                                                    )\n",
    "\n",
    "\n",
    "valid_generator = valid_generator.flow_from_directory(train_dir,\n",
    "                                                     subset='validation',              \n",
    "                                                     target_size=(CFG['img_size'], CFG['img_size']),\n",
    "                                                     batch_size = CFG['batch_size'],\n",
    "                                                     class_mode='categorical',\n",
    "                                                     shuffle=True\n",
    "                                                     )"
   ]
  },
  {
   "cell_type": "markdown",
   "id": "19c8528d",
   "metadata": {},
   "source": [
    "# Build the ResNet50"
   ]
  },
  {
   "cell_type": "code",
   "execution_count": 9,
   "id": "7ee153b5",
   "metadata": {},
   "outputs": [
    {
     "name": "stdout",
     "output_type": "stream",
     "text": [
      "Extension horovod.torch has not been built: /home/ubuntu/anaconda3/envs/tensorflow2_latest_p37/lib/python3.7/site-packages/horovod/torch/mpi_lib/_mpi_lib.cpython-37m-x86_64-linux-gnu.so not found\n",
      "If this is not expected, reinstall Horovod with HOROVOD_WITH_PYTORCH=1 to debug the build error.\n",
      "Warning! MPI libs are missing, but python applications are still avaiable.\n",
      "[2021-10-08 05:43:28.450 ip-172-31-94-192:15144 INFO utils.py:27] RULE_JOB_STOP_SIGNAL_FILENAME: None\n",
      "[2021-10-08 05:43:28.470 ip-172-31-94-192:15144 INFO profiler_config_parser.py:102] Unable to find config at /opt/ml/input/config/profilerconfig.json. Profiler is disabled.\n"
     ]
    }
   ],
   "source": [
    "model_ResNet50 = tf.keras.Sequential([\n",
    "     ResNet50(\n",
    "        input_shape=(224, 224,3),\n",
    "        weights='imagenet',\n",
    "        include_top=False\n",
    "    ),\n",
    "    \n",
    "    GlobalAveragePooling2D(),\n",
    "     \n",
    "    Dense(2, activation='softmax')\n",
    "    \n",
    "])"
   ]
  },
  {
   "cell_type": "code",
   "execution_count": 10,
   "id": "38af34ec",
   "metadata": {},
   "outputs": [],
   "source": [
    "model_ResNet50.compile(\n",
    "    optimizer = CFG['optimizer'],\n",
    "    loss = tf.keras.losses.BinaryCrossentropy(label_smoothing = CFG['label_smooth_fac']),\n",
    "    #loss = 'binary_crossentropy',\n",
    "    metrics=['accuracy']\n",
    ")"
   ]
  },
  {
   "cell_type": "code",
   "execution_count": 11,
   "id": "e1561a9e",
   "metadata": {},
   "outputs": [],
   "source": [
    "model_ResNet50.layers[0].trainable = False"
   ]
  },
  {
   "cell_type": "code",
   "execution_count": 12,
   "id": "3db865f6",
   "metadata": {},
   "outputs": [
    {
     "name": "stdout",
     "output_type": "stream",
     "text": [
      "Model: \"sequential\"\n",
      "_________________________________________________________________\n",
      "Layer (type)                 Output Shape              Param #   \n",
      "=================================================================\n",
      "resnet50 (Functional)        (None, 7, 7, 2048)        23587712  \n",
      "_________________________________________________________________\n",
      "global_average_pooling2d (Gl (None, 2048)              0         \n",
      "_________________________________________________________________\n",
      "dense (Dense)                (None, 2)                 4098      \n",
      "=================================================================\n",
      "Total params: 23,591,810\n",
      "Trainable params: 4,098\n",
      "Non-trainable params: 23,587,712\n",
      "_________________________________________________________________\n"
     ]
    }
   ],
   "source": [
    "model_ResNet50.summary()"
   ]
  },
  {
   "cell_type": "markdown",
   "id": "8dba91ec",
   "metadata": {},
   "source": [
    "# Fit model"
   ]
  },
  {
   "cell_type": "code",
   "execution_count": 13,
   "id": "9c643124",
   "metadata": {},
   "outputs": [],
   "source": [
    "def scheduler(epoch, lr):\n",
    "    if epoch < 10:\n",
    "        return lr\n",
    "    else:\n",
    "        return lr * tf.math.exp(-0.1)\n",
    "\n",
    "cb_lr_scheduler = tf.keras.callbacks.LearningRateScheduler(scheduler)"
   ]
  },
  {
   "cell_type": "code",
   "execution_count": 14,
   "id": "e2435a0c",
   "metadata": {},
   "outputs": [
    {
     "name": "stdout",
     "output_type": "stream",
     "text": [
      "Epoch 1/50\n",
      "59/59 [==============================] - 85s 1s/step - loss: 1.0192 - accuracy: 0.5701 - val_loss: 189.2684 - val_accuracy: 0.5000\n",
      "\n",
      "Epoch 00001: val_loss improved from inf to 189.26840, saving model to /home/ubuntu/w210_melanoma/model/ResNet50-DA-balanced-01-189.27.hdf5\n",
      "Epoch 2/50\n",
      "59/59 [==============================] - 77s 1s/step - loss: 0.6919 - accuracy: 0.5931 - val_loss: 0.7724 - val_accuracy: 0.5000\n",
      "\n",
      "Epoch 00002: val_loss improved from 189.26840 to 0.77240, saving model to /home/ubuntu/w210_melanoma/model/ResNet50-DA-balanced-02-0.77.hdf5\n",
      "Epoch 3/50\n",
      "59/59 [==============================] - 75s 1s/step - loss: 0.6401 - accuracy: 0.6489 - val_loss: 2.0210 - val_accuracy: 0.5000\n",
      "\n",
      "Epoch 00003: val_loss did not improve from 0.77240\n",
      "Epoch 4/50\n",
      "59/59 [==============================] - 81s 1s/step - loss: 0.6547 - accuracy: 0.6339 - val_loss: 3.1669 - val_accuracy: 0.5000\n",
      "\n",
      "Epoch 00004: val_loss did not improve from 0.77240\n",
      "Epoch 5/50\n",
      "59/59 [==============================] - 80s 1s/step - loss: 0.6338 - accuracy: 0.6580 - val_loss: 2.4722 - val_accuracy: 0.5000\n",
      "\n",
      "Epoch 00005: val_loss did not improve from 0.77240\n",
      "Epoch 6/50\n",
      "59/59 [==============================] - 80s 1s/step - loss: 0.6395 - accuracy: 0.6651 - val_loss: 1.5106 - val_accuracy: 0.5000\n",
      "\n",
      "Epoch 00006: val_loss did not improve from 0.77240\n",
      "Epoch 7/50\n",
      "59/59 [==============================] - 81s 1s/step - loss: 0.6257 - accuracy: 0.6339 - val_loss: 0.7077 - val_accuracy: 0.5000\n",
      "\n",
      "Epoch 00007: val_loss improved from 0.77240 to 0.70769, saving model to /home/ubuntu/w210_melanoma/model/ResNet50-DA-balanced-07-0.71.hdf5\n",
      "Epoch 8/50\n",
      "59/59 [==============================] - 78s 1s/step - loss: 0.6067 - accuracy: 0.6881 - val_loss: 2.1460 - val_accuracy: 0.5000\n",
      "\n",
      "Epoch 00008: val_loss did not improve from 0.70769\n",
      "Epoch 9/50\n",
      "59/59 [==============================] - 76s 1s/step - loss: 0.6027 - accuracy: 0.7122 - val_loss: 0.7843 - val_accuracy: 0.5000\n",
      "\n",
      "Epoch 00009: val_loss did not improve from 0.70769\n",
      "Epoch 10/50\n",
      "59/59 [==============================] - 80s 1s/step - loss: 0.5941 - accuracy: 0.6695 - val_loss: 1.4077 - val_accuracy: 0.5000\n",
      "\n",
      "Epoch 00010: val_loss did not improve from 0.70769\n",
      "Epoch 11/50\n",
      "59/59 [==============================] - 78s 1s/step - loss: 0.6029 - accuracy: 0.6685 - val_loss: 0.7430 - val_accuracy: 0.5000\n",
      "\n",
      "Epoch 00011: val_loss did not improve from 0.70769\n",
      "Epoch 12/50\n",
      "59/59 [==============================] - 76s 1s/step - loss: 0.5526 - accuracy: 0.7323 - val_loss: 0.7045 - val_accuracy: 0.4914\n",
      "\n",
      "Epoch 00012: val_loss improved from 0.70769 to 0.70448, saving model to /home/ubuntu/w210_melanoma/model/ResNet50-DA-balanced-12-0.70.hdf5\n",
      "Epoch 13/50\n",
      "59/59 [==============================] - 77s 1s/step - loss: 0.5913 - accuracy: 0.6805 - val_loss: 1.1035 - val_accuracy: 0.5000\n",
      "\n",
      "Epoch 00013: val_loss did not improve from 0.70448\n",
      "Epoch 14/50\n",
      "59/59 [==============================] - 77s 1s/step - loss: 0.5102 - accuracy: 0.7360 - val_loss: 1.3811 - val_accuracy: 0.5000\n",
      "\n",
      "Epoch 00014: val_loss did not improve from 0.70448\n",
      "Epoch 15/50\n",
      "59/59 [==============================] - 80s 1s/step - loss: 0.5204 - accuracy: 0.7408 - val_loss: 0.9382 - val_accuracy: 0.5000\n",
      "\n",
      "Epoch 00015: val_loss did not improve from 0.70448\n",
      "Epoch 16/50\n",
      "59/59 [==============================] - 79s 1s/step - loss: 0.5251 - accuracy: 0.7437 - val_loss: 0.7902 - val_accuracy: 0.5733\n",
      "\n",
      "Epoch 00016: val_loss did not improve from 0.70448\n",
      "Epoch 17/50\n",
      "59/59 [==============================] - 77s 1s/step - loss: 0.5707 - accuracy: 0.7155 - val_loss: 0.9125 - val_accuracy: 0.5647\n",
      "\n",
      "Epoch 00017: val_loss did not improve from 0.70448\n",
      "Epoch 18/50\n",
      "59/59 [==============================] - 79s 1s/step - loss: 0.5168 - accuracy: 0.7315 - val_loss: 0.8482 - val_accuracy: 0.5431\n",
      "\n",
      "Epoch 00018: val_loss did not improve from 0.70448\n",
      "Epoch 19/50\n",
      "59/59 [==============================] - 79s 1s/step - loss: 0.4978 - accuracy: 0.7681 - val_loss: 0.6137 - val_accuracy: 0.6681\n",
      "\n",
      "Epoch 00019: val_loss improved from 0.70448 to 0.61370, saving model to /home/ubuntu/w210_melanoma/model/ResNet50-DA-balanced-19-0.61.hdf5\n",
      "Epoch 20/50\n",
      "59/59 [==============================] - 79s 1s/step - loss: 0.4921 - accuracy: 0.7586 - val_loss: 1.1224 - val_accuracy: 0.5819\n",
      "\n",
      "Epoch 00020: val_loss did not improve from 0.61370\n",
      "Epoch 21/50\n",
      "59/59 [==============================] - 76s 1s/step - loss: 0.4789 - accuracy: 0.7564 - val_loss: 0.6062 - val_accuracy: 0.6681\n",
      "\n",
      "Epoch 00021: val_loss improved from 0.61370 to 0.60623, saving model to /home/ubuntu/w210_melanoma/model/ResNet50-DA-balanced-21-0.61.hdf5\n",
      "Epoch 22/50\n",
      "59/59 [==============================] - 77s 1s/step - loss: 0.4693 - accuracy: 0.7712 - val_loss: 0.5782 - val_accuracy: 0.7328\n",
      "\n",
      "Epoch 00022: val_loss improved from 0.60623 to 0.57822, saving model to /home/ubuntu/w210_melanoma/model/ResNet50-DA-balanced-22-0.58.hdf5\n",
      "Epoch 23/50\n",
      "59/59 [==============================] - 77s 1s/step - loss: 0.4780 - accuracy: 0.7621 - val_loss: 0.7275 - val_accuracy: 0.5474\n",
      "\n",
      "Epoch 00023: val_loss did not improve from 0.57822\n",
      "Epoch 24/50\n",
      "59/59 [==============================] - 76s 1s/step - loss: 0.4948 - accuracy: 0.7689 - val_loss: 0.5561 - val_accuracy: 0.7198\n",
      "\n",
      "Epoch 00024: val_loss improved from 0.57822 to 0.55609, saving model to /home/ubuntu/w210_melanoma/model/ResNet50-DA-balanced-24-0.56.hdf5\n",
      "Epoch 25/50\n",
      "59/59 [==============================] - 76s 1s/step - loss: 0.4822 - accuracy: 0.7655 - val_loss: 0.5535 - val_accuracy: 0.7414\n",
      "\n",
      "Epoch 00025: val_loss improved from 0.55609 to 0.55352, saving model to /home/ubuntu/w210_melanoma/model/ResNet50-DA-balanced-25-0.55.hdf5\n",
      "Epoch 26/50\n",
      "59/59 [==============================] - 79s 1s/step - loss: 0.4889 - accuracy: 0.7556 - val_loss: 1.4205 - val_accuracy: 0.5517\n",
      "\n",
      "Epoch 00026: val_loss did not improve from 0.55352\n",
      "Epoch 27/50\n",
      "59/59 [==============================] - 76s 1s/step - loss: 0.4687 - accuracy: 0.7964 - val_loss: 0.5555 - val_accuracy: 0.7371\n",
      "\n",
      "Epoch 00027: val_loss did not improve from 0.55352\n",
      "Epoch 28/50\n",
      "59/59 [==============================] - 80s 1s/step - loss: 0.4724 - accuracy: 0.7624 - val_loss: 0.4809 - val_accuracy: 0.7155\n",
      "\n",
      "Epoch 00028: val_loss improved from 0.55352 to 0.48089, saving model to /home/ubuntu/w210_melanoma/model/ResNet50-DA-balanced-28-0.48.hdf5\n",
      "Epoch 29/50\n",
      "59/59 [==============================] - 74s 1s/step - loss: 0.4481 - accuracy: 0.7802 - val_loss: 1.0690 - val_accuracy: 0.6078\n",
      "\n",
      "Epoch 00029: val_loss did not improve from 0.48089\n",
      "Epoch 30/50\n",
      "59/59 [==============================] - 77s 1s/step - loss: 0.4366 - accuracy: 0.7878 - val_loss: 0.6573 - val_accuracy: 0.6897\n",
      "\n",
      "Epoch 00030: val_loss did not improve from 0.48089\n",
      "Epoch 31/50\n",
      "59/59 [==============================] - 73s 1s/step - loss: 0.4405 - accuracy: 0.7944 - val_loss: 1.2447 - val_accuracy: 0.5776\n",
      "\n",
      "Epoch 00031: val_loss did not improve from 0.48089\n",
      "Epoch 32/50\n",
      "59/59 [==============================] - 77s 1s/step - loss: 0.4511 - accuracy: 0.7803 - val_loss: 0.5760 - val_accuracy: 0.7284\n",
      "\n",
      "Epoch 00032: val_loss did not improve from 0.48089\n",
      "Epoch 33/50\n",
      "59/59 [==============================] - 79s 1s/step - loss: 0.4557 - accuracy: 0.7767 - val_loss: 2.3860 - val_accuracy: 0.5302\n",
      "\n",
      "Epoch 00033: val_loss did not improve from 0.48089\n",
      "Epoch 34/50\n",
      "59/59 [==============================] - 76s 1s/step - loss: 0.4256 - accuracy: 0.8127 - val_loss: 0.8034 - val_accuracy: 0.6552\n",
      "\n",
      "Epoch 00034: val_loss did not improve from 0.48089\n",
      "Epoch 35/50\n",
      "59/59 [==============================] - 82s 1s/step - loss: 0.4496 - accuracy: 0.7980 - val_loss: 0.4977 - val_accuracy: 0.7328\n",
      "\n",
      "Epoch 00035: val_loss did not improve from 0.48089\n",
      "Epoch 36/50\n",
      "59/59 [==============================] - 78s 1s/step - loss: 0.4414 - accuracy: 0.7917 - val_loss: 0.5908 - val_accuracy: 0.7069\n",
      "\n",
      "Epoch 00036: val_loss did not improve from 0.48089\n",
      "Epoch 37/50\n",
      "59/59 [==============================] - 80s 1s/step - loss: 0.4279 - accuracy: 0.8083 - val_loss: 0.5697 - val_accuracy: 0.7284\n",
      "\n",
      "Epoch 00037: val_loss did not improve from 0.48089\n",
      "Epoch 38/50\n",
      "59/59 [==============================] - 76s 1s/step - loss: 0.4047 - accuracy: 0.8292 - val_loss: 0.5289 - val_accuracy: 0.7155\n",
      "\n",
      "Epoch 00038: val_loss did not improve from 0.48089\n",
      "Epoch 39/50\n"
     ]
    },
    {
     "name": "stdout",
     "output_type": "stream",
     "text": [
      "59/59 [==============================] - 77s 1s/step - loss: 0.4237 - accuracy: 0.8016 - val_loss: 0.5095 - val_accuracy: 0.7371\n",
      "\n",
      "Epoch 00039: val_loss did not improve from 0.48089\n",
      "Epoch 40/50\n",
      "59/59 [==============================] - 76s 1s/step - loss: 0.4437 - accuracy: 0.8017 - val_loss: 1.0199 - val_accuracy: 0.6207\n",
      "\n",
      "Epoch 00040: val_loss did not improve from 0.48089\n",
      "Epoch 41/50\n",
      "59/59 [==============================] - 77s 1s/step - loss: 0.4329 - accuracy: 0.7859 - val_loss: 0.5499 - val_accuracy: 0.7284\n",
      "\n",
      "Epoch 00041: val_loss did not improve from 0.48089\n",
      "Epoch 42/50\n",
      "59/59 [==============================] - 77s 1s/step - loss: 0.4205 - accuracy: 0.7990 - val_loss: 0.9450 - val_accuracy: 0.6595\n",
      "\n",
      "Epoch 00042: val_loss did not improve from 0.48089\n",
      "Epoch 43/50\n",
      "59/59 [==============================] - 75s 1s/step - loss: 0.4223 - accuracy: 0.8056 - val_loss: 0.8032 - val_accuracy: 0.6767\n",
      "\n",
      "Epoch 00043: val_loss did not improve from 0.48089\n",
      "Epoch 44/50\n",
      "59/59 [==============================] - 76s 1s/step - loss: 0.3918 - accuracy: 0.8203 - val_loss: 0.9539 - val_accuracy: 0.6897\n",
      "\n",
      "Epoch 00044: val_loss did not improve from 0.48089\n",
      "Epoch 45/50\n",
      "59/59 [==============================] - 77s 1s/step - loss: 0.4110 - accuracy: 0.7938 - val_loss: 0.8886 - val_accuracy: 0.6724\n",
      "\n",
      "Epoch 00045: val_loss did not improve from 0.48089\n",
      "Epoch 46/50\n",
      "59/59 [==============================] - 76s 1s/step - loss: 0.3735 - accuracy: 0.8344 - val_loss: 0.6834 - val_accuracy: 0.7069\n",
      "\n",
      "Epoch 00046: val_loss did not improve from 0.48089\n",
      "Epoch 47/50\n",
      "59/59 [==============================] - 76s 1s/step - loss: 0.4065 - accuracy: 0.8243 - val_loss: 1.2211 - val_accuracy: 0.6379\n",
      "\n",
      "Epoch 00047: val_loss did not improve from 0.48089\n",
      "Epoch 48/50\n",
      "59/59 [==============================] - 79s 1s/step - loss: 0.3741 - accuracy: 0.8273 - val_loss: 0.9172 - val_accuracy: 0.6853\n",
      "\n",
      "Epoch 00048: val_loss did not improve from 0.48089\n",
      "Epoch 49/50\n",
      "59/59 [==============================] - 79s 1s/step - loss: 0.4201 - accuracy: 0.7804 - val_loss: 0.7127 - val_accuracy: 0.7069\n",
      "\n",
      "Epoch 00049: val_loss did not improve from 0.48089\n",
      "Epoch 50/50\n",
      "59/59 [==============================] - 76s 1s/step - loss: 0.3923 - accuracy: 0.8067 - val_loss: 0.8761 - val_accuracy: 0.6767\n",
      "\n",
      "Epoch 00050: val_loss did not improve from 0.48089\n"
     ]
    }
   ],
   "source": [
    "#cb_early_stopper = EarlyStopping(monitor = 'val_loss', patience = 10)\n",
    "cb_checkpointer  = ModelCheckpoint(filepath = CFG['path_model']+'ResNet50-DA-balanced-{epoch:02d}-{val_loss:.2f}.hdf5',\n",
    "                                   monitor  = 'val_loss', \n",
    "                                   verbose  = CFG['verbose'], \n",
    "                                   save_best_only=True, \n",
    "                                   mode='min'\n",
    "                                  )\n",
    "\n",
    "callbacks_list = [cb_lr_scheduler, cb_checkpointer]\n",
    "\n",
    "history = model_ResNet50.fit(train_generator, \n",
    "                             epochs=CFG['epochs'], \n",
    "                             workers=CFG['workers'],\n",
    "                             validation_data=valid_generator, \n",
    "                             callbacks = callbacks_list\n",
    "                            )"
   ]
  },
  {
   "cell_type": "code",
   "execution_count": 21,
   "id": "b496f794",
   "metadata": {},
   "outputs": [
    {
     "data": {
      "image/png": "[encoded data removed]",
      "text/plain": [
       "<Figure size 1656x576 with 2 Axes>"
      ]
     },
     "metadata": {
      "needs_background": "light"
     },
     "output_type": "display_data"
    }
   ],
   "source": [
    "acc = history.history['accuracy']\n",
    "val_acc = history.history['val_accuracy']\n",
    "\n",
    "loss = history.history['loss']\n",
    "val_loss = history.history['val_loss']\n",
    "\n",
    "metrics = history.history['accuracy']\n",
    "epochs_range = range(1, len(metrics) + 1) \n",
    "\n",
    "plt.figure(figsize=(23, 8))\n",
    "plt.subplot(1, 2, 1)\n",
    "plt.plot(epochs_range, acc, label='Training Accuracy')\n",
    "plt.plot(epochs_range, val_acc, label='Validation Accuracy')\n",
    "plt.legend(loc='lower right')\n",
    "plt.title('Training and Validation Accuracy')\n",
    "\n",
    "plt.subplot(1, 2, 2)\n",
    "plt.plot(epochs_range, loss, label='Training Loss')\n",
    "plt.plot(epochs_range, val_loss, label='Validation Loss')\n",
    "plt.ylim([0, 5])\n",
    "plt.legend(loc='upper right')\n",
    "plt.title('Training and Validation Loss')\n",
    "plt.show()"
   ]
  },
  {
   "cell_type": "markdown",
   "id": "8a25608c",
   "metadata": {},
   "source": [
    "# Make predictions on the Validation set and analyze the results"
   ]
  },
  {
   "cell_type": "code",
   "execution_count": 19,
   "id": "f841546d",
   "metadata": {},
   "outputs": [],
   "source": [
    "from tensorflow.keras.models import load_model"
   ]
  },
  {
   "cell_type": "code",
   "execution_count": 23,
   "id": "cd2f32cf",
   "metadata": {},
   "outputs": [],
   "source": [
    "model = load_model('/home/ubuntu/w210_melanoma/model/ResNet50-DA-balanced-28-0.48.hdf5')"
   ]
  },
  {
   "cell_type": "code",
   "execution_count": 24,
   "id": "575dd5a2",
   "metadata": {},
   "outputs": [
    {
     "name": "stdout",
     "output_type": "stream",
     "text": [
      "Model: \"sequential\"\n",
      "_________________________________________________________________\n",
      "Layer (type)                 Output Shape              Param #   \n",
      "=================================================================\n",
      "resnet50 (Functional)        (None, 7, 7, 2048)        23587712  \n",
      "_________________________________________________________________\n",
      "global_average_pooling2d (Gl (None, 2048)              0         \n",
      "_________________________________________________________________\n",
      "dense (Dense)                (None, 2)                 4098      \n",
      "=================================================================\n",
      "Total params: 23,591,810\n",
      "Trainable params: 23,538,690\n",
      "Non-trainable params: 53,120\n",
      "_________________________________________________________________\n"
     ]
    }
   ],
   "source": [
    "model.summary()"
   ]
  },
  {
   "cell_type": "code",
   "execution_count": 41,
   "id": "f767fa22",
   "metadata": {},
   "outputs": [
    {
     "name": "stdout",
     "output_type": "stream",
     "text": [
      "Found 1168 files belonging to 2 classes.\n",
      "Using 233 files for validation.\n"
     ]
    }
   ],
   "source": [
    "valid_ds = tf.keras.preprocessing.image_dataset_from_directory(train_dir, \n",
    "                                                               validation_split=0.2, \n",
    "                                                               image_size=(224,224), \n",
    "                                                               subset=\"validation\",\n",
    "                                                               seed=SEED)"
   ]
  },
  {
   "cell_type": "code",
   "execution_count": 42,
   "id": "777fc467",
   "metadata": {},
   "outputs": [],
   "source": [
    "file_paths = valid_ds.file_paths"
   ]
  },
  {
   "cell_type": "code",
   "execution_count": 43,
   "id": "c798b2c7",
   "metadata": {},
   "outputs": [
    {
     "data": {
      "text/plain": [
       "'ISIC_2975580'"
      ]
     },
     "execution_count": 43,
     "metadata": {},
     "output_type": "execute_result"
    }
   ],
   "source": [
    "file_paths[1].split(os.sep)[-1][0:-4]"
   ]
  },
  {
   "cell_type": "code",
   "execution_count": 33,
   "id": "cf014c35",
   "metadata": {},
   "outputs": [],
   "source": [
    "def process(image,label):\n",
    "    image = tf.cast(image/255. ,tf.float32)\n",
    "    return image,label"
   ]
  },
  {
   "cell_type": "code",
   "execution_count": 34,
   "id": "f060297d",
   "metadata": {},
   "outputs": [],
   "source": [
    "valid_ds = valid_ds.map(process)"
   ]
  },
  {
   "cell_type": "code",
   "execution_count": 35,
   "id": "bfcab63c",
   "metadata": {},
   "outputs": [],
   "source": [
    "valid_images_ds = valid_ds.map(lambda image, idnum: image)"
   ]
  },
  {
   "cell_type": "code",
   "execution_count": 36,
   "id": "c75b3cb6",
   "metadata": {},
   "outputs": [],
   "source": [
    "pred_probs = model.predict(valid_images_ds)"
   ]
  },
  {
   "cell_type": "code",
   "execution_count": 37,
   "id": "f4958136",
   "metadata": {},
   "outputs": [
    {
     "data": {
      "text/plain": [
       "(233, 2)"
      ]
     },
     "execution_count": 37,
     "metadata": {},
     "output_type": "execute_result"
    }
   ],
   "source": [
    "pred_probs.shape"
   ]
  },
  {
   "cell_type": "code",
   "execution_count": 39,
   "id": "5c7f00ee",
   "metadata": {},
   "outputs": [
    {
     "data": {
      "text/plain": [
       "0.99949324"
      ]
     },
     "execution_count": 39,
     "metadata": {},
     "output_type": "execute_result"
    }
   ],
   "source": [
    "pred_probs[:,1].max()"
   ]
  },
  {
   "cell_type": "code",
   "execution_count": 44,
   "id": "43e47e66",
   "metadata": {},
   "outputs": [],
   "source": [
    "valid_ids_ds = valid_ds.map(lambda image, idnum: idnum).unbatch()"
   ]
  },
  {
   "cell_type": "code",
   "execution_count": 45,
   "id": "85b279ce",
   "metadata": {},
   "outputs": [],
   "source": [
    "valid_ids = next(iter(valid_ids_ds.batch(233))).numpy().astype('U')"
   ]
  },
  {
   "cell_type": "code",
   "execution_count": 46,
   "id": "767bae2d",
   "metadata": {},
   "outputs": [
    {
     "data": {
      "text/plain": [
       "233"
      ]
     },
     "execution_count": 46,
     "metadata": {},
     "output_type": "execute_result"
    }
   ],
   "source": [
    "len(valid_ids)"
   ]
  },
  {
   "cell_type": "code",
   "execution_count": 47,
   "id": "92ca2795",
   "metadata": {},
   "outputs": [],
   "source": [
    "img_list = []\n",
    "img_id_list = []\n",
    "img_name_list = []\n",
    "for i in range(len(file_paths)):\n",
    "    img_list.append(file_paths[i].split(os.sep)[-1])\n",
    "    img_id_list.append(i)\n",
    "    img_name_list.append(file_paths[i].split(os.sep)[-1][0:-4])\n",
    "\n",
    "img_name_list_by_ids = []\n",
    "for iid in list(valid_ids):\n",
    "    #print(int(iid),img_name_list[int(iid)],pred_probs[:,1][int(iid)]) \n",
    "    img_name_list_by_ids.append(img_name_list[int(iid)])"
   ]
  },
  {
   "cell_type": "code",
   "execution_count": 48,
   "id": "d736639a",
   "metadata": {},
   "outputs": [
    {
     "data": {
      "text/html": [
       "<div>\n",
       "<style scoped>\n",
       "    .dataframe tbody tr th:only-of-type {\n",
       "        vertical-align: middle;\n",
       "    }\n",
       "\n",
       "    .dataframe tbody tr th {\n",
       "        vertical-align: top;\n",
       "    }\n",
       "\n",
       "    .dataframe thead th {\n",
       "        text-align: right;\n",
       "    }\n",
       "</style>\n",
       "<table border=\"1\" class=\"dataframe\">\n",
       "  <thead>\n",
       "    <tr style=\"text-align: right;\">\n",
       "      <th></th>\n",
       "      <th>image_name</th>\n",
       "      <th>pred_target</th>\n",
       "    </tr>\n",
       "  </thead>\n",
       "  <tbody>\n",
       "    <tr>\n",
       "      <th>0</th>\n",
       "      <td>ISIC_4237327</td>\n",
       "      <td>0.499199</td>\n",
       "    </tr>\n",
       "    <tr>\n",
       "      <th>1</th>\n",
       "      <td>ISIC_2975580</td>\n",
       "      <td>0.003195</td>\n",
       "    </tr>\n",
       "    <tr>\n",
       "      <th>2</th>\n",
       "      <td>ISIC_2937642</td>\n",
       "      <td>0.968614</td>\n",
       "    </tr>\n",
       "    <tr>\n",
       "      <th>3</th>\n",
       "      <td>ISIC_9963177</td>\n",
       "      <td>0.941437</td>\n",
       "    </tr>\n",
       "    <tr>\n",
       "      <th>4</th>\n",
       "      <td>ISIC_8598120</td>\n",
       "      <td>0.021651</td>\n",
       "    </tr>\n",
       "  </tbody>\n",
       "</table>\n",
       "</div>"
      ],
      "text/plain": [
       "     image_name  pred_target\n",
       "0  ISIC_4237327     0.499199\n",
       "1  ISIC_2975580     0.003195\n",
       "2  ISIC_2937642     0.968614\n",
       "3  ISIC_9963177     0.941437\n",
       "4  ISIC_8598120     0.021651"
      ]
     },
     "execution_count": 48,
     "metadata": {},
     "output_type": "execute_result"
    }
   ],
   "source": [
    "pred_df = pd.DataFrame({'image_name': img_name_list, 'pred_target': pred_probs[:,1]})\n",
    "pred_df.head()"
   ]
  },
  {
   "cell_type": "code",
   "execution_count": 49,
   "id": "da1b7307",
   "metadata": {},
   "outputs": [
    {
     "data": {
      "text/plain": [
       "233"
      ]
     },
     "execution_count": 49,
     "metadata": {},
     "output_type": "execute_result"
    }
   ],
   "source": [
    "len(pred_df)"
   ]
  },
  {
   "cell_type": "code",
   "execution_count": 50,
   "id": "da90f8d2",
   "metadata": {},
   "outputs": [
    {
     "data": {
      "text/html": [
       "<div>\n",
       "<style scoped>\n",
       "    .dataframe tbody tr th:only-of-type {\n",
       "        vertical-align: middle;\n",
       "    }\n",
       "\n",
       "    .dataframe tbody tr th {\n",
       "        vertical-align: top;\n",
       "    }\n",
       "\n",
       "    .dataframe thead th {\n",
       "        text-align: right;\n",
       "    }\n",
       "</style>\n",
       "<table border=\"1\" class=\"dataframe\">\n",
       "  <thead>\n",
       "    <tr style=\"text-align: right;\">\n",
       "      <th></th>\n",
       "      <th>image_name</th>\n",
       "      <th>patient_id</th>\n",
       "      <th>sex</th>\n",
       "      <th>age_approx</th>\n",
       "      <th>anatom_site_general_challenge</th>\n",
       "      <th>diagnosis</th>\n",
       "      <th>benign_malignant</th>\n",
       "      <th>target</th>\n",
       "    </tr>\n",
       "  </thead>\n",
       "  <tbody>\n",
       "    <tr>\n",
       "      <th>0</th>\n",
       "      <td>ISIC_2637011</td>\n",
       "      <td>IP_7279968</td>\n",
       "      <td>male</td>\n",
       "      <td>45.0</td>\n",
       "      <td>head/neck</td>\n",
       "      <td>unknown</td>\n",
       "      <td>benign</td>\n",
       "      <td>0</td>\n",
       "    </tr>\n",
       "    <tr>\n",
       "      <th>1</th>\n",
       "      <td>ISIC_0015719</td>\n",
       "      <td>IP_3075186</td>\n",
       "      <td>female</td>\n",
       "      <td>45.0</td>\n",
       "      <td>upper extremity</td>\n",
       "      <td>unknown</td>\n",
       "      <td>benign</td>\n",
       "      <td>0</td>\n",
       "    </tr>\n",
       "    <tr>\n",
       "      <th>2</th>\n",
       "      <td>ISIC_0052212</td>\n",
       "      <td>IP_2842074</td>\n",
       "      <td>female</td>\n",
       "      <td>50.0</td>\n",
       "      <td>lower extremity</td>\n",
       "      <td>nevus</td>\n",
       "      <td>benign</td>\n",
       "      <td>0</td>\n",
       "    </tr>\n",
       "    <tr>\n",
       "      <th>3</th>\n",
       "      <td>ISIC_0068279</td>\n",
       "      <td>IP_6890425</td>\n",
       "      <td>female</td>\n",
       "      <td>45.0</td>\n",
       "      <td>head/neck</td>\n",
       "      <td>unknown</td>\n",
       "      <td>benign</td>\n",
       "      <td>0</td>\n",
       "    </tr>\n",
       "    <tr>\n",
       "      <th>4</th>\n",
       "      <td>ISIC_0074268</td>\n",
       "      <td>IP_8723313</td>\n",
       "      <td>female</td>\n",
       "      <td>55.0</td>\n",
       "      <td>upper extremity</td>\n",
       "      <td>unknown</td>\n",
       "      <td>benign</td>\n",
       "      <td>0</td>\n",
       "    </tr>\n",
       "  </tbody>\n",
       "</table>\n",
       "</div>"
      ],
      "text/plain": [
       "     image_name  patient_id     sex  age_approx anatom_site_general_challenge  \\\n",
       "0  ISIC_2637011  IP_7279968    male        45.0                     head/neck   \n",
       "1  ISIC_0015719  IP_3075186  female        45.0               upper extremity   \n",
       "2  ISIC_0052212  IP_2842074  female        50.0               lower extremity   \n",
       "3  ISIC_0068279  IP_6890425  female        45.0                     head/neck   \n",
       "4  ISIC_0074268  IP_8723313  female        55.0               upper extremity   \n",
       "\n",
       "  diagnosis benign_malignant  target  \n",
       "0   unknown           benign       0  \n",
       "1   unknown           benign       0  \n",
       "2     nevus           benign       0  \n",
       "3   unknown           benign       0  \n",
       "4   unknown           benign       0  "
      ]
     },
     "execution_count": 50,
     "metadata": {},
     "output_type": "execute_result"
    }
   ],
   "source": [
    "df_train_full.head()"
   ]
  },
  {
   "cell_type": "code",
   "execution_count": 51,
   "id": "d9a645db",
   "metadata": {},
   "outputs": [],
   "source": [
    "pred_df = pd.merge(pred_df, df_train_full, on = ['image_name'], how = 'left')"
   ]
  },
  {
   "cell_type": "code",
   "execution_count": 52,
   "id": "4e6c6372",
   "metadata": {},
   "outputs": [],
   "source": [
    "TP, TN, FP, FN = 0, 0, 0, 0\n",
    "\n",
    "for index, row in pred_df.iterrows():\n",
    "    if row['target'] == 0:\n",
    "        if row['pred_target'] < 0.5:\n",
    "            TN += 1\n",
    "        else:\n",
    "            FP += 1\n",
    "    else:\n",
    "        if row['pred_target'] > 0.5:\n",
    "            TP += 1\n",
    "        else:\n",
    "            FN += 1"
   ]
  },
  {
   "cell_type": "code",
   "execution_count": 53,
   "id": "ec5e2210",
   "metadata": {},
   "outputs": [
    {
     "name": "stdout",
     "output_type": "stream",
     "text": [
      "True Positive: 54\n",
      "True Negative: 74\n",
      "False Positive: 55\n",
      "False Negative: 50\n",
      "------------------------------\n",
      "Accuracy: 0.5493562231759657\n",
      "Precision: 0.4954128440366973\n",
      "Recall: 0.5967741935483871\n",
      "F-1 Score: 0.5070422535211268\n"
     ]
    }
   ],
   "source": [
    "np.seterr(divide='ignore', invalid='ignore')\n",
    "print(\"True Positive:\", TP)\n",
    "print(\"True Negative:\", TN)\n",
    "print(\"False Positive:\", FP)\n",
    "print(\"False Negative:\", FN)\n",
    "print(\"------------------------------\")\n",
    "print(\"Accuracy:\", (TP+TN)/(TP+TN+FP+FN))\n",
    "print(\"Precision:\", np.nan_to_num(np.divide(TP, TP+FP)))\n",
    "print(\"Recall:\", np.nan_to_num(np.divide(TN, TN+FN)))\n",
    "print(\"F-1 Score:\", 2*TP/(2*TP+FP+FN))"
   ]
  },
  {
   "cell_type": "code",
   "execution_count": null,
   "id": "49e47789",
   "metadata": {},
   "outputs": [],
   "source": []
  }
 ],
 "metadata": {
  "kernelspec": {
   "display_name": "Environment (conda_tensorflow2_latest_p37)",
   "language": "python",
   "name": "conda_tensorflow2_latest_p37"
  },
  "language_info": {
   "codemirror_mode": {
    "name": "ipython",
    "version": 3
   },
   "file_extension": ".py",
   "mimetype": "text/x-python",
   "name": "python",
   "nbconvert_exporter": "python",
   "pygments_lexer": "ipython3",
   "version": "3.7.10"
  }
 },
 "nbformat": 4,
 "nbformat_minor": 5
}
