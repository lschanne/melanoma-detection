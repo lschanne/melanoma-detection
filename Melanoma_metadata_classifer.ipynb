{
  "nbformat": 4,
  "nbformat_minor": 0,
  "metadata": {
    "colab": {
      "name": "Melanoma_metadata_classifer.ipynb",
      "provenance": [],
      "collapsed_sections": [
        "MGZHg01VLBAQ",
        "t8ew328l4O84",
        "ftavZflCyF0x",
        "6SW9d0EOOqeS"
      ],
      "toc_visible": true,
      "authorship_tag": "ABX9TyMqfDmcbPsdmOHeNkUKM2qG",
      "include_colab_link": true
    },
    "kernelspec": {
      "name": "python3",
      "display_name": "Python 3"
    },
    "language_info": {
      "name": "python"
    }
  },
  "cells": [
    {
      "cell_type": "markdown",
      "metadata": {
        "id": "view-in-github",
        "colab_type": "text"
      },
      "source": [
        "<a href=\"https://colab.research.google.com/github/lschanne/melanoma-detection/blob/Sharon/Melanoma_metadata_classifer.ipynb\" target=\"_parent\"><img src=\"https://colab.research.google.com/assets/colab-badge.svg\" alt=\"Open In Colab\"/></a>"
      ]
    },
    {
      "cell_type": "code",
      "metadata": {
        "id": "06Lnu6NmZpMM"
      },
      "source": [
        "import pandas as pd\n",
        "import numpy as np\n",
        "from sklearn import preprocessing\n",
        "import matplotlib.pyplot as plt\n",
        "from sklearn.linear_model import LogisticRegression\n",
        "from sklearn.model_selection import train_test_split\n",
        "from sklearn.metrics import classification_report\n",
        "from sklearn.preprocessing import StandardScaler\n",
        "from sklearn.svm import SVC\n",
        "from sklearn.preprocessing import OneHotEncoder\n",
        "from sklearn.preprocessing import LabelEncoder\n",
        "from sklearn.metrics import confusion_matrix\n",
        "from sklearn.ensemble import RandomForestClassifier\n",
        "from sklearn.model_selection import train_test_split, GridSearchCV\n",
        "from sklearn.metrics import accuracy_score\n",
        "import seaborn as sns\n",
        "import pandas as pd\n",
        "import numpy as np\n",
        "import matplotlib.pyplot as plt\n",
        "import altair as alt\n",
        "\n",
        "from skimage import img_as_uint\n",
        "from skimage.io import imshow, imread\n",
        "from skimage.color import rgb2hsv\n",
        "from skimage.color import rgb2gray\n",
        "\n",
        "import os\n",
        "from PIL import Image\n",
        "import glob, random"
      ],
      "execution_count": 37,
      "outputs": []
    },
    {
      "cell_type": "markdown",
      "metadata": {
        "id": "-L2cu7BjnlpM"
      },
      "source": [
        "# Load Data set\n"
      ]
    },
    {
      "cell_type": "code",
      "metadata": {
        "id": "pp7vJyo7bAYv",
        "colab": {
          "base_uri": "https://localhost:8080/",
          "height": 226
        },
        "outputId": "d839b39b-b3d0-4894-90bf-9c6c614663de"
      },
      "source": [
        "data = pd.read_csv('train.csv')\n",
        "data.head()\n",
        "#print(data.shape)\n",
        "#print(data.columns)"
      ],
      "execution_count": 66,
      "outputs": [
        {
          "output_type": "execute_result",
          "data": {
            "text/html": [
              "<div>\n",
              "<style scoped>\n",
              "    .dataframe tbody tr th:only-of-type {\n",
              "        vertical-align: middle;\n",
              "    }\n",
              "\n",
              "    .dataframe tbody tr th {\n",
              "        vertical-align: top;\n",
              "    }\n",
              "\n",
              "    .dataframe thead th {\n",
              "        text-align: right;\n",
              "    }\n",
              "</style>\n",
              "<table border=\"1\" class=\"dataframe\">\n",
              "  <thead>\n",
              "    <tr style=\"text-align: right;\">\n",
              "      <th></th>\n",
              "      <th>image_name</th>\n",
              "      <th>patient_id</th>\n",
              "      <th>lesion_id</th>\n",
              "      <th>sex</th>\n",
              "      <th>age_approx</th>\n",
              "      <th>anatom_site_general_challenge</th>\n",
              "      <th>diagnosis</th>\n",
              "      <th>benign_malignant</th>\n",
              "      <th>target</th>\n",
              "    </tr>\n",
              "  </thead>\n",
              "  <tbody>\n",
              "    <tr>\n",
              "      <th>0</th>\n",
              "      <td>ISIC_2637011</td>\n",
              "      <td>IP_7279968</td>\n",
              "      <td>IL_7972535</td>\n",
              "      <td>male</td>\n",
              "      <td>45.0</td>\n",
              "      <td>head/neck</td>\n",
              "      <td>unknown</td>\n",
              "      <td>benign</td>\n",
              "      <td>0</td>\n",
              "    </tr>\n",
              "    <tr>\n",
              "      <th>1</th>\n",
              "      <td>ISIC_0015719</td>\n",
              "      <td>IP_3075186</td>\n",
              "      <td>IL_4649854</td>\n",
              "      <td>female</td>\n",
              "      <td>45.0</td>\n",
              "      <td>upper extremity</td>\n",
              "      <td>unknown</td>\n",
              "      <td>benign</td>\n",
              "      <td>0</td>\n",
              "    </tr>\n",
              "    <tr>\n",
              "      <th>2</th>\n",
              "      <td>ISIC_0052212</td>\n",
              "      <td>IP_2842074</td>\n",
              "      <td>IL_9087444</td>\n",
              "      <td>female</td>\n",
              "      <td>50.0</td>\n",
              "      <td>lower extremity</td>\n",
              "      <td>nevus</td>\n",
              "      <td>benign</td>\n",
              "      <td>0</td>\n",
              "    </tr>\n",
              "    <tr>\n",
              "      <th>3</th>\n",
              "      <td>ISIC_0068279</td>\n",
              "      <td>IP_6890425</td>\n",
              "      <td>IL_4255399</td>\n",
              "      <td>female</td>\n",
              "      <td>45.0</td>\n",
              "      <td>head/neck</td>\n",
              "      <td>unknown</td>\n",
              "      <td>benign</td>\n",
              "      <td>0</td>\n",
              "    </tr>\n",
              "    <tr>\n",
              "      <th>4</th>\n",
              "      <td>ISIC_0074268</td>\n",
              "      <td>IP_8723313</td>\n",
              "      <td>IL_6898037</td>\n",
              "      <td>female</td>\n",
              "      <td>55.0</td>\n",
              "      <td>upper extremity</td>\n",
              "      <td>unknown</td>\n",
              "      <td>benign</td>\n",
              "      <td>0</td>\n",
              "    </tr>\n",
              "  </tbody>\n",
              "</table>\n",
              "</div>"
            ],
            "text/plain": [
              "     image_name  patient_id   lesion_id  ... diagnosis  benign_malignant target\n",
              "0  ISIC_2637011  IP_7279968  IL_7972535  ...   unknown            benign      0\n",
              "1  ISIC_0015719  IP_3075186  IL_4649854  ...   unknown            benign      0\n",
              "2  ISIC_0052212  IP_2842074  IL_9087444  ...     nevus            benign      0\n",
              "3  ISIC_0068279  IP_6890425  IL_4255399  ...   unknown            benign      0\n",
              "4  ISIC_0074268  IP_8723313  IL_6898037  ...   unknown            benign      0\n",
              "\n",
              "[5 rows x 9 columns]"
            ]
          },
          "metadata": {},
          "execution_count": 66
        }
      ]
    },
    {
      "cell_type": "markdown",
      "metadata": {
        "id": "ucLXr6a55eL-"
      },
      "source": [
        "# Read & Data Split\n",
        "\n"
      ]
    },
    {
      "cell_type": "code",
      "metadata": {
        "colab": {
          "base_uri": "https://localhost:8080/",
          "height": 206
        },
        "id": "0AZpqYjf5ilt",
        "outputId": "85a6f4da-b045-44b4-cbe0-34204eb78d78"
      },
      "source": [
        "data = data.loc[:,['sex', 'age_approx','anatom_site_general_challenge','target']]\n",
        "data.head()"
      ],
      "execution_count": 67,
      "outputs": [
        {
          "output_type": "execute_result",
          "data": {
            "text/html": [
              "<div>\n",
              "<style scoped>\n",
              "    .dataframe tbody tr th:only-of-type {\n",
              "        vertical-align: middle;\n",
              "    }\n",
              "\n",
              "    .dataframe tbody tr th {\n",
              "        vertical-align: top;\n",
              "    }\n",
              "\n",
              "    .dataframe thead th {\n",
              "        text-align: right;\n",
              "    }\n",
              "</style>\n",
              "<table border=\"1\" class=\"dataframe\">\n",
              "  <thead>\n",
              "    <tr style=\"text-align: right;\">\n",
              "      <th></th>\n",
              "      <th>sex</th>\n",
              "      <th>age_approx</th>\n",
              "      <th>anatom_site_general_challenge</th>\n",
              "      <th>target</th>\n",
              "    </tr>\n",
              "  </thead>\n",
              "  <tbody>\n",
              "    <tr>\n",
              "      <th>0</th>\n",
              "      <td>male</td>\n",
              "      <td>45.0</td>\n",
              "      <td>head/neck</td>\n",
              "      <td>0</td>\n",
              "    </tr>\n",
              "    <tr>\n",
              "      <th>1</th>\n",
              "      <td>female</td>\n",
              "      <td>45.0</td>\n",
              "      <td>upper extremity</td>\n",
              "      <td>0</td>\n",
              "    </tr>\n",
              "    <tr>\n",
              "      <th>2</th>\n",
              "      <td>female</td>\n",
              "      <td>50.0</td>\n",
              "      <td>lower extremity</td>\n",
              "      <td>0</td>\n",
              "    </tr>\n",
              "    <tr>\n",
              "      <th>3</th>\n",
              "      <td>female</td>\n",
              "      <td>45.0</td>\n",
              "      <td>head/neck</td>\n",
              "      <td>0</td>\n",
              "    </tr>\n",
              "    <tr>\n",
              "      <th>4</th>\n",
              "      <td>female</td>\n",
              "      <td>55.0</td>\n",
              "      <td>upper extremity</td>\n",
              "      <td>0</td>\n",
              "    </tr>\n",
              "  </tbody>\n",
              "</table>\n",
              "</div>"
            ],
            "text/plain": [
              "      sex  age_approx anatom_site_general_challenge  target\n",
              "0    male        45.0                     head/neck       0\n",
              "1  female        45.0               upper extremity       0\n",
              "2  female        50.0               lower extremity       0\n",
              "3  female        45.0                     head/neck       0\n",
              "4  female        55.0               upper extremity       0"
            ]
          },
          "metadata": {},
          "execution_count": 67
        }
      ]
    },
    {
      "cell_type": "code",
      "metadata": {
        "colab": {
          "base_uri": "https://localhost:8080/"
        },
        "id": "mpm3pBSp5tEI",
        "outputId": "79ed2cf6-9a3a-4920-b454-85c1524e4465"
      },
      "source": [
        "data['target'].value_counts()\n",
        "data['target'].value_counts()/np.float(len(data))\n"
      ],
      "execution_count": 68,
      "outputs": [
        {
          "output_type": "execute_result",
          "data": {
            "text/plain": [
              "0    0.98237\n",
              "1    0.01763\n",
              "Name: target, dtype: float64"
            ]
          },
          "metadata": {},
          "execution_count": 68
        }
      ]
    },
    {
      "cell_type": "code",
      "metadata": {
        "id": "BiNZsu5XFK3U"
      },
      "source": [
        "# spliting data set \n",
        "train, test = train_test_split(data, test_size = 0.2, random_state = 0)"
      ],
      "execution_count": 69,
      "outputs": []
    },
    {
      "cell_type": "code",
      "metadata": {
        "colab": {
          "base_uri": "https://localhost:8080/"
        },
        "id": "57KaS9cvOzPj",
        "outputId": "fbfa3bbc-c6ee-4e1b-ab39-518bfdc6a41b"
      },
      "source": [
        "train.shape"
      ],
      "execution_count": 42,
      "outputs": [
        {
          "output_type": "execute_result",
          "data": {
            "text/plain": [
              "(26500, 4)"
            ]
          },
          "metadata": {},
          "execution_count": 42
        }
      ]
    },
    {
      "cell_type": "code",
      "metadata": {
        "colab": {
          "base_uri": "https://localhost:8080/"
        },
        "id": "TC6WSgWuO1iV",
        "outputId": "0082fe23-613e-4ac2-af31-b37da203209e"
      },
      "source": [
        "test.shape"
      ],
      "execution_count": 43,
      "outputs": [
        {
          "output_type": "execute_result",
          "data": {
            "text/plain": [
              "(6626, 4)"
            ]
          },
          "metadata": {},
          "execution_count": 43
        }
      ]
    },
    {
      "cell_type": "code",
      "metadata": {
        "colab": {
          "base_uri": "https://localhost:8080/"
        },
        "id": "DqZ54tyuFdsF",
        "outputId": "e0a6192f-d971-4573-b644-57a0e148d381"
      },
      "source": [
        "train['target'].value_counts()\n"
      ],
      "execution_count": 44,
      "outputs": [
        {
          "output_type": "execute_result",
          "data": {
            "text/plain": [
              "0    26031\n",
              "1      469\n",
              "Name: target, dtype: int64"
            ]
          },
          "metadata": {},
          "execution_count": 44
        }
      ]
    },
    {
      "cell_type": "code",
      "metadata": {
        "colab": {
          "base_uri": "https://localhost:8080/"
        },
        "id": "KTobKZmx7vGV",
        "outputId": "0c7820ca-d34c-490d-f0ad-23cc960aab51"
      },
      "source": [
        "test['target'].value_counts()"
      ],
      "execution_count": 45,
      "outputs": [
        {
          "output_type": "execute_result",
          "data": {
            "text/plain": [
              "0    6511\n",
              "1     115\n",
              "Name: target, dtype: int64"
            ]
          },
          "metadata": {},
          "execution_count": 45
        }
      ]
    },
    {
      "cell_type": "code",
      "metadata": {
        "id": "wYiBcd4JceW2"
      },
      "source": [
        "# Split dataset\n",
        "X_train = train.drop(['target'], axis=1)\n",
        "y_train = train['target']\n",
        "X_test = test.drop(['target'], axis=1)\n",
        "y_test = test['target']\n",
        "\n",
        "\n"
      ],
      "execution_count": 70,
      "outputs": []
    },
    {
      "cell_type": "code",
      "metadata": {
        "colab": {
          "base_uri": "https://localhost:8080/"
        },
        "id": "o3B81J84uaZ2",
        "outputId": "0608d91f-6ce6-4453-c81e-5d760403f853"
      },
      "source": [
        "X_test.head"
      ],
      "execution_count": 72,
      "outputs": [
        {
          "output_type": "execute_result",
          "data": {
            "text/plain": [
              "<bound method NDFrame.head of           sex  age_approx anatom_site_general_challenge\n",
              "30482  female        45.0               upper extremity\n",
              "32924  female        45.0               upper extremity\n",
              "13133    male        45.0               upper extremity\n",
              "10851    male        65.0               upper extremity\n",
              "23966    male        30.0                         torso\n",
              "...       ...         ...                           ...\n",
              "8136     male        70.0                         torso\n",
              "2764     male        55.0                         torso\n",
              "26987    male        65.0                     head/neck\n",
              "22505  female        35.0               upper extremity\n",
              "2731     male        80.0                         torso\n",
              "\n",
              "[6626 rows x 3 columns]>"
            ]
          },
          "metadata": {},
          "execution_count": 72
        }
      ]
    },
    {
      "cell_type": "code",
      "metadata": {
        "colab": {
          "base_uri": "https://localhost:8080/"
        },
        "id": "VBgUVHxVcmZ1",
        "outputId": "e98c8f7a-7691-400d-8358-fa08fbeacce6"
      },
      "source": [
        "X_train.isnull().sum()\n"
      ],
      "execution_count": 48,
      "outputs": [
        {
          "output_type": "execute_result",
          "data": {
            "text/plain": [
              "sex                               52\n",
              "age_approx                        55\n",
              "anatom_site_general_challenge    421\n",
              "dtype: int64"
            ]
          },
          "metadata": {},
          "execution_count": 48
        }
      ]
    },
    {
      "cell_type": "code",
      "metadata": {
        "colab": {
          "base_uri": "https://localhost:8080/"
        },
        "id": "KhwlSyF4cnIt",
        "outputId": "8ac3c045-d60e-4c58-8714-01c8ff6a8076"
      },
      "source": [
        "X_test.isnull().sum()"
      ],
      "execution_count": 49,
      "outputs": [
        {
          "output_type": "execute_result",
          "data": {
            "text/plain": [
              "sex                               13\n",
              "age_approx                        13\n",
              "anatom_site_general_challenge    106\n",
              "dtype: int64"
            ]
          },
          "metadata": {},
          "execution_count": 49
        }
      ]
    },
    {
      "cell_type": "code",
      "metadata": {
        "colab": {
          "base_uri": "https://localhost:8080/"
        },
        "id": "lsfivt7md5I1",
        "outputId": "98e499b0-d17d-4466-a0f3-605677adf65b"
      },
      "source": [
        "y_train.isnull().sum()"
      ],
      "execution_count": 50,
      "outputs": [
        {
          "output_type": "execute_result",
          "data": {
            "text/plain": [
              "0"
            ]
          },
          "metadata": {},
          "execution_count": 50
        }
      ]
    },
    {
      "cell_type": "markdown",
      "metadata": {
        "id": "IEslTneD7xj4"
      },
      "source": [
        "# Data Encoding & Imputing"
      ]
    },
    {
      "cell_type": "code",
      "metadata": {
        "colab": {
          "base_uri": "https://localhost:8080/",
          "height": 206
        },
        "id": "z79u3Ei7JiB2",
        "outputId": "442ed5e2-d9c6-4196-e8a9-0b089307e191"
      },
      "source": [
        "catagorical_data = X_train.drop(['age_approx'],axis =1)\n",
        "catagorical_data.head(5)"
      ],
      "execution_count": 80,
      "outputs": [
        {
          "output_type": "execute_result",
          "data": {
            "text/html": [
              "<div>\n",
              "<style scoped>\n",
              "    .dataframe tbody tr th:only-of-type {\n",
              "        vertical-align: middle;\n",
              "    }\n",
              "\n",
              "    .dataframe tbody tr th {\n",
              "        vertical-align: top;\n",
              "    }\n",
              "\n",
              "    .dataframe thead th {\n",
              "        text-align: right;\n",
              "    }\n",
              "</style>\n",
              "<table border=\"1\" class=\"dataframe\">\n",
              "  <thead>\n",
              "    <tr style=\"text-align: right;\">\n",
              "      <th></th>\n",
              "      <th>sex</th>\n",
              "      <th>anatom_site_general_challenge</th>\n",
              "    </tr>\n",
              "  </thead>\n",
              "  <tbody>\n",
              "    <tr>\n",
              "      <th>21086</th>\n",
              "      <td>male</td>\n",
              "      <td>torso</td>\n",
              "    </tr>\n",
              "    <tr>\n",
              "      <th>15202</th>\n",
              "      <td>male</td>\n",
              "      <td>lower extremity</td>\n",
              "    </tr>\n",
              "    <tr>\n",
              "      <th>25312</th>\n",
              "      <td>female</td>\n",
              "      <td>lower extremity</td>\n",
              "    </tr>\n",
              "    <tr>\n",
              "      <th>26668</th>\n",
              "      <td>male</td>\n",
              "      <td>upper extremity</td>\n",
              "    </tr>\n",
              "    <tr>\n",
              "      <th>16844</th>\n",
              "      <td>female</td>\n",
              "      <td>torso</td>\n",
              "    </tr>\n",
              "  </tbody>\n",
              "</table>\n",
              "</div>"
            ],
            "text/plain": [
              "          sex anatom_site_general_challenge\n",
              "21086    male                         torso\n",
              "15202    male               lower extremity\n",
              "25312  female               lower extremity\n",
              "26668    male               upper extremity\n",
              "16844  female                         torso"
            ]
          },
          "metadata": {},
          "execution_count": 80
        }
      ]
    },
    {
      "cell_type": "code",
      "metadata": {
        "id": "MiCW8Pp4GGSL",
        "colab": {
          "base_uri": "https://localhost:8080/",
          "height": 206
        },
        "outputId": "d981c4ec-c061-430b-c5c0-6296a51216ff"
      },
      "source": [
        "# Transform catagorical data into int for Knn imputer\n",
        "catagorical_label = catagorical_data.apply(lambda series: pd.Series(\n",
        "        LabelEncoder().fit_transform(series[series.notnull()]),\n",
        "        index=series[series.notnull()].index\n",
        "    ))\n",
        "    \n",
        "catagorical_label.head()"
      ],
      "execution_count": 81,
      "outputs": [
        {
          "output_type": "execute_result",
          "data": {
            "text/html": [
              "<div>\n",
              "<style scoped>\n",
              "    .dataframe tbody tr th:only-of-type {\n",
              "        vertical-align: middle;\n",
              "    }\n",
              "\n",
              "    .dataframe tbody tr th {\n",
              "        vertical-align: top;\n",
              "    }\n",
              "\n",
              "    .dataframe thead th {\n",
              "        text-align: right;\n",
              "    }\n",
              "</style>\n",
              "<table border=\"1\" class=\"dataframe\">\n",
              "  <thead>\n",
              "    <tr style=\"text-align: right;\">\n",
              "      <th></th>\n",
              "      <th>sex</th>\n",
              "      <th>anatom_site_general_challenge</th>\n",
              "    </tr>\n",
              "  </thead>\n",
              "  <tbody>\n",
              "    <tr>\n",
              "      <th>0</th>\n",
              "      <td>1.0</td>\n",
              "      <td>0.0</td>\n",
              "    </tr>\n",
              "    <tr>\n",
              "      <th>1</th>\n",
              "      <td>0.0</td>\n",
              "      <td>5.0</td>\n",
              "    </tr>\n",
              "    <tr>\n",
              "      <th>2</th>\n",
              "      <td>0.0</td>\n",
              "      <td>1.0</td>\n",
              "    </tr>\n",
              "    <tr>\n",
              "      <th>3</th>\n",
              "      <td>0.0</td>\n",
              "      <td>0.0</td>\n",
              "    </tr>\n",
              "    <tr>\n",
              "      <th>5</th>\n",
              "      <td>0.0</td>\n",
              "      <td>1.0</td>\n",
              "    </tr>\n",
              "  </tbody>\n",
              "</table>\n",
              "</div>"
            ],
            "text/plain": [
              "   sex  anatom_site_general_challenge\n",
              "0  1.0                            0.0\n",
              "1  0.0                            5.0\n",
              "2  0.0                            1.0\n",
              "3  0.0                            0.0\n",
              "5  0.0                            1.0"
            ]
          },
          "metadata": {},
          "execution_count": 81
        }
      ]
    },
    {
      "cell_type": "code",
      "metadata": {
        "colab": {
          "base_uri": "https://localhost:8080/",
          "height": 206
        },
        "id": "GqK6QA4IOfxT",
        "outputId": "13f5d170-64f5-4031-f55b-d4190293f3c3"
      },
      "source": [
        "numerical_data = X_train.drop(['sex','anatom_site_general_challenge' ],axis =1)\n",
        "numerical_data.head()"
      ],
      "execution_count": 82,
      "outputs": [
        {
          "output_type": "execute_result",
          "data": {
            "text/html": [
              "<div>\n",
              "<style scoped>\n",
              "    .dataframe tbody tr th:only-of-type {\n",
              "        vertical-align: middle;\n",
              "    }\n",
              "\n",
              "    .dataframe tbody tr th {\n",
              "        vertical-align: top;\n",
              "    }\n",
              "\n",
              "    .dataframe thead th {\n",
              "        text-align: right;\n",
              "    }\n",
              "</style>\n",
              "<table border=\"1\" class=\"dataframe\">\n",
              "  <thead>\n",
              "    <tr style=\"text-align: right;\">\n",
              "      <th></th>\n",
              "      <th>age_approx</th>\n",
              "    </tr>\n",
              "  </thead>\n",
              "  <tbody>\n",
              "    <tr>\n",
              "      <th>21086</th>\n",
              "      <td>60.0</td>\n",
              "    </tr>\n",
              "    <tr>\n",
              "      <th>15202</th>\n",
              "      <td>55.0</td>\n",
              "    </tr>\n",
              "    <tr>\n",
              "      <th>25312</th>\n",
              "      <td>30.0</td>\n",
              "    </tr>\n",
              "    <tr>\n",
              "      <th>26668</th>\n",
              "      <td>30.0</td>\n",
              "    </tr>\n",
              "    <tr>\n",
              "      <th>16844</th>\n",
              "      <td>60.0</td>\n",
              "    </tr>\n",
              "  </tbody>\n",
              "</table>\n",
              "</div>"
            ],
            "text/plain": [
              "       age_approx\n",
              "21086        60.0\n",
              "15202        55.0\n",
              "25312        30.0\n",
              "26668        30.0\n",
              "16844        60.0"
            ]
          },
          "metadata": {},
          "execution_count": 82
        }
      ]
    },
    {
      "cell_type": "code",
      "metadata": {
        "id": "veOOPi9iKXTL",
        "colab": {
          "base_uri": "https://localhost:8080/"
        },
        "outputId": "a80a88f4-902c-4646-df3c-71b09a6b56fa"
      },
      "source": [
        "catagorical_label.reset_index(drop=True, inplace=True)\n",
        "numerical_data.reset_index(drop=True, inplace=True)\n",
        "\n",
        "temp = pd.concat([catagorical_label,numerical_data], axis = 1)\n",
        "\n",
        "temp.head(5)\n",
        "X_train = temp\n",
        "X_train.shape\n",
        "\n",
        "\n"
      ],
      "execution_count": 83,
      "outputs": [
        {
          "output_type": "execute_result",
          "data": {
            "text/plain": [
              "(26500, 3)"
            ]
          },
          "metadata": {},
          "execution_count": 83
        }
      ]
    },
    {
      "cell_type": "code",
      "metadata": {
        "colab": {
          "base_uri": "https://localhost:8080/"
        },
        "id": "dZG9yHPWnam_",
        "outputId": "522054e1-eb87-4973-d1be-00258739290f"
      },
      "source": [
        "uniqueValues = X_train.nunique()\n",
        "uniqueValues"
      ],
      "execution_count": 84,
      "outputs": [
        {
          "output_type": "execute_result",
          "data": {
            "text/plain": [
              "sex                               2\n",
              "anatom_site_general_challenge     6\n",
              "age_approx                       18\n",
              "dtype: int64"
            ]
          },
          "metadata": {},
          "execution_count": 84
        }
      ]
    },
    {
      "cell_type": "code",
      "metadata": {
        "colab": {
          "base_uri": "https://localhost:8080/"
        },
        "id": "aDC9K1xovJPO",
        "outputId": "5d8fb7b4-81ae-4ba1-e2e4-04f33ea0c60c"
      },
      "source": [
        "# encoding test set \n",
        "X_test.shape"
      ],
      "execution_count": 73,
      "outputs": [
        {
          "output_type": "execute_result",
          "data": {
            "text/plain": [
              "(6626, 3)"
            ]
          },
          "metadata": {},
          "execution_count": 73
        }
      ]
    },
    {
      "cell_type": "code",
      "metadata": {
        "colab": {
          "base_uri": "https://localhost:8080/",
          "height": 424
        },
        "id": "zmlR0X2in-gz",
        "outputId": "e27051d0-84ac-4ce5-cf18-086b30745080"
      },
      "source": [
        "test_catagorical = X_test.drop(['age_approx'], axis =1)\n",
        "test_catagorical_label = test_catagorical.apply(lambda series: pd.Series(\n",
        "        LabelEncoder().fit_transform(series[series.notnull()]),\n",
        "        index=series[series.notnull()].index\n",
        "    ))\n",
        "    \n",
        "test_catagorical_label"
      ],
      "execution_count": 74,
      "outputs": [
        {
          "output_type": "execute_result",
          "data": {
            "text/html": [
              "<div>\n",
              "<style scoped>\n",
              "    .dataframe tbody tr th:only-of-type {\n",
              "        vertical-align: middle;\n",
              "    }\n",
              "\n",
              "    .dataframe tbody tr th {\n",
              "        vertical-align: top;\n",
              "    }\n",
              "\n",
              "    .dataframe thead th {\n",
              "        text-align: right;\n",
              "    }\n",
              "</style>\n",
              "<table border=\"1\" class=\"dataframe\">\n",
              "  <thead>\n",
              "    <tr style=\"text-align: right;\">\n",
              "      <th></th>\n",
              "      <th>sex</th>\n",
              "      <th>anatom_site_general_challenge</th>\n",
              "    </tr>\n",
              "  </thead>\n",
              "  <tbody>\n",
              "    <tr>\n",
              "      <th>4</th>\n",
              "      <td>0.0</td>\n",
              "      <td>5.0</td>\n",
              "    </tr>\n",
              "    <tr>\n",
              "      <th>6</th>\n",
              "      <td>1.0</td>\n",
              "      <td>1.0</td>\n",
              "    </tr>\n",
              "    <tr>\n",
              "      <th>7</th>\n",
              "      <td>0.0</td>\n",
              "      <td>4.0</td>\n",
              "    </tr>\n",
              "    <tr>\n",
              "      <th>18</th>\n",
              "      <td>1.0</td>\n",
              "      <td>4.0</td>\n",
              "    </tr>\n",
              "    <tr>\n",
              "      <th>22</th>\n",
              "      <td>1.0</td>\n",
              "      <td>4.0</td>\n",
              "    </tr>\n",
              "    <tr>\n",
              "      <th>...</th>\n",
              "      <td>...</td>\n",
              "      <td>...</td>\n",
              "    </tr>\n",
              "    <tr>\n",
              "      <th>33112</th>\n",
              "      <td>1.0</td>\n",
              "      <td>NaN</td>\n",
              "    </tr>\n",
              "    <tr>\n",
              "      <th>33117</th>\n",
              "      <td>1.0</td>\n",
              "      <td>0.0</td>\n",
              "    </tr>\n",
              "    <tr>\n",
              "      <th>33118</th>\n",
              "      <td>1.0</td>\n",
              "      <td>0.0</td>\n",
              "    </tr>\n",
              "    <tr>\n",
              "      <th>33122</th>\n",
              "      <td>1.0</td>\n",
              "      <td>4.0</td>\n",
              "    </tr>\n",
              "    <tr>\n",
              "      <th>33125</th>\n",
              "      <td>1.0</td>\n",
              "      <td>4.0</td>\n",
              "    </tr>\n",
              "  </tbody>\n",
              "</table>\n",
              "<p>6626 rows × 2 columns</p>\n",
              "</div>"
            ],
            "text/plain": [
              "       sex  anatom_site_general_challenge\n",
              "4      0.0                            5.0\n",
              "6      1.0                            1.0\n",
              "7      0.0                            4.0\n",
              "18     1.0                            4.0\n",
              "22     1.0                            4.0\n",
              "...    ...                            ...\n",
              "33112  1.0                            NaN\n",
              "33117  1.0                            0.0\n",
              "33118  1.0                            0.0\n",
              "33122  1.0                            4.0\n",
              "33125  1.0                            4.0\n",
              "\n",
              "[6626 rows x 2 columns]"
            ]
          },
          "metadata": {},
          "execution_count": 74
        }
      ]
    },
    {
      "cell_type": "code",
      "metadata": {
        "id": "gTKs7Z9kovAC",
        "colab": {
          "base_uri": "https://localhost:8080/"
        },
        "outputId": "d81a6a41-566d-42f6-c9da-1ba45bb43b9d"
      },
      "source": [
        "test_numerical_data = X_test.drop(['sex','anatom_site_general_challenge' ],axis =1)\n",
        "test_numerical_data.shape\n"
      ],
      "execution_count": 75,
      "outputs": [
        {
          "output_type": "execute_result",
          "data": {
            "text/plain": [
              "(6626, 1)"
            ]
          },
          "metadata": {},
          "execution_count": 75
        }
      ]
    },
    {
      "cell_type": "code",
      "metadata": {
        "id": "JtnA2tHgL7J7"
      },
      "source": [
        "test_catagorical_label.reset_index(drop=True, inplace=True)\n",
        "test_numerical_data.reset_index(drop=True, inplace=True)\n",
        "\n",
        "test_temp = pd.concat([test_catagorical_label,test_numerical_data], axis = 1)\n",
        "\n",
        "X_test =test_temp"
      ],
      "execution_count": 76,
      "outputs": []
    },
    {
      "cell_type": "code",
      "metadata": {
        "colab": {
          "base_uri": "https://localhost:8080/"
        },
        "id": "2KwoVSu-L0pz",
        "outputId": "9bf7ede3-986c-4e29-8d6d-168efe864ac4"
      },
      "source": [
        "X_test.shape"
      ],
      "execution_count": 77,
      "outputs": [
        {
          "output_type": "execute_result",
          "data": {
            "text/plain": [
              "(6626, 3)"
            ]
          },
          "metadata": {},
          "execution_count": 77
        }
      ]
    },
    {
      "cell_type": "code",
      "metadata": {
        "colab": {
          "base_uri": "https://localhost:8080/"
        },
        "id": "QbhheF5xLSYL",
        "outputId": "0eae05fb-b7ac-4de7-fa53-e23ecee5e898"
      },
      "source": [
        "uniqueValues = X_test.nunique()\n",
        "uniqueValues"
      ],
      "execution_count": 78,
      "outputs": [
        {
          "output_type": "execute_result",
          "data": {
            "text/plain": [
              "sex                               2\n",
              "anatom_site_general_challenge     6\n",
              "age_approx                       17\n",
              "dtype: int64"
            ]
          },
          "metadata": {},
          "execution_count": 78
        }
      ]
    },
    {
      "cell_type": "code",
      "metadata": {
        "id": "pOQW01HMLzoK"
      },
      "source": [
        ""
      ],
      "execution_count": null,
      "outputs": []
    },
    {
      "cell_type": "code",
      "metadata": {
        "id": "7A8_ShGvIMPf"
      },
      "source": [
        "# Data Encoding + Imputing \n",
        "from imblearn.pipeline import make_pipeline ,Pipeline\n",
        "from sklearn.pipeline import  FeatureUnion\n",
        "from sklearn.compose import ColumnTransformer\n",
        "from sklearn.preprocessing import StandardScaler , StandardScaler\n",
        "from sklearn.preprocessing import OneHotEncoder\n",
        "from sklearn.base import BaseEstimator, TransformerMixin\n",
        "from sklearn.impute import SimpleImputer ,KNNImputer\n",
        "from sklearn.preprocessing import OneHotEncoder, MinMaxScaler\n",
        "\n",
        "# catagorical & numerical column header\n",
        "\n",
        "categorical = ['sex','anatom_site_general_challenge' ]\n",
        "numerical =['age_approx']\n",
        "\n",
        "\n",
        "class ColumnSelector(BaseEstimator, TransformerMixin):\n",
        "    \"\"\"Select only specified columns.\"\"\"\n",
        "    def __init__(self, columns):\n",
        "        self.columns = columns\n",
        "        \n",
        "    def fit(self, X, y=None):\n",
        "        return self\n",
        "    \n",
        "    def transform(self, X):\n",
        "        return X[self.columns]\n",
        "\n",
        "cat_pipe = Pipeline([\n",
        "    ('selector', ColumnSelector(categorical)),\n",
        "    ('imputer', KNNImputer(n_neighbors=1)),\n",
        "    ('encoder', OneHotEncoder(handle_unknown='ignore', sparse=False))\n",
        "])\n",
        "\n",
        "# Define numerical pipeline\n",
        "num_pipe = Pipeline([\n",
        "    ('selector', ColumnSelector(numerical)),\n",
        "    ('imputer', SimpleImputer(strategy='median')),\n",
        "    ('scaler', MinMaxScaler())\n",
        "])\n",
        "\n",
        "# Combine categorical and numerical pipeline\n",
        "preprocessor = FeatureUnion([\n",
        "    ('cat', cat_pipe),\n",
        "    ('num', num_pipe)\n",
        "])\n",
        "\n",
        "X_train_trasform = preprocessor.fit_transform(X_train)\n",
        "X_train_fin = pd.DataFrame(X_train_trasform, columns = ['1','2','3','4','5','6','7','8','9'])\n",
        "\n",
        "X_test_trasform = preprocessor.fit_transform(X_test)\n",
        "X_test_fin = pd.DataFrame(X_test_trasform, columns = ['1','2','3','4','5','6','7','8','9'])\n"
      ],
      "execution_count": 85,
      "outputs": []
    },
    {
      "cell_type": "code",
      "metadata": {
        "id": "sGvBErGorxND",
        "colab": {
          "base_uri": "https://localhost:8080/"
        },
        "outputId": "d6c32f46-63df-4821-a219-17eb9152ac86"
      },
      "source": [
        "X_train_fin.shape"
      ],
      "execution_count": 34,
      "outputs": [
        {
          "output_type": "execute_result",
          "data": {
            "text/plain": [
              "(26500, 9)"
            ]
          },
          "metadata": {},
          "execution_count": 34
        }
      ]
    },
    {
      "cell_type": "code",
      "metadata": {
        "colab": {
          "base_uri": "https://localhost:8080/"
        },
        "id": "d-rhgnE5LHz4",
        "outputId": "33ff0f74-dd12-4695-b08e-360d9137ec2d"
      },
      "source": [
        "X_test_fin.shape"
      ],
      "execution_count": 35,
      "outputs": [
        {
          "output_type": "execute_result",
          "data": {
            "text/plain": [
              "(11951, 11)"
            ]
          },
          "metadata": {},
          "execution_count": 35
        }
      ]
    },
    {
      "cell_type": "markdown",
      "metadata": {
        "id": "iHPi8hGzK6Mb"
      },
      "source": [
        "# Model\n"
      ]
    },
    {
      "cell_type": "code",
      "metadata": {
        "id": "0c8V0n1WtzEA"
      },
      "source": [
        "from sklearn.ensemble import RandomForestClassifier ,GradientBoostingClassifier\n",
        "from sklearn.linear_model import LogisticRegression\n",
        "from sklearn.model_selection import train_test_split, GridSearchCV\n",
        "from sklearn.metrics import accuracy_score\n",
        "from sklearn.model_selection import cross_validate , cross_val_predict\n",
        "from imblearn.under_sampling import RandomUnderSampler\n",
        "from imblearn.pipeline import make_pipeline ,Pipeline\n",
        "from sklearn.pipeline import  FeatureUnion\n",
        "from numpy import mean\n",
        "from sklearn.model_selection import RepeatedStratifiedKFold\n",
        "from sklearn.impute import SimpleImputer\n",
        "\n",
        "#from sklearn.pipeline import make_pipeline as make_pipeline_with_sampler\n",
        "\n",
        "from sklearn.compose import make_column_transformer\n",
        "from sklearn.compose import make_column_selector as selector\n",
        "from sklearn.neighbors import KNeighborsClassifier\n",
        "\n",
        "\n"
      ],
      "execution_count": 86,
      "outputs": []
    },
    {
      "cell_type": "code",
      "metadata": {
        "id": "myix5qmCxho8"
      },
      "source": [
        "# Validation data set predict and save score function \n",
        "def val_score(name, bestmodel):\n",
        "  score =[] # create return score list\n",
        "  mod = bestmodel.fit(X_train_fin,y_train) # fit best model \n",
        "  y_pred =mod.predict(X_test_fin) # predict\n",
        "  report = classification_report(y_test, y_pred, output_dict=True) # get report\n",
        "  score +=[name] # append model name\n",
        "  score += list(report[\"1\"].values())[0:3]\n",
        "  score.append(report[\"accuracy\"])\n",
        "\n",
        "  return score\n",
        "\n",
        "\n",
        "\n"
      ],
      "execution_count": 87,
      "outputs": []
    },
    {
      "cell_type": "code",
      "metadata": {
        "id": "Yd_C8sG97e84"
      },
      "source": [
        "# repeatable random sampler \n",
        "random_sampler = RandomUnderSampler(random_state=42)"
      ],
      "execution_count": 88,
      "outputs": []
    },
    {
      "cell_type": "code",
      "metadata": {
        "id": "om_omi1RhWhn"
      },
      "source": [
        "#  lr model with GridSearchCV & RandomSampler \n",
        "lf = LogisticRegression(random_state=88)\n",
        "\n",
        "grid = {'class__penalty': ['l1','l2'], \n",
        "        'class__C': [0.01,1.0,10.0,100.0,1000.0]}\n",
        "pipeline = Pipeline([('sampling', random_sampler), ('class', lf)])\n",
        "grid_cv = GridSearchCV(pipeline, grid, scoring = 'f1', cv = 5)\n",
        "   \n",
        "grid_cv.fit(X_train_trasform, y_train)\n",
        "\n",
        "# Save best model from GridSearch\n",
        "best_model_lr = grid_cv.best_estimator_ \n",
        "\n",
        "# Predict + Score \n"
      ],
      "execution_count": null,
      "outputs": []
    },
    {
      "cell_type": "code",
      "metadata": {
        "colab": {
          "base_uri": "https://localhost:8080/"
        },
        "id": "frOybo3g7jE4",
        "outputId": "7cfb04bd-849a-4acd-ec8a-fd50a1d55ed8"
      },
      "source": [
        "# Predict and save scores\n",
        "lf_s = val_score('lf', best_model_lr)\n",
        "lf_s"
      ],
      "execution_count": 90,
      "outputs": [
        {
          "output_type": "stream",
          "name": "stderr",
          "text": [
            "/usr/local/lib/python3.7/dist-packages/sklearn/utils/deprecation.py:87: FutureWarning: Function safe_indexing is deprecated; safe_indexing is deprecated in version 0.22 and will be removed in version 0.24.\n",
            "  warnings.warn(msg, category=FutureWarning)\n"
          ]
        },
        {
          "output_type": "execute_result",
          "data": {
            "text/plain": [
              "['lf',\n",
              " 0.03531489111241907,\n",
              " 0.5217391304347826,\n",
              " 0.0661521499448732,\n",
              " 0.7443404769091458]"
            ]
          },
          "metadata": {},
          "execution_count": 90
        }
      ]
    },
    {
      "cell_type": "code",
      "metadata": {
        "id": "mncEuc3B0P7X"
      },
      "source": [
        "#  Random Forest model with GridSearchCV & RandomSampler \n",
        "rf = RandomForestClassifier(random_state=88)\n",
        "\n",
        "grid = {'class__n_estimators': [100, 200, 500],\n",
        "        'class__max_features': ['auto', 'sqrt', 'log2'],\n",
        "        'class__max_depth' : [4,5,6,7,8],\n",
        "        'class__criterion' :['gini', 'entropy']}\n",
        "pipeline = Pipeline([('sampling', random_sampler), ('class', rf)])\n",
        "\n",
        "grid_cv = GridSearchCV(pipeline, grid, scoring = 'f1', cv = 5)\n",
        "   \n",
        "grid_cv.fit(X_train_trasform, y_train)\n",
        "\n",
        "# Save best model from GridSearch\n",
        "best_model_rf = grid_cv.best_estimator_ \n",
        "\n"
      ],
      "execution_count": null,
      "outputs": []
    },
    {
      "cell_type": "code",
      "metadata": {
        "colab": {
          "base_uri": "https://localhost:8080/"
        },
        "id": "xTNGePij7lRQ",
        "outputId": "cf414df1-ac78-4f40-c4d9-269b2cc46f2c"
      },
      "source": [
        "# Predict + Score \n",
        "rf_s = val_score('rf', best_model_rf)\n",
        "rf_s\n"
      ],
      "execution_count": 92,
      "outputs": [
        {
          "output_type": "stream",
          "name": "stderr",
          "text": [
            "/usr/local/lib/python3.7/dist-packages/sklearn/utils/deprecation.py:87: FutureWarning: Function safe_indexing is deprecated; safe_indexing is deprecated in version 0.22 and will be removed in version 0.24.\n",
            "  warnings.warn(msg, category=FutureWarning)\n"
          ]
        },
        {
          "output_type": "execute_result",
          "data": {
            "text/plain": [
              "['rf',\n",
              " 0.036242603550295856,\n",
              " 0.4260869565217391,\n",
              " 0.06680299931833673,\n",
              " 0.7933896770298823]"
            ]
          },
          "metadata": {},
          "execution_count": 92
        }
      ]
    },
    {
      "cell_type": "code",
      "metadata": {
        "id": "zThm6QZC7ngv"
      },
      "source": [
        "# SVC model with GridSearch CV & RandomSampler\n",
        "\n",
        "from sklearn.svm import SVC\n",
        "svc = SVC(random_state=88)\n",
        "\n",
        "grid = {'class__kernel': ['linear', 'sigmoid','rbf'],\n",
        "        'class__C': [0.1,1,10,100],\n",
        "        'class__gamma' : [0.001,0.01,0.1,1,3]\n",
        "        }\n",
        "pipeline = Pipeline([('sampling', random_sampler), ('class', svc)])\n",
        "\n",
        "grid_cv = GridSearchCV(pipeline, grid, scoring = 'f1', cv = 5)\n",
        "   \n",
        "grid_cv.fit(X_train_trasform, y_train)\n",
        "\n",
        "# Save best model from GridSearch\n",
        "best_model_svc = grid_cv.best_estimator_ \n",
        "\n"
      ],
      "execution_count": null,
      "outputs": []
    },
    {
      "cell_type": "code",
      "metadata": {
        "colab": {
          "base_uri": "https://localhost:8080/"
        },
        "id": "O4f3u6fKSbCK",
        "outputId": "c24a142b-7a8c-46e9-b1d5-af89ec5743a3"
      },
      "source": [
        "# Predict + Score \n",
        "svc_s = val_score('svc', best_model_svc)\n",
        "svc_s\n"
      ],
      "execution_count": 98,
      "outputs": [
        {
          "output_type": "stream",
          "name": "stderr",
          "text": [
            "/usr/local/lib/python3.7/dist-packages/sklearn/utils/deprecation.py:87: FutureWarning: Function safe_indexing is deprecated; safe_indexing is deprecated in version 0.22 and will be removed in version 0.24.\n",
            "  warnings.warn(msg, category=FutureWarning)\n"
          ]
        },
        {
          "output_type": "execute_result",
          "data": {
            "text/plain": [
              "['svc',\n",
              " 0.035021888680425266,\n",
              " 0.48695652173913045,\n",
              " 0.06534422403733955,\n",
              " 0.7582251735587081]"
            ]
          },
          "metadata": {},
          "execution_count": 98
        }
      ]
    },
    {
      "cell_type": "code",
      "metadata": {
        "id": "0h-PMdQV7xtm"
      },
      "source": [
        "# Stacking all lg+rf+svc & RandomSampler\n",
        "from sklearn.ensemble import StackingClassifier\n",
        "level0=list()\n",
        "level0.append(('lr', best_model_lr))\n",
        "level0.append(('rf', best_model_rf))\n",
        "level0.append(('svc', best_model_svc))\n",
        "level1=best_model_lr\n",
        "stack_model = StackingClassifier(estimators=level0, final_estimator=level1, cv=5)\n"
      ],
      "execution_count": 102,
      "outputs": []
    },
    {
      "cell_type": "code",
      "metadata": {
        "colab": {
          "base_uri": "https://localhost:8080/"
        },
        "id": "sxTdwMAAsTUO",
        "outputId": "2d427cfb-a5df-4f3e-dcf5-e957a2ef3645"
      },
      "source": [
        "stack_s = val_score('stact_model', stack_model)\n",
        "stack_s"
      ],
      "execution_count": 103,
      "outputs": [
        {
          "output_type": "stream",
          "name": "stderr",
          "text": [
            "/usr/local/lib/python3.7/dist-packages/sklearn/utils/deprecation.py:87: FutureWarning: Function safe_indexing is deprecated; safe_indexing is deprecated in version 0.22 and will be removed in version 0.24.\n",
            "  warnings.warn(msg, category=FutureWarning)\n",
            "/usr/local/lib/python3.7/dist-packages/sklearn/utils/deprecation.py:87: FutureWarning: Function safe_indexing is deprecated; safe_indexing is deprecated in version 0.22 and will be removed in version 0.24.\n",
            "  warnings.warn(msg, category=FutureWarning)\n",
            "/usr/local/lib/python3.7/dist-packages/sklearn/utils/deprecation.py:87: FutureWarning: Function safe_indexing is deprecated; safe_indexing is deprecated in version 0.22 and will be removed in version 0.24.\n",
            "  warnings.warn(msg, category=FutureWarning)\n",
            "/usr/local/lib/python3.7/dist-packages/sklearn/utils/deprecation.py:87: FutureWarning: Function safe_indexing is deprecated; safe_indexing is deprecated in version 0.22 and will be removed in version 0.24.\n",
            "  warnings.warn(msg, category=FutureWarning)\n",
            "/usr/local/lib/python3.7/dist-packages/sklearn/utils/deprecation.py:87: FutureWarning: Function safe_indexing is deprecated; safe_indexing is deprecated in version 0.22 and will be removed in version 0.24.\n",
            "  warnings.warn(msg, category=FutureWarning)\n",
            "/usr/local/lib/python3.7/dist-packages/sklearn/utils/deprecation.py:87: FutureWarning: Function safe_indexing is deprecated; safe_indexing is deprecated in version 0.22 and will be removed in version 0.24.\n",
            "  warnings.warn(msg, category=FutureWarning)\n",
            "/usr/local/lib/python3.7/dist-packages/sklearn/utils/deprecation.py:87: FutureWarning: Function safe_indexing is deprecated; safe_indexing is deprecated in version 0.22 and will be removed in version 0.24.\n",
            "  warnings.warn(msg, category=FutureWarning)\n",
            "/usr/local/lib/python3.7/dist-packages/sklearn/utils/deprecation.py:87: FutureWarning: Function safe_indexing is deprecated; safe_indexing is deprecated in version 0.22 and will be removed in version 0.24.\n",
            "  warnings.warn(msg, category=FutureWarning)\n",
            "/usr/local/lib/python3.7/dist-packages/sklearn/utils/deprecation.py:87: FutureWarning: Function safe_indexing is deprecated; safe_indexing is deprecated in version 0.22 and will be removed in version 0.24.\n",
            "  warnings.warn(msg, category=FutureWarning)\n",
            "/usr/local/lib/python3.7/dist-packages/sklearn/utils/deprecation.py:87: FutureWarning: Function safe_indexing is deprecated; safe_indexing is deprecated in version 0.22 and will be removed in version 0.24.\n",
            "  warnings.warn(msg, category=FutureWarning)\n",
            "/usr/local/lib/python3.7/dist-packages/sklearn/utils/deprecation.py:87: FutureWarning: Function safe_indexing is deprecated; safe_indexing is deprecated in version 0.22 and will be removed in version 0.24.\n",
            "  warnings.warn(msg, category=FutureWarning)\n",
            "/usr/local/lib/python3.7/dist-packages/sklearn/utils/deprecation.py:87: FutureWarning: Function safe_indexing is deprecated; safe_indexing is deprecated in version 0.22 and will be removed in version 0.24.\n",
            "  warnings.warn(msg, category=FutureWarning)\n",
            "/usr/local/lib/python3.7/dist-packages/sklearn/utils/deprecation.py:87: FutureWarning: Function safe_indexing is deprecated; safe_indexing is deprecated in version 0.22 and will be removed in version 0.24.\n",
            "  warnings.warn(msg, category=FutureWarning)\n",
            "/usr/local/lib/python3.7/dist-packages/sklearn/utils/deprecation.py:87: FutureWarning: Function safe_indexing is deprecated; safe_indexing is deprecated in version 0.22 and will be removed in version 0.24.\n",
            "  warnings.warn(msg, category=FutureWarning)\n",
            "/usr/local/lib/python3.7/dist-packages/sklearn/utils/deprecation.py:87: FutureWarning: Function safe_indexing is deprecated; safe_indexing is deprecated in version 0.22 and will be removed in version 0.24.\n",
            "  warnings.warn(msg, category=FutureWarning)\n",
            "/usr/local/lib/python3.7/dist-packages/sklearn/utils/deprecation.py:87: FutureWarning: Function safe_indexing is deprecated; safe_indexing is deprecated in version 0.22 and will be removed in version 0.24.\n",
            "  warnings.warn(msg, category=FutureWarning)\n",
            "/usr/local/lib/python3.7/dist-packages/sklearn/utils/deprecation.py:87: FutureWarning: Function safe_indexing is deprecated; safe_indexing is deprecated in version 0.22 and will be removed in version 0.24.\n",
            "  warnings.warn(msg, category=FutureWarning)\n",
            "/usr/local/lib/python3.7/dist-packages/sklearn/utils/deprecation.py:87: FutureWarning: Function safe_indexing is deprecated; safe_indexing is deprecated in version 0.22 and will be removed in version 0.24.\n",
            "  warnings.warn(msg, category=FutureWarning)\n",
            "/usr/local/lib/python3.7/dist-packages/sklearn/utils/deprecation.py:87: FutureWarning: Function safe_indexing is deprecated; safe_indexing is deprecated in version 0.22 and will be removed in version 0.24.\n",
            "  warnings.warn(msg, category=FutureWarning)\n"
          ]
        },
        {
          "output_type": "execute_result",
          "data": {
            "text/plain": [
              "['stact_model',\n",
              " 0.03596660244059088,\n",
              " 0.48695652173913045,\n",
              " 0.06698564593301436,\n",
              " 0.7645638394204648]"
            ]
          },
          "metadata": {},
          "execution_count": 103
        }
      ]
    },
    {
      "cell_type": "markdown",
      "metadata": {
        "id": "xaSQyaPO6S4-"
      },
      "source": [
        "# Evaluation df\n"
      ]
    },
    {
      "cell_type": "code",
      "metadata": {
        "colab": {
          "base_uri": "https://localhost:8080/",
          "height": 174
        },
        "id": "Js7IAy9OJUer",
        "outputId": "03ff8aa7-62a3-43c0-e4fb-f0d3d32b1c98"
      },
      "source": [
        "#  evaluation data frame \n",
        "\n",
        "\n",
        "lst = [lf_s,rf_s,svc_s,stack_s]\n",
        "column = ['classiflers','f1_score','Precision','Recall','Accuracy']\n",
        "df_perfomace = pd.DataFrame(lst, columns = ['classiflers','f1_score','Precision','Recall','Accuracy'], dtype = float) \n",
        "df_perfomace"
      ],
      "execution_count": 105,
      "outputs": [
        {
          "output_type": "execute_result",
          "data": {
            "text/html": [
              "<div>\n",
              "<style scoped>\n",
              "    .dataframe tbody tr th:only-of-type {\n",
              "        vertical-align: middle;\n",
              "    }\n",
              "\n",
              "    .dataframe tbody tr th {\n",
              "        vertical-align: top;\n",
              "    }\n",
              "\n",
              "    .dataframe thead th {\n",
              "        text-align: right;\n",
              "    }\n",
              "</style>\n",
              "<table border=\"1\" class=\"dataframe\">\n",
              "  <thead>\n",
              "    <tr style=\"text-align: right;\">\n",
              "      <th></th>\n",
              "      <th>classiflers</th>\n",
              "      <th>f1_score</th>\n",
              "      <th>Precision</th>\n",
              "      <th>Recall</th>\n",
              "      <th>Accuracy</th>\n",
              "    </tr>\n",
              "  </thead>\n",
              "  <tbody>\n",
              "    <tr>\n",
              "      <th>0</th>\n",
              "      <td>lf</td>\n",
              "      <td>0.035315</td>\n",
              "      <td>0.521739</td>\n",
              "      <td>0.066152</td>\n",
              "      <td>0.744340</td>\n",
              "    </tr>\n",
              "    <tr>\n",
              "      <th>1</th>\n",
              "      <td>rf</td>\n",
              "      <td>0.036243</td>\n",
              "      <td>0.426087</td>\n",
              "      <td>0.066803</td>\n",
              "      <td>0.793390</td>\n",
              "    </tr>\n",
              "    <tr>\n",
              "      <th>2</th>\n",
              "      <td>svc</td>\n",
              "      <td>0.035022</td>\n",
              "      <td>0.486957</td>\n",
              "      <td>0.065344</td>\n",
              "      <td>0.758225</td>\n",
              "    </tr>\n",
              "    <tr>\n",
              "      <th>3</th>\n",
              "      <td>stact_model</td>\n",
              "      <td>0.035967</td>\n",
              "      <td>0.486957</td>\n",
              "      <td>0.066986</td>\n",
              "      <td>0.764564</td>\n",
              "    </tr>\n",
              "  </tbody>\n",
              "</table>\n",
              "</div>"
            ],
            "text/plain": [
              "   classiflers  f1_score  Precision    Recall  Accuracy\n",
              "0           lf  0.035315   0.521739  0.066152  0.744340\n",
              "1           rf  0.036243   0.426087  0.066803  0.793390\n",
              "2          svc  0.035022   0.486957  0.065344  0.758225\n",
              "3  stact_model  0.035967   0.486957  0.066986  0.764564"
            ]
          },
          "metadata": {},
          "execution_count": 105
        }
      ]
    },
    {
      "cell_type": "code",
      "metadata": {
        "id": "ahDTUyKqojW4"
      },
      "source": [
        "# Evaluation for model\n",
        "index = []\n",
        "scores = {\"Accuracy\": [], \"Balanced accuracy\": []}\n",
        "scoring = [\"accuracy\", \"balanced_accuracy\"]"
      ],
      "execution_count": null,
      "outputs": []
    },
    {
      "cell_type": "code",
      "metadata": {
        "colab": {
          "base_uri": "https://localhost:8080/",
          "height": 81
        },
        "id": "O6z969G0o9t8",
        "outputId": "7c25f2fd-a4cd-480d-fe5f-efacf70aa8f9"
      },
      "source": [
        "index +=[\"Rf + Random Undersampler\"]\n",
        "scores[\"Accuracy\"].append(cv_result[\"test_accuracy\"].mean())\n",
        "scores[\"Balanced accuracy\"].append(test_balanced_accuracy)\n",
        "df_scores = pd.DataFrame(scores, index=index)\n",
        "df_scores"
      ],
      "execution_count": null,
      "outputs": [
        {
          "output_type": "execute_result",
          "data": {
            "text/html": [
              "<div>\n",
              "<style scoped>\n",
              "    .dataframe tbody tr th:only-of-type {\n",
              "        vertical-align: middle;\n",
              "    }\n",
              "\n",
              "    .dataframe tbody tr th {\n",
              "        vertical-align: top;\n",
              "    }\n",
              "\n",
              "    .dataframe thead th {\n",
              "        text-align: right;\n",
              "    }\n",
              "</style>\n",
              "<table border=\"1\" class=\"dataframe\">\n",
              "  <thead>\n",
              "    <tr style=\"text-align: right;\">\n",
              "      <th></th>\n",
              "      <th>Accuracy</th>\n",
              "      <th>Balanced accuracy</th>\n",
              "    </tr>\n",
              "  </thead>\n",
              "  <tbody>\n",
              "    <tr>\n",
              "      <th>Rf + Random Undersampler</th>\n",
              "      <td>0.624981</td>\n",
              "      <td>0.626948</td>\n",
              "    </tr>\n",
              "  </tbody>\n",
              "</table>\n",
              "</div>"
            ],
            "text/plain": [
              "                          Accuracy  Balanced accuracy\n",
              "Rf + Random Undersampler  0.624981           0.626948"
            ]
          },
          "metadata": {},
          "execution_count": 124
        }
      ]
    },
    {
      "cell_type": "markdown",
      "metadata": {
        "id": "ftavZflCyF0x"
      },
      "source": [
        "# Download image Data\n"
      ]
    },
    {
      "cell_type": "code",
      "metadata": {
        "id": "tN32OuNYb_B5",
        "colab": {
          "base_uri": "https://localhost:8080/"
        },
        "outputId": "3c58ce24-6b09-41d3-e801-f24b2ab38173"
      },
      "source": [
        "!wget https://isic-challenge-data.s3.amazonaws.com/2020/ISIC_2020_Training_JPEG.zip"
      ],
      "execution_count": null,
      "outputs": [
        {
          "output_type": "stream",
          "name": "stdout",
          "text": [
            "--2021-10-16 23:00:54--  https://isic-challenge-data.s3.amazonaws.com/2020/ISIC_2020_Training_JPEG.zip\n",
            "Resolving isic-challenge-data.s3.amazonaws.com (isic-challenge-data.s3.amazonaws.com)... 52.216.170.91\n",
            "Connecting to isic-challenge-data.s3.amazonaws.com (isic-challenge-data.s3.amazonaws.com)|52.216.170.91|:443... connected.\n",
            "HTTP request sent, awaiting response... 200 OK\n",
            "Length: 24707698022 (23G) [application/zip]\n",
            "Saving to: ‘ISIC_2020_Training_JPEG.zip’\n",
            "\n",
            "ISIC_2020_Training_ 100%[===================>]  23.01G  16.0MB/s    in 24m 53s \n",
            "\n",
            "2021-10-16 23:25:49 (15.8 MB/s) - ‘ISIC_2020_Training_JPEG.zip’ saved [24707698022/24707698022]\n",
            "\n"
          ]
        }
      ]
    },
    {
      "cell_type": "code",
      "metadata": {
        "id": "89ZxfAsBVVZL"
      },
      "source": [
        "!unzip -q ISIC_2020_Training_JPEG.zip"
      ],
      "execution_count": null,
      "outputs": []
    },
    {
      "cell_type": "code",
      "metadata": {
        "id": "F-1MbFOvVXkt"
      },
      "source": [
        "cd train"
      ],
      "execution_count": null,
      "outputs": []
    },
    {
      "cell_type": "code",
      "metadata": {
        "id": "KMjEXj61VaUy"
      },
      "source": [
        "!ls | wc -l"
      ],
      "execution_count": null,
      "outputs": []
    },
    {
      "cell_type": "code",
      "metadata": {
        "id": "meTPHi1FVd36"
      },
      "source": [
        "images = glob.glob(\"*.jpg\")\n",
        "random_image = random.choice(images)\n",
        "Image.open(random_image)"
      ],
      "execution_count": null,
      "outputs": []
    },
    {
      "cell_type": "markdown",
      "metadata": {
        "id": "gJMEfDOH4LDB"
      },
      "source": [
        ""
      ]
    },
    {
      "cell_type": "code",
      "metadata": {
        "id": "QlYggMdgK0yN"
      },
      "source": [
        ""
      ],
      "execution_count": null,
      "outputs": []
    },
    {
      "cell_type": "code",
      "metadata": {
        "id": "ZT8hBR8SK3cT"
      },
      "source": [
        ""
      ],
      "execution_count": null,
      "outputs": []
    },
    {
      "cell_type": "code",
      "metadata": {
        "colab": {
          "base_uri": "https://localhost:8080/"
        },
        "id": "yDWY2JQ07mqA",
        "outputId": "4c132e7e-4ce7-4307-bd40-180d65e0b39a"
      },
      "source": [
        "y_train.value_counts()/np.float(len(y_train))\n"
      ],
      "execution_count": null,
      "outputs": [
        {
          "output_type": "execute_result",
          "data": {
            "text/plain": [
              "0    0.982302\n",
              "1    0.017698\n",
              "Name: target, dtype: float64"
            ]
          },
          "metadata": {},
          "execution_count": 20
        }
      ]
    },
    {
      "cell_type": "code",
      "metadata": {
        "colab": {
          "base_uri": "https://localhost:8080/"
        },
        "id": "ZjxnGqoy-x1o",
        "outputId": "f3f675b5-f00b-499e-8041-48b86eeaf9fe"
      },
      "source": [
        "X_train.head"
      ],
      "execution_count": null,
      "outputs": [
        {
          "output_type": "execute_result",
          "data": {
            "text/plain": [
              "<bound method NDFrame.head of           sex  age_approx anatom_site_general_challenge\n",
              "21086    male        60.0                         torso\n",
              "15202    male        55.0               lower extremity\n",
              "25312  female        30.0               lower extremity\n",
              "26668    male        30.0               upper extremity\n",
              "16844  female        60.0                         torso\n",
              "...       ...         ...                           ...\n",
              "20757  female        25.0               lower extremity\n",
              "32103    male        60.0                         torso\n",
              "30403    male        65.0               lower extremity\n",
              "21243    male        70.0               lower extremity\n",
              "2732     male        50.0                         torso\n",
              "\n",
              "[26500 rows x 3 columns]>"
            ]
          },
          "metadata": {},
          "execution_count": 23
        }
      ]
    },
    {
      "cell_type": "code",
      "metadata": {
        "colab": {
          "base_uri": "https://localhost:8080/"
        },
        "id": "nKX-B4_-8ARZ",
        "outputId": "6ffe0f75-bab3-4367-f7b8-0c021db79c42"
      },
      "source": [
        "y_test.value_counts()/np.float(len(y_test))"
      ],
      "execution_count": null,
      "outputs": [
        {
          "output_type": "execute_result",
          "data": {
            "text/plain": [
              "0    0.982644\n",
              "1    0.017356\n",
              "Name: target, dtype: float64"
            ]
          },
          "metadata": {},
          "execution_count": 21
        }
      ]
    },
    {
      "cell_type": "code",
      "metadata": {
        "colab": {
          "base_uri": "https://localhost:8080/"
        },
        "id": "2kFT5O6L_dLy",
        "outputId": "6194435a-bbbd-45f9-bab3-431d069f640e"
      },
      "source": [
        "X_train.isnull().sum()"
      ],
      "execution_count": null,
      "outputs": [
        {
          "output_type": "execute_result",
          "data": {
            "text/plain": [
              "sex                               52\n",
              "age_approx                        55\n",
              "anatom_site_general_challenge    421\n",
              "dtype: int64"
            ]
          },
          "metadata": {},
          "execution_count": 26
        }
      ]
    },
    {
      "cell_type": "code",
      "metadata": {
        "colab": {
          "base_uri": "https://localhost:8080/"
        },
        "id": "XRRp8eiS_iTu",
        "outputId": "9d858333-70ae-4ea3-92f8-9b35e95dea13"
      },
      "source": [
        "X_test.isnull().sum()"
      ],
      "execution_count": null,
      "outputs": [
        {
          "output_type": "execute_result",
          "data": {
            "text/plain": [
              "sex                               13\n",
              "age_approx                        13\n",
              "anatom_site_general_challenge    106\n",
              "dtype: int64"
            ]
          },
          "metadata": {},
          "execution_count": 27
        }
      ]
    },
    {
      "cell_type": "code",
      "metadata": {
        "colab": {
          "base_uri": "https://localhost:8080/",
          "height": 433
        },
        "id": "Nm7Y5FJg9kHe",
        "outputId": "dfc45c56-6e67-4c98-ae90-96ace4c57d1c"
      },
      "source": [
        "# encoding labels \n",
        "\n",
        "lec = LabelEncoder() \n",
        "X_train['sex'] = lec.fit_transform(X_train['sex'])\n",
        "X_train['anatom_site_general_challenge'] = lec.fit_transform(X_train['anatom_site_general_challenge'])\n",
        "X_train\n",
        "\n",
        "X_test['sex'] = lec.fit_transform(X_test['sex'])\n",
        "X_test['anatom_site_general_challenge'] = lec.fit_transform(X_test['anatom_site_general_challenge'])\n"
      ],
      "execution_count": null,
      "outputs": [
        {
          "output_type": "error",
          "ename": "TypeError",
          "evalue": "ignored",
          "traceback": [
            "\u001b[0;31m---------------------------------------------------------------------------\u001b[0m",
            "\u001b[0;31mTypeError\u001b[0m                                 Traceback (most recent call last)",
            "\u001b[0;32m/usr/local/lib/python3.7/dist-packages/sklearn/preprocessing/_label.py\u001b[0m in \u001b[0;36m_encode\u001b[0;34m(values, uniques, encode, check_unknown)\u001b[0m\n\u001b[1;32m    111\u001b[0m         \u001b[0;32mtry\u001b[0m\u001b[0;34m:\u001b[0m\u001b[0;34m\u001b[0m\u001b[0;34m\u001b[0m\u001b[0m\n\u001b[0;32m--> 112\u001b[0;31m             \u001b[0mres\u001b[0m \u001b[0;34m=\u001b[0m \u001b[0m_encode_python\u001b[0m\u001b[0;34m(\u001b[0m\u001b[0mvalues\u001b[0m\u001b[0;34m,\u001b[0m \u001b[0muniques\u001b[0m\u001b[0;34m,\u001b[0m \u001b[0mencode\u001b[0m\u001b[0;34m)\u001b[0m\u001b[0;34m\u001b[0m\u001b[0;34m\u001b[0m\u001b[0m\n\u001b[0m\u001b[1;32m    113\u001b[0m         \u001b[0;32mexcept\u001b[0m \u001b[0mTypeError\u001b[0m\u001b[0;34m:\u001b[0m\u001b[0;34m\u001b[0m\u001b[0;34m\u001b[0m\u001b[0m\n",
            "\u001b[0;32m/usr/local/lib/python3.7/dist-packages/sklearn/preprocessing/_label.py\u001b[0m in \u001b[0;36m_encode_python\u001b[0;34m(values, uniques, encode)\u001b[0m\n\u001b[1;32m     59\u001b[0m     \u001b[0;32mif\u001b[0m \u001b[0muniques\u001b[0m \u001b[0;32mis\u001b[0m \u001b[0;32mNone\u001b[0m\u001b[0;34m:\u001b[0m\u001b[0;34m\u001b[0m\u001b[0;34m\u001b[0m\u001b[0m\n\u001b[0;32m---> 60\u001b[0;31m         \u001b[0muniques\u001b[0m \u001b[0;34m=\u001b[0m \u001b[0msorted\u001b[0m\u001b[0;34m(\u001b[0m\u001b[0mset\u001b[0m\u001b[0;34m(\u001b[0m\u001b[0mvalues\u001b[0m\u001b[0;34m)\u001b[0m\u001b[0;34m)\u001b[0m\u001b[0;34m\u001b[0m\u001b[0;34m\u001b[0m\u001b[0m\n\u001b[0m\u001b[1;32m     61\u001b[0m         \u001b[0muniques\u001b[0m \u001b[0;34m=\u001b[0m \u001b[0mnp\u001b[0m\u001b[0;34m.\u001b[0m\u001b[0marray\u001b[0m\u001b[0;34m(\u001b[0m\u001b[0muniques\u001b[0m\u001b[0;34m,\u001b[0m \u001b[0mdtype\u001b[0m\u001b[0;34m=\u001b[0m\u001b[0mvalues\u001b[0m\u001b[0;34m.\u001b[0m\u001b[0mdtype\u001b[0m\u001b[0;34m)\u001b[0m\u001b[0;34m\u001b[0m\u001b[0;34m\u001b[0m\u001b[0m\n",
            "\u001b[0;31mTypeError\u001b[0m: '<' not supported between instances of 'str' and 'float'",
            "\nDuring handling of the above exception, another exception occurred:\n",
            "\u001b[0;31mTypeError\u001b[0m                                 Traceback (most recent call last)",
            "\u001b[0;32m<ipython-input-25-3652898e36a3>\u001b[0m in \u001b[0;36m<module>\u001b[0;34m()\u001b[0m\n\u001b[1;32m      1\u001b[0m \u001b[0;31m# encoding labels\u001b[0m\u001b[0;34m\u001b[0m\u001b[0;34m\u001b[0m\u001b[0;34m\u001b[0m\u001b[0m\n\u001b[1;32m      2\u001b[0m \u001b[0mlec\u001b[0m \u001b[0;34m=\u001b[0m \u001b[0mLabelEncoder\u001b[0m\u001b[0;34m(\u001b[0m\u001b[0;34m)\u001b[0m\u001b[0;34m\u001b[0m\u001b[0;34m\u001b[0m\u001b[0m\n\u001b[0;32m----> 3\u001b[0;31m \u001b[0mX_train\u001b[0m\u001b[0;34m[\u001b[0m\u001b[0;34m'sex'\u001b[0m\u001b[0;34m]\u001b[0m \u001b[0;34m=\u001b[0m \u001b[0mlec\u001b[0m\u001b[0;34m.\u001b[0m\u001b[0mfit_transform\u001b[0m\u001b[0;34m(\u001b[0m\u001b[0mX_train\u001b[0m\u001b[0;34m[\u001b[0m\u001b[0;34m'sex'\u001b[0m\u001b[0;34m]\u001b[0m\u001b[0;34m)\u001b[0m\u001b[0;34m\u001b[0m\u001b[0;34m\u001b[0m\u001b[0m\n\u001b[0m\u001b[1;32m      4\u001b[0m \u001b[0mX_train\u001b[0m\u001b[0;34m[\u001b[0m\u001b[0;34m'anatom_site_general_challenge'\u001b[0m\u001b[0;34m]\u001b[0m \u001b[0;34m=\u001b[0m \u001b[0mlec\u001b[0m\u001b[0;34m.\u001b[0m\u001b[0mfit_transform\u001b[0m\u001b[0;34m(\u001b[0m\u001b[0mX_train\u001b[0m\u001b[0;34m[\u001b[0m\u001b[0;34m'anatom_site_general_challenge'\u001b[0m\u001b[0;34m]\u001b[0m\u001b[0;34m)\u001b[0m\u001b[0;34m\u001b[0m\u001b[0;34m\u001b[0m\u001b[0m\n\u001b[1;32m      5\u001b[0m \u001b[0mX_train\u001b[0m\u001b[0;34m\u001b[0m\u001b[0;34m\u001b[0m\u001b[0m\n",
            "\u001b[0;32m/usr/local/lib/python3.7/dist-packages/sklearn/preprocessing/_label.py\u001b[0m in \u001b[0;36mfit_transform\u001b[0;34m(self, y)\u001b[0m\n\u001b[1;32m    250\u001b[0m         \"\"\"\n\u001b[1;32m    251\u001b[0m         \u001b[0my\u001b[0m \u001b[0;34m=\u001b[0m \u001b[0mcolumn_or_1d\u001b[0m\u001b[0;34m(\u001b[0m\u001b[0my\u001b[0m\u001b[0;34m,\u001b[0m \u001b[0mwarn\u001b[0m\u001b[0;34m=\u001b[0m\u001b[0;32mTrue\u001b[0m\u001b[0;34m)\u001b[0m\u001b[0;34m\u001b[0m\u001b[0;34m\u001b[0m\u001b[0m\n\u001b[0;32m--> 252\u001b[0;31m         \u001b[0mself\u001b[0m\u001b[0;34m.\u001b[0m\u001b[0mclasses_\u001b[0m\u001b[0;34m,\u001b[0m \u001b[0my\u001b[0m \u001b[0;34m=\u001b[0m \u001b[0m_encode\u001b[0m\u001b[0;34m(\u001b[0m\u001b[0my\u001b[0m\u001b[0;34m,\u001b[0m \u001b[0mencode\u001b[0m\u001b[0;34m=\u001b[0m\u001b[0;32mTrue\u001b[0m\u001b[0;34m)\u001b[0m\u001b[0;34m\u001b[0m\u001b[0;34m\u001b[0m\u001b[0m\n\u001b[0m\u001b[1;32m    253\u001b[0m         \u001b[0;32mreturn\u001b[0m \u001b[0my\u001b[0m\u001b[0;34m\u001b[0m\u001b[0;34m\u001b[0m\u001b[0m\n\u001b[1;32m    254\u001b[0m \u001b[0;34m\u001b[0m\u001b[0m\n",
            "\u001b[0;32m/usr/local/lib/python3.7/dist-packages/sklearn/preprocessing/_label.py\u001b[0m in \u001b[0;36m_encode\u001b[0;34m(values, uniques, encode, check_unknown)\u001b[0m\n\u001b[1;32m    112\u001b[0m             \u001b[0mres\u001b[0m \u001b[0;34m=\u001b[0m \u001b[0m_encode_python\u001b[0m\u001b[0;34m(\u001b[0m\u001b[0mvalues\u001b[0m\u001b[0;34m,\u001b[0m \u001b[0muniques\u001b[0m\u001b[0;34m,\u001b[0m \u001b[0mencode\u001b[0m\u001b[0;34m)\u001b[0m\u001b[0;34m\u001b[0m\u001b[0;34m\u001b[0m\u001b[0m\n\u001b[1;32m    113\u001b[0m         \u001b[0;32mexcept\u001b[0m \u001b[0mTypeError\u001b[0m\u001b[0;34m:\u001b[0m\u001b[0;34m\u001b[0m\u001b[0;34m\u001b[0m\u001b[0m\n\u001b[0;32m--> 114\u001b[0;31m             \u001b[0;32mraise\u001b[0m \u001b[0mTypeError\u001b[0m\u001b[0;34m(\u001b[0m\u001b[0;34m\"argument must be a string or number\"\u001b[0m\u001b[0;34m)\u001b[0m\u001b[0;34m\u001b[0m\u001b[0;34m\u001b[0m\u001b[0m\n\u001b[0m\u001b[1;32m    115\u001b[0m         \u001b[0;32mreturn\u001b[0m \u001b[0mres\u001b[0m\u001b[0;34m\u001b[0m\u001b[0;34m\u001b[0m\u001b[0m\n\u001b[1;32m    116\u001b[0m     \u001b[0;32melse\u001b[0m\u001b[0;34m:\u001b[0m\u001b[0;34m\u001b[0m\u001b[0;34m\u001b[0m\u001b[0m\n",
            "\u001b[0;31mTypeError\u001b[0m: argument must be a string or number"
          ]
        }
      ]
    },
    {
      "cell_type": "code",
      "metadata": {
        "colab": {
          "base_uri": "https://localhost:8080/",
          "height": 364
        },
        "id": "NkrUkRFA9ut5",
        "outputId": "508df41d-5325-4daa-e82e-2d4464a84977"
      },
      "source": [
        "# drop null from training \n",
        "tem_train = pd.concat(X_train, y_train)\n",
        "tem_train.shape"
      ],
      "execution_count": null,
      "outputs": [
        {
          "output_type": "error",
          "ename": "TypeError",
          "evalue": "ignored",
          "traceback": [
            "\u001b[0;31m---------------------------------------------------------------------------\u001b[0m",
            "\u001b[0;31mTypeError\u001b[0m                                 Traceback (most recent call last)",
            "\u001b[0;32m<ipython-input-14-0e7fbe2d8265>\u001b[0m in \u001b[0;36m<module>\u001b[0;34m()\u001b[0m\n\u001b[1;32m      1\u001b[0m \u001b[0;31m# drop null from training\u001b[0m\u001b[0;34m\u001b[0m\u001b[0;34m\u001b[0m\u001b[0;34m\u001b[0m\u001b[0m\n\u001b[0;32m----> 2\u001b[0;31m \u001b[0mtem_train\u001b[0m \u001b[0;34m=\u001b[0m \u001b[0mpd\u001b[0m\u001b[0;34m.\u001b[0m\u001b[0mconcat\u001b[0m\u001b[0;34m(\u001b[0m\u001b[0mX_train\u001b[0m\u001b[0;34m,\u001b[0m \u001b[0my_train\u001b[0m\u001b[0;34m)\u001b[0m\u001b[0;34m\u001b[0m\u001b[0;34m\u001b[0m\u001b[0m\n\u001b[0m\u001b[1;32m      3\u001b[0m \u001b[0mtem_train\u001b[0m\u001b[0;34m.\u001b[0m\u001b[0mshape\u001b[0m\u001b[0;34m\u001b[0m\u001b[0;34m\u001b[0m\u001b[0m\n",
            "\u001b[0;32m/usr/local/lib/python3.7/dist-packages/pandas/core/reshape/concat.py\u001b[0m in \u001b[0;36mconcat\u001b[0;34m(objs, axis, join, ignore_index, keys, levels, names, verify_integrity, sort, copy)\u001b[0m\n\u001b[1;32m    282\u001b[0m         \u001b[0mverify_integrity\u001b[0m\u001b[0;34m=\u001b[0m\u001b[0mverify_integrity\u001b[0m\u001b[0;34m,\u001b[0m\u001b[0;34m\u001b[0m\u001b[0;34m\u001b[0m\u001b[0m\n\u001b[1;32m    283\u001b[0m         \u001b[0mcopy\u001b[0m\u001b[0;34m=\u001b[0m\u001b[0mcopy\u001b[0m\u001b[0;34m,\u001b[0m\u001b[0;34m\u001b[0m\u001b[0;34m\u001b[0m\u001b[0m\n\u001b[0;32m--> 284\u001b[0;31m         \u001b[0msort\u001b[0m\u001b[0;34m=\u001b[0m\u001b[0msort\u001b[0m\u001b[0;34m,\u001b[0m\u001b[0;34m\u001b[0m\u001b[0;34m\u001b[0m\u001b[0m\n\u001b[0m\u001b[1;32m    285\u001b[0m     )\n\u001b[1;32m    286\u001b[0m \u001b[0;34m\u001b[0m\u001b[0m\n",
            "\u001b[0;32m/usr/local/lib/python3.7/dist-packages/pandas/core/reshape/concat.py\u001b[0m in \u001b[0;36m__init__\u001b[0;34m(self, objs, axis, join, keys, levels, names, ignore_index, verify_integrity, copy, sort)\u001b[0m\n\u001b[1;32m    308\u001b[0m         \u001b[0;32mif\u001b[0m \u001b[0misinstance\u001b[0m\u001b[0;34m(\u001b[0m\u001b[0mobjs\u001b[0m\u001b[0;34m,\u001b[0m \u001b[0;34m(\u001b[0m\u001b[0mABCSeries\u001b[0m\u001b[0;34m,\u001b[0m \u001b[0mABCDataFrame\u001b[0m\u001b[0;34m,\u001b[0m \u001b[0mstr\u001b[0m\u001b[0;34m)\u001b[0m\u001b[0;34m)\u001b[0m\u001b[0;34m:\u001b[0m\u001b[0;34m\u001b[0m\u001b[0;34m\u001b[0m\u001b[0m\n\u001b[1;32m    309\u001b[0m             raise TypeError(\n\u001b[0;32m--> 310\u001b[0;31m                 \u001b[0;34m\"first argument must be an iterable of pandas \"\u001b[0m\u001b[0;34m\u001b[0m\u001b[0;34m\u001b[0m\u001b[0m\n\u001b[0m\u001b[1;32m    311\u001b[0m                 \u001b[0;34mf'objects, you passed an object of type \"{type(objs).__name__}\"'\u001b[0m\u001b[0;34m\u001b[0m\u001b[0;34m\u001b[0m\u001b[0m\n\u001b[1;32m    312\u001b[0m             )\n",
            "\u001b[0;31mTypeError\u001b[0m: first argument must be an iterable of pandas objects, you passed an object of type \"DataFrame\""
          ]
        }
      ]
    },
    {
      "cell_type": "markdown",
      "metadata": {
        "id": "d4G1AUAVxub3"
      },
      "source": [
        "#Temp"
      ]
    },
    {
      "cell_type": "code",
      "metadata": {
        "id": "9Rt3s6aPIOI3"
      },
      "source": [
        "# Save validation performace \n",
        "\n",
        "lf_UnderSample_score = []\n",
        "classifer_name = ['lr_Undersample']\n",
        "class_report = classification_report(y_test, y_pred, output_dict=True)\n",
        "lf_UnderSample_score += classifer_name\n",
        "#class_report\n",
        "lf_UnderSample_score += list(class_report[\"1\"].values())[0:3]\n",
        "lf_UnderSample_score.append(class_report[\"accuracy\"])\n",
        "lf_UnderSample_score"
      ],
      "execution_count": null,
      "outputs": []
    },
    {
      "cell_type": "code",
      "metadata": {
        "id": "AcOgt4jiTtQU"
      },
      "source": [
        "# Model performace Optional\n",
        "scoring = [\"accuracy\", \"balanced_accuracy\"]\n",
        "cv_result = cross_validate(lr_clf, X_train, y_train, scoring=scoring)\n",
        "test_balanced_accuracy = cv_result['test_balanced_accuracy'].mean()\n",
        "print(f\"Accuracy score of a lr classifier: {cv_result['test_accuracy'].mean():.3f}\")\n",
        "print(\n",
        "    f\"Balanced accuracy score of a lr classifier: \"\n",
        "    f\"{cv_result['test_balanced_accuracy'].mean():.3f}\"\n",
        ")"
      ],
      "execution_count": null,
      "outputs": []
    },
    {
      "cell_type": "code",
      "metadata": {
        "id": "aFJbHVSgShyw"
      },
      "source": [
        ""
      ],
      "execution_count": null,
      "outputs": []
    },
    {
      "cell_type": "code",
      "metadata": {
        "id": "fQHk6OoaamYL"
      },
      "source": [
        "\n",
        "conf_matrix = confusion_matrix(y_true=y_train, y_pred=lr_rs_y_pred)\n",
        "fig, ax = plt.subplots(figsize=(7.5, 7.5))\n",
        "ax.matshow(conf_matrix, cmap=plt.cm.Blues, alpha=0.3)\n",
        "for i in range(conf_matrix.shape[0]):\n",
        "    for j in range(conf_matrix.shape[1]):\n",
        "        ax.text(x=j, y=i,s=conf_matrix[i, j], va='center', ha='center', size='xx-large')\n",
        " \n",
        "plt.xlabel('Predictions', fontsize=18)\n",
        "plt.ylabel('Actuals', fontsize=18)\n",
        "plt.title('Confusion Matrix', fontsize=18)\n",
        "plt.show()\n"
      ],
      "execution_count": null,
      "outputs": []
    },
    {
      "cell_type": "code",
      "metadata": {
        "id": "sN1LBxDfVkan"
      },
      "source": [
        "from sklearn.model_selection import cross_val_predict\n",
        "import matplotlib.pyplot as plt\n",
        "\n",
        "\n",
        "\n",
        "y_pred = cross_val_predict(lr_clf, X_train, y_train, cv=10)\n",
        "\n",
        "conf_matrix = confusion_matrix(y_true=y_train, y_pred=y_pred)\n",
        "fig, ax = plt.subplots(figsize=(7.5, 7.5))\n",
        "ax.matshow(conf_matrix, cmap=plt.cm.Blues, alpha=0.3)\n",
        "for i in range(conf_matrix.shape[0]):\n",
        "    for j in range(conf_matrix.shape[1]):\n",
        "        ax.text(x=j, y=i,s=conf_matrix[i, j], va='center', ha='center', size='xx-large')\n",
        " \n",
        "plt.xlabel('Predictions', fontsize=18)\n",
        "plt.ylabel('Actuals', fontsize=18)\n",
        "plt.title('Confusion Matrix', fontsize=18)\n",
        "plt.show()\n"
      ],
      "execution_count": null,
      "outputs": []
    },
    {
      "cell_type": "code",
      "metadata": {
        "id": "4piEI-h_qoZO"
      },
      "source": [
        "# RF\n",
        "rf = RandomForestClassifier()\n",
        "scoring = [\"accuracy\", \"balanced_accuracy\"]\n",
        "cv_result = cross_validate(rf, X_train, y_train, scoring=scoring)\n",
        "print(f\"Accuracy score of a dummy classifier: {cv_result['test_accuracy'].mean():.3f}\")\n",
        "test_balanced_accuracy = cv_result['test_balanced_accuracy'].mean()\n",
        "print(\n",
        "    f\"Balanced accuracy score of a dummy classifier: \"\n",
        "    f\"{cv_result['test_balanced_accuracy'].mean():.3f}\"\n",
        ")\n",
        "\n"
      ],
      "execution_count": null,
      "outputs": []
    },
    {
      "cell_type": "code",
      "metadata": {
        "colab": {
          "base_uri": "https://localhost:8080/"
        },
        "id": "LLmqKPLwLAuI",
        "outputId": "f8d20d32-829c-4a6b-b3b3-9f20636c925e"
      },
      "source": [
        "# GridSearch function return best model \n",
        "\n",
        "\n",
        "param_grid = {\n",
        "    \"n_estimators\":[10,50,250],\n",
        "    \"max_depth\":[10, 50, 100],\n",
        "    \"min_samples_split\" : [2, 5, 10, 15, 100],\n",
        "    \"min_samples_leaf\" : [1, 2, 5, 10] \n",
        "}\n",
        "\n",
        "rf_reg = RandomForestClassifier()\n",
        "\n",
        "rf_reg_tuned = GridSearchCV(estimator=rf_reg,\n",
        "                            param_grid=param_grid,\n",
        "                            cv=5,\n",
        "                            n_jobs=-1,\n",
        "                            verbose=2)\n",
        "\n",
        "rf_reg_tuned.fit(X_train, y_train)\n",
        "rf_reg_tuned.best_estimator_\n",
        "\n",
        "rf = rf_reg_tuned.best_estimator_"
      ],
      "execution_count": null,
      "outputs": [
        {
          "output_type": "stream",
          "name": "stdout",
          "text": [
            "Fitting 5 folds for each of 180 candidates, totalling 900 fits\n"
          ]
        },
        {
          "output_type": "stream",
          "name": "stderr",
          "text": [
            "[Parallel(n_jobs=-1)]: Using backend LokyBackend with 2 concurrent workers.\n",
            "[Parallel(n_jobs=-1)]: Done  37 tasks      | elapsed:   29.7s\n",
            "[Parallel(n_jobs=-1)]: Done 158 tasks      | elapsed:  2.2min\n",
            "[Parallel(n_jobs=-1)]: Done 361 tasks      | elapsed:  5.1min\n",
            "[Parallel(n_jobs=-1)]: Done 644 tasks      | elapsed:  9.2min\n",
            "[Parallel(n_jobs=-1)]: Done 900 out of 900 | elapsed: 12.8min finished\n"
          ]
        },
        {
          "output_type": "execute_result",
          "data": {
            "text/plain": [
              "RandomForestClassifier(bootstrap=True, ccp_alpha=0.0, class_weight=None,\n",
              "                       criterion='gini', max_depth=10, max_features='auto',\n",
              "                       max_leaf_nodes=None, max_samples=None,\n",
              "                       min_impurity_decrease=0.0, min_impurity_split=None,\n",
              "                       min_samples_leaf=1, min_samples_split=5,\n",
              "                       min_weight_fraction_leaf=0.0, n_estimators=200,\n",
              "                       n_jobs=None, oob_score=False, random_state=None,\n",
              "                       verbose=0, warm_start=False)"
            ]
          },
          "metadata": {},
          "execution_count": 241
        }
      ]
    },
    {
      "cell_type": "code",
      "metadata": {
        "id": "8xvj72vrdLu6"
      },
      "source": [
        "# Grid Search As a Function\n",
        "\n",
        "def grid_search (clf,para,)"
      ],
      "execution_count": null,
      "outputs": []
    },
    {
      "cell_type": "code",
      "metadata": {
        "colab": {
          "base_uri": "https://localhost:8080/"
        },
        "id": "3UgmNcH8LAY_",
        "outputId": "a13e85f9-74c6-4554-8fd9-4c544051f1cc"
      },
      "source": [
        "from sklearn.metrics import accuracy_score\n",
        "best_rf = rf_reg_tuned.best_estimator_\n",
        "y_pred =best_rf.predict(X_test)\n",
        "\n",
        "print('Model accuracy score with default hyperparameters: {0:0.4f}'. format(accuracy_score(y_test, y_pred)))\n",
        "print(classification_report(y_test, y_pred))"
      ],
      "execution_count": null,
      "outputs": [
        {
          "output_type": "stream",
          "name": "stdout",
          "text": [
            "Model accuracy score with default hyperparameters: 0.9826\n",
            "              precision    recall  f1-score   support\n",
            "\n",
            "           0       0.98      1.00      0.99      6511\n",
            "           1       0.00      0.00      0.00       115\n",
            "\n",
            "    accuracy                           0.98      6626\n",
            "   macro avg       0.49      0.50      0.50      6626\n",
            "weighted avg       0.97      0.98      0.97      6626\n",
            "\n"
          ]
        },
        {
          "output_type": "stream",
          "name": "stderr",
          "text": [
            "/usr/local/lib/python3.7/dist-packages/sklearn/metrics/_classification.py:1272: UndefinedMetricWarning: Precision and F-score are ill-defined and being set to 0.0 in labels with no predicted samples. Use `zero_division` parameter to control this behavior.\n",
            "  _warn_prf(average, modifier, msg_start, len(result))\n"
          ]
        }
      ]
    },
    {
      "cell_type": "code",
      "metadata": {
        "colab": {
          "base_uri": "https://localhost:8080/"
        },
        "id": "_l9C5aqp4rvr",
        "outputId": "a4030385-cef8-4f2d-895b-b7456b42a6fd"
      },
      "source": [
        "# define model\n",
        "model = EasyEnsembleClassifier(n_estimators=1000)\n",
        "# define evaluation procedure\n",
        "cv = RepeatedStratifiedKFold(n_splits=10, n_repeats=3, random_state=1)\n",
        "# evaluate model\n",
        "scores = cross_val_score(model, X_train, y_train, scoring='f1', cv=cv, n_jobs=-1)\n",
        "# summarize performance\n",
        "print('Mean ROC AUC: %.3f' % mean(scores))"
      ],
      "execution_count": null,
      "outputs": [
        {
          "output_type": "stream",
          "name": "stdout",
          "text": [
            "Mean ROC AUC: 0.058\n"
          ]
        }
      ]
    },
    {
      "cell_type": "code",
      "metadata": {
        "id": "THKoALk2aUUt"
      },
      "source": [
        ""
      ],
      "execution_count": null,
      "outputs": []
    },
    {
      "cell_type": "code",
      "metadata": {
        "id": "bif61WksdNru",
        "colab": {
          "base_uri": "https://localhost:8080/"
        },
        "outputId": "250b99ea-d402-4661-e1b7-de21963bb790"
      },
      "source": [
        "data = pd.read_csv('train.csv')\n",
        "data.head()\n",
        "print(data.shape)\n",
        "print(data.columns)"
      ],
      "execution_count": null,
      "outputs": [
        {
          "output_type": "stream",
          "name": "stdout",
          "text": [
            "(33126, 9)\n",
            "Index(['image_name', 'patient_id', 'lesion_id', 'sex', 'age_approx',\n",
            "       'anatom_site_general_challenge', 'diagnosis', 'benign_malignant',\n",
            "       'target'],\n",
            "      dtype='object')\n"
          ]
        }
      ]
    },
    {
      "cell_type": "code",
      "metadata": {
        "colab": {
          "base_uri": "https://localhost:8080/",
          "height": 206
        },
        "id": "QhVsOazzfyen",
        "outputId": "822eb6a5-5a9b-45d8-b39b-7b2bdcca86ce"
      },
      "source": [
        "data = data.loc[:,['sex', 'age_approx','anatom_site_general_challenge','target']]\n",
        "data.head()"
      ],
      "execution_count": null,
      "outputs": [
        {
          "output_type": "execute_result",
          "data": {
            "text/html": [
              "<div>\n",
              "<style scoped>\n",
              "    .dataframe tbody tr th:only-of-type {\n",
              "        vertical-align: middle;\n",
              "    }\n",
              "\n",
              "    .dataframe tbody tr th {\n",
              "        vertical-align: top;\n",
              "    }\n",
              "\n",
              "    .dataframe thead th {\n",
              "        text-align: right;\n",
              "    }\n",
              "</style>\n",
              "<table border=\"1\" class=\"dataframe\">\n",
              "  <thead>\n",
              "    <tr style=\"text-align: right;\">\n",
              "      <th></th>\n",
              "      <th>sex</th>\n",
              "      <th>age_approx</th>\n",
              "      <th>anatom_site_general_challenge</th>\n",
              "      <th>target</th>\n",
              "    </tr>\n",
              "  </thead>\n",
              "  <tbody>\n",
              "    <tr>\n",
              "      <th>0</th>\n",
              "      <td>male</td>\n",
              "      <td>45.0</td>\n",
              "      <td>head/neck</td>\n",
              "      <td>0</td>\n",
              "    </tr>\n",
              "    <tr>\n",
              "      <th>1</th>\n",
              "      <td>female</td>\n",
              "      <td>45.0</td>\n",
              "      <td>upper extremity</td>\n",
              "      <td>0</td>\n",
              "    </tr>\n",
              "    <tr>\n",
              "      <th>2</th>\n",
              "      <td>female</td>\n",
              "      <td>50.0</td>\n",
              "      <td>lower extremity</td>\n",
              "      <td>0</td>\n",
              "    </tr>\n",
              "    <tr>\n",
              "      <th>3</th>\n",
              "      <td>female</td>\n",
              "      <td>45.0</td>\n",
              "      <td>head/neck</td>\n",
              "      <td>0</td>\n",
              "    </tr>\n",
              "    <tr>\n",
              "      <th>4</th>\n",
              "      <td>female</td>\n",
              "      <td>55.0</td>\n",
              "      <td>upper extremity</td>\n",
              "      <td>0</td>\n",
              "    </tr>\n",
              "  </tbody>\n",
              "</table>\n",
              "</div>"
            ],
            "text/plain": [
              "      sex  age_approx anatom_site_general_challenge  target\n",
              "0    male        45.0                     head/neck       0\n",
              "1  female        45.0               upper extremity       0\n",
              "2  female        50.0               lower extremity       0\n",
              "3  female        45.0                     head/neck       0\n",
              "4  female        55.0               upper extremity       0"
            ]
          },
          "metadata": {},
          "execution_count": 21
        }
      ]
    },
    {
      "cell_type": "code",
      "metadata": {
        "colab": {
          "base_uri": "https://localhost:8080/"
        },
        "id": "QGyTRcjQgId-",
        "outputId": "a048504a-894d-4979-9e11-19cc7471127f"
      },
      "source": [
        "data['target'].value_counts()\n",
        "data['target'].value_counts()/np.float(len(data))\n",
        "\n",
        "\n"
      ],
      "execution_count": null,
      "outputs": [
        {
          "output_type": "execute_result",
          "data": {
            "text/plain": [
              "0    0.98237\n",
              "1    0.01763\n",
              "Name: target, dtype: float64"
            ]
          },
          "metadata": {},
          "execution_count": 22
        }
      ]
    },
    {
      "cell_type": "code",
      "metadata": {
        "colab": {
          "base_uri": "https://localhost:8080/"
        },
        "id": "2q2JxIjRglqy",
        "outputId": "0f0f68a9-09e0-4d9f-81da-2f93c03f2e6f"
      },
      "source": [
        "data.isnull().sum()"
      ],
      "execution_count": null,
      "outputs": [
        {
          "output_type": "execute_result",
          "data": {
            "text/plain": [
              "sex                               65\n",
              "age_approx                        68\n",
              "anatom_site_general_challenge    527\n",
              "target                             0\n",
              "dtype: int64"
            ]
          },
          "metadata": {},
          "execution_count": 23
        }
      ]
    },
    {
      "cell_type": "code",
      "metadata": {
        "colab": {
          "base_uri": "https://localhost:8080/"
        },
        "id": "B30vDzSljDP5",
        "outputId": "2596afa9-58b7-452e-ad26-e7d5c3867d0a"
      },
      "source": [
        "# drop null\n",
        "data.dropna(subset=['sex','age_approx','anatom_site_general_challenge',], inplace=True)\n",
        "data.isnull().sum()\n",
        "#data['target'].value_counts()/np.float(len(data))\n",
        "\n",
        "# "
      ],
      "execution_count": null,
      "outputs": [
        {
          "output_type": "execute_result",
          "data": {
            "text/plain": [
              "sex                              0\n",
              "age_approx                       0\n",
              "anatom_site_general_challenge    0\n",
              "target                           0\n",
              "dtype: int64"
            ]
          },
          "metadata": {},
          "execution_count": 24
        }
      ]
    },
    {
      "cell_type": "code",
      "metadata": {
        "id": "PldS9J_Zjepa"
      },
      "source": [
        "# splite data set \n",
        "X = data.drop(['target'], axis=1)\n",
        "\n",
        "y = data['target']\n",
        "X_train, X_test, y_train, y_test = train_test_split(X, y, test_size = 0.2, random_state = 0)"
      ],
      "execution_count": null,
      "outputs": []
    },
    {
      "cell_type": "code",
      "metadata": {
        "colab": {
          "base_uri": "https://localhost:8080/"
        },
        "id": "a77R1NE8xM2e",
        "outputId": "e46a2a53-3017-4d61-930b-5f0f30359b7e"
      },
      "source": [
        "X_train.isnull().sum()\n",
        "#X_train"
      ],
      "execution_count": null,
      "outputs": [
        {
          "output_type": "execute_result",
          "data": {
            "text/plain": [
              "sex                              0\n",
              "age_approx                       0\n",
              "anatom_site_general_challenge    0\n",
              "dtype: int64"
            ]
          },
          "metadata": {},
          "execution_count": 26
        }
      ]
    },
    {
      "cell_type": "code",
      "metadata": {
        "colab": {
          "base_uri": "https://localhost:8080/"
        },
        "id": "TTIgpbt_zITB",
        "outputId": "bbc39cfb-556b-4565-e20e-bf870ad0a4b7"
      },
      "source": [
        "# Label encoder \n",
        "\n",
        "lec = LabelEncoder()\n",
        "X_train['sex'] = lec.fit_transform(X_train['sex'])\n",
        "X_train['anatom_site_general_challenge'] = lec.fit_transform(X_train['anatom_site_general_challenge'])\n",
        "X_train\n",
        "\n",
        "X_test['sex'] = lec.fit_transform(X_test['sex'])\n",
        "X_test['anatom_site_general_challenge'] = lec.fit_transform(X_test['anatom_site_general_challenge'])\n",
        "\n"
      ],
      "execution_count": null,
      "outputs": [
        {
          "output_type": "stream",
          "name": "stderr",
          "text": [
            "/usr/local/lib/python3.7/dist-packages/ipykernel_launcher.py:4: SettingWithCopyWarning: \n",
            "A value is trying to be set on a copy of a slice from a DataFrame.\n",
            "Try using .loc[row_indexer,col_indexer] = value instead\n",
            "\n",
            "See the caveats in the documentation: https://pandas.pydata.org/pandas-docs/stable/user_guide/indexing.html#returning-a-view-versus-a-copy\n",
            "  after removing the cwd from sys.path.\n",
            "/usr/local/lib/python3.7/dist-packages/ipykernel_launcher.py:5: SettingWithCopyWarning: \n",
            "A value is trying to be set on a copy of a slice from a DataFrame.\n",
            "Try using .loc[row_indexer,col_indexer] = value instead\n",
            "\n",
            "See the caveats in the documentation: https://pandas.pydata.org/pandas-docs/stable/user_guide/indexing.html#returning-a-view-versus-a-copy\n",
            "  \"\"\"\n",
            "/usr/local/lib/python3.7/dist-packages/ipykernel_launcher.py:8: SettingWithCopyWarning: \n",
            "A value is trying to be set on a copy of a slice from a DataFrame.\n",
            "Try using .loc[row_indexer,col_indexer] = value instead\n",
            "\n",
            "See the caveats in the documentation: https://pandas.pydata.org/pandas-docs/stable/user_guide/indexing.html#returning-a-view-versus-a-copy\n",
            "  \n",
            "/usr/local/lib/python3.7/dist-packages/ipykernel_launcher.py:9: SettingWithCopyWarning: \n",
            "A value is trying to be set on a copy of a slice from a DataFrame.\n",
            "Try using .loc[row_indexer,col_indexer] = value instead\n",
            "\n",
            "See the caveats in the documentation: https://pandas.pydata.org/pandas-docs/stable/user_guide/indexing.html#returning-a-view-versus-a-copy\n",
            "  if __name__ == '__main__':\n"
          ]
        }
      ]
    },
    {
      "cell_type": "code",
      "metadata": {
        "colab": {
          "base_uri": "https://localhost:8080/"
        },
        "id": "vyHNENyeARD8",
        "outputId": "cd1ea912-6449-4991-d877-e52acae4ad43"
      },
      "source": [
        "# undersampling 0 class, separated two class \n",
        "\n",
        "from sklearn.utils import resample,shuffle\n",
        "train_data = X_train.join(y_train)\n",
        "b_train = train_data.loc[train_data['target'] == 0, :]\n",
        "m_train = train_data.loc[train_data['target'] == 1, :]\n",
        "m_train_size = m_train.shape[0]\n",
        "\n",
        "#size = int((0.8*m_train_size)/0.2)\n",
        "#size\n",
        "b_train_80 = resample(b_train, n_samples = int((0.8*m_train_size)/0.2), replace= False)\n",
        "b_train_80.shape\n",
        "\n",
        "\n",
        "\n",
        "# rejoin b_train & m_train \n",
        "\n",
        "train_8020 = pd.concat([b_train_80, m_train])\n",
        "train_8020.shape\n",
        "\n",
        "train_8020['target'].value_counts()/np.float(len(train_8020))\n",
        "X_train = train_8020.drop(['target'], axis=1)\n",
        "y_train = train_8020['target']\n",
        "y_train.value_counts()\n",
        "\n",
        "#y_test.value_counts()\n"
      ],
      "execution_count": null,
      "outputs": [
        {
          "output_type": "execute_result",
          "data": {
            "text/plain": [
              "0    1848\n",
              "1     462\n",
              "Name: target, dtype: int64"
            ]
          },
          "metadata": {},
          "execution_count": 28
        }
      ]
    },
    {
      "cell_type": "code",
      "metadata": {
        "colab": {
          "base_uri": "https://localhost:8080/",
          "height": 424
        },
        "id": "Fd5Q9qDspTOP",
        "outputId": "a83ce504-f845-4e59-8cba-18c0de6439fe"
      },
      "source": [
        "# OnehotEncoding for catagorical data\n",
        "\n",
        "categorical_cols = ['sex','anatom_site_general_challenge']\n",
        "ohe = OneHotEncoder(handle_unknown = 'ignore')\n",
        "array_hot_encoded = ohe.fit_transform(X_train[categorical_cols])\n",
        "\n",
        "#conver it to df\n",
        "data_hot_encoded = pd.DataFrame(array_hot_encoded, index=X_train.index)\n",
        "\n",
        "# Extract the column that didn't encode\n",
        "data_other_cols = X_train.drop(columns=categorical_cols)\n",
        "\n",
        "#Concate two datafraomes \n",
        "\n",
        "data_out = pd.concat([data_hot_encoded,data_other_cols], axis =1)\n",
        "data_out\n",
        "\n"
      ],
      "execution_count": null,
      "outputs": [
        {
          "output_type": "execute_result",
          "data": {
            "text/html": [
              "<div>\n",
              "<style scoped>\n",
              "    .dataframe tbody tr th:only-of-type {\n",
              "        vertical-align: middle;\n",
              "    }\n",
              "\n",
              "    .dataframe tbody tr th {\n",
              "        vertical-align: top;\n",
              "    }\n",
              "\n",
              "    .dataframe thead th {\n",
              "        text-align: right;\n",
              "    }\n",
              "</style>\n",
              "<table border=\"1\" class=\"dataframe\">\n",
              "  <thead>\n",
              "    <tr style=\"text-align: right;\">\n",
              "      <th></th>\n",
              "      <th>0</th>\n",
              "      <th>age_approx</th>\n",
              "    </tr>\n",
              "  </thead>\n",
              "  <tbody>\n",
              "    <tr>\n",
              "      <th>21820</th>\n",
              "      <td>(0, 0)\\t1.0\\n  (0, 6)\\t1.0</td>\n",
              "      <td>35.0</td>\n",
              "    </tr>\n",
              "    <tr>\n",
              "      <th>18340</th>\n",
              "      <td>(0, 0)\\t1.0\\n  (0, 7)\\t1.0</td>\n",
              "      <td>25.0</td>\n",
              "    </tr>\n",
              "    <tr>\n",
              "      <th>22781</th>\n",
              "      <td>(0, 1)\\t1.0\\n  (0, 6)\\t1.0</td>\n",
              "      <td>60.0</td>\n",
              "    </tr>\n",
              "    <tr>\n",
              "      <th>27508</th>\n",
              "      <td>(0, 1)\\t1.0\\n  (0, 6)\\t1.0</td>\n",
              "      <td>50.0</td>\n",
              "    </tr>\n",
              "    <tr>\n",
              "      <th>8018</th>\n",
              "      <td>(0, 0)\\t1.0\\n  (0, 6)\\t1.0</td>\n",
              "      <td>90.0</td>\n",
              "    </tr>\n",
              "    <tr>\n",
              "      <th>...</th>\n",
              "      <td>...</td>\n",
              "      <td>...</td>\n",
              "    </tr>\n",
              "    <tr>\n",
              "      <th>13352</th>\n",
              "      <td>(0, 1)\\t1.0\\n  (0, 2)\\t1.0</td>\n",
              "      <td>80.0</td>\n",
              "    </tr>\n",
              "    <tr>\n",
              "      <th>20010</th>\n",
              "      <td>(0, 1)\\t1.0\\n  (0, 3)\\t1.0</td>\n",
              "      <td>50.0</td>\n",
              "    </tr>\n",
              "    <tr>\n",
              "      <th>10023</th>\n",
              "      <td>(0, 0)\\t1.0\\n  (0, 6)\\t1.0</td>\n",
              "      <td>55.0</td>\n",
              "    </tr>\n",
              "    <tr>\n",
              "      <th>10994</th>\n",
              "      <td>(0, 0)\\t1.0\\n  (0, 6)\\t1.0</td>\n",
              "      <td>55.0</td>\n",
              "    </tr>\n",
              "    <tr>\n",
              "      <th>2793</th>\n",
              "      <td>(0, 0)\\t1.0\\n  (0, 7)\\t1.0</td>\n",
              "      <td>65.0</td>\n",
              "    </tr>\n",
              "  </tbody>\n",
              "</table>\n",
              "<p>26024 rows × 2 columns</p>\n",
              "</div>"
            ],
            "text/plain": [
              "                                  0  age_approx\n",
              "21820    (0, 0)\\t1.0\\n  (0, 6)\\t1.0        35.0\n",
              "18340    (0, 0)\\t1.0\\n  (0, 7)\\t1.0        25.0\n",
              "22781    (0, 1)\\t1.0\\n  (0, 6)\\t1.0        60.0\n",
              "27508    (0, 1)\\t1.0\\n  (0, 6)\\t1.0        50.0\n",
              "8018     (0, 0)\\t1.0\\n  (0, 6)\\t1.0        90.0\n",
              "...                             ...         ...\n",
              "13352    (0, 1)\\t1.0\\n  (0, 2)\\t1.0        80.0\n",
              "20010    (0, 1)\\t1.0\\n  (0, 3)\\t1.0        50.0\n",
              "10023    (0, 0)\\t1.0\\n  (0, 6)\\t1.0        55.0\n",
              "10994    (0, 0)\\t1.0\\n  (0, 6)\\t1.0        55.0\n",
              "2793     (0, 0)\\t1.0\\n  (0, 7)\\t1.0        65.0\n",
              "\n",
              "[26024 rows x 2 columns]"
            ]
          },
          "metadata": {},
          "execution_count": 89
        }
      ]
    },
    {
      "cell_type": "code",
      "metadata": {
        "colab": {
          "base_uri": "https://localhost:8080/"
        },
        "id": "wXw7PNcFvo-A",
        "outputId": "0edc5060-87ac-49e0-f88c-e0b1a420954c"
      },
      "source": [
        "# RandomForestClassifier with GridSearchCV\n",
        "from sklearn.ensemble import RandomForestClassifier\n",
        "from sklearn.model_selection import train_test_split, GridSearchCV\n",
        "from sklearn.metrics import accuracy_score\n",
        "\n",
        "\n",
        "param_grid = {\n",
        "    \"n_estimators\":[100,200,300],\n",
        "    \"max_depth\":[10, 50, 100],\n",
        "   \"min_samples_split\" : [2, 5, 10, 15, 100],\n",
        "    \"min_samples_leaf\" : [1, 2, 5, 10] \n",
        "}\n",
        "\n",
        "rf_reg = RandomForestClassifier()\n",
        "\n",
        "rf_reg_tuned = GridSearchCV(estimator=rf_reg,\n",
        "                            param_grid=param_grid,\n",
        "                            cv=5,\n",
        "                            n_jobs=-1,\n",
        "                            verbose=2)\n",
        "\n",
        "rf_reg_tuned.fit(X_train, y_train)\n",
        "rf_reg_tuned.best_estimator_"
      ],
      "execution_count": null,
      "outputs": [
        {
          "output_type": "stream",
          "name": "stdout",
          "text": [
            "Fitting 5 folds for each of 180 candidates, totalling 900 fits\n"
          ]
        },
        {
          "output_type": "stream",
          "name": "stderr",
          "text": [
            "[Parallel(n_jobs=-1)]: Using backend LokyBackend with 2 concurrent workers.\n",
            "[Parallel(n_jobs=-1)]: Done  37 tasks      | elapsed:   12.2s\n",
            "[Parallel(n_jobs=-1)]: Done 158 tasks      | elapsed:   52.5s\n",
            "[Parallel(n_jobs=-1)]: Done 361 tasks      | elapsed:  2.0min\n",
            "[Parallel(n_jobs=-1)]: Done 644 tasks      | elapsed:  3.6min\n",
            "[Parallel(n_jobs=-1)]: Done 900 out of 900 | elapsed:  5.1min finished\n"
          ]
        },
        {
          "output_type": "execute_result",
          "data": {
            "text/plain": [
              "RandomForestClassifier(bootstrap=True, ccp_alpha=0.0, class_weight=None,\n",
              "                       criterion='gini', max_depth=10, max_features='auto',\n",
              "                       max_leaf_nodes=None, max_samples=None,\n",
              "                       min_impurity_decrease=0.0, min_impurity_split=None,\n",
              "                       min_samples_leaf=2, min_samples_split=100,\n",
              "                       min_weight_fraction_leaf=0.0, n_estimators=300,\n",
              "                       n_jobs=None, oob_score=False, random_state=None,\n",
              "                       verbose=0, warm_start=False)"
            ]
          },
          "metadata": {},
          "execution_count": 29
        }
      ]
    },
    {
      "cell_type": "code",
      "metadata": {
        "colab": {
          "base_uri": "https://localhost:8080/"
        },
        "id": "ftvQyXQWpW9J",
        "outputId": "93a3efae-6ab9-4104-9bab-df8299ed9c12"
      },
      "source": [
        "from sklearn.metrics import accuracy_score\n",
        "best_rf = rf_reg_tuned.best_estimator_\n",
        "y_pred =best_rf.predict(X_test)\n",
        "\n",
        "print('Model accuracy score with default hyperparameters: {0:0.4f}'. format(accuracy_score(y_test, y_pred)))\n",
        "print(classification_report(y_test, y_pred))"
      ],
      "execution_count": null,
      "outputs": [
        {
          "output_type": "stream",
          "name": "stdout",
          "text": [
            "Model accuracy score with default hyperparameters: 0.9484\n",
            "              precision    recall  f1-score   support\n",
            "\n",
            "           0       0.98      0.96      0.97      6394\n",
            "           1       0.07      0.17      0.10       113\n",
            "\n",
            "    accuracy                           0.95      6507\n",
            "   macro avg       0.53      0.57      0.54      6507\n",
            "weighted avg       0.97      0.95      0.96      6507\n",
            "\n"
          ]
        }
      ]
    },
    {
      "cell_type": "code",
      "metadata": {
        "colab": {
          "base_uri": "https://localhost:8080/"
        },
        "id": "D_peqa9ll-wJ",
        "outputId": "d367bbc7-4c0a-4d70-98cf-e9ccd7417a97"
      },
      "source": [
        "# Rum default model \n",
        "from sklearn.metrics import accuracy_score\n",
        "\n",
        "svc = SVC()\n",
        "svc.fit(X_train, y_train)\n",
        "\n",
        "y_pred =svc.predict(X_test)\n",
        "\n",
        "print('Model accuracy score with default hyperparameters: {0:0.4f}'. format(accuracy_score(y_test, y_pred)))"
      ],
      "execution_count": null,
      "outputs": [
        {
          "output_type": "stream",
          "name": "stdout",
          "text": [
            "Model accuracy score with default hyperparameters: 0.9826\n"
          ]
        }
      ]
    },
    {
      "cell_type": "code",
      "metadata": {
        "colab": {
          "base_uri": "https://localhost:8080/"
        },
        "id": "vdG5K1ev2gfl",
        "outputId": "f006f94b-9c71-4a72-8ec7-572e15bc8aea"
      },
      "source": [
        "# instantiate classifier with linear kernel and C=1.0\n",
        "\n",
        "svc = SVC(kernel='linear', C=100.0)\n",
        "svc.fit(X_train, y_train)\n",
        "\n",
        "y_pred =svc.predict(X_test)\n",
        "\n",
        "print('Model accuracy score with default hyperparameters: {0:0.4f}'. format(accuracy_score(y_test, y_pred)))"
      ],
      "execution_count": null,
      "outputs": [
        {
          "output_type": "stream",
          "name": "stdout",
          "text": [
            "Model accuracy score with default hyperparameters: 0.9826\n"
          ]
        }
      ]
    },
    {
      "cell_type": "code",
      "metadata": {
        "colab": {
          "base_uri": "https://localhost:8080/"
        },
        "id": "7EQ7aROxmLgk",
        "outputId": "ffeb610a-f1db-46a3-8ce8-f9eae2e3e07a"
      },
      "source": [
        "from sklearn.metrics import classification_report\n",
        "\n",
        "print(classification_report(y_test, y_pred))"
      ],
      "execution_count": null,
      "outputs": [
        {
          "output_type": "stream",
          "name": "stdout",
          "text": [
            "              precision    recall  f1-score   support\n",
            "\n",
            "           0       0.98      1.00      0.99      6394\n",
            "           1       0.00      0.00      0.00       113\n",
            "\n",
            "    accuracy                           0.98      6507\n",
            "   macro avg       0.49      0.50      0.50      6507\n",
            "weighted avg       0.97      0.98      0.97      6507\n",
            "\n"
          ]
        },
        {
          "output_type": "stream",
          "name": "stderr",
          "text": [
            "/usr/local/lib/python3.7/dist-packages/sklearn/metrics/_classification.py:1272: UndefinedMetricWarning: Precision and F-score are ill-defined and being set to 0.0 in labels with no predicted samples. Use `zero_division` parameter to control this behavior.\n",
            "  _warn_prf(average, modifier, msg_start, len(result))\n"
          ]
        }
      ]
    },
    {
      "cell_type": "code",
      "metadata": {
        "colab": {
          "base_uri": "https://localhost:8080/"
        },
        "id": "LPb3-usA4peY",
        "outputId": "3c4d6696-4719-418b-e45e-34c2b047411e"
      },
      "source": [
        "# SVM with polynomial kernel with c = 1.0\n",
        "poly_svc = SVC(kernel='sigmoid', C=1000.0)\n",
        "poly_svc.fit(X_train, y_train)\n",
        "\n",
        "y_pred =poly_svc.predict(X_test)\n",
        "\n",
        "print('Model accuracy score with polynomial kernel and c = 1000.0: {0:0.4f}'. format(accuracy_score(y_test, y_pred)))\n",
        "\n",
        "print(classification_report(y_test, y_pred))"
      ],
      "execution_count": null,
      "outputs": [
        {
          "output_type": "stream",
          "name": "stdout",
          "text": [
            "Model accuracy score with polynomial kernel and c = 1000.0: 0.8497\n"
          ]
        }
      ]
    },
    {
      "cell_type": "code",
      "metadata": {
        "colab": {
          "base_uri": "https://localhost:8080/"
        },
        "id": "pdrGFEpz4tW1",
        "outputId": "c214ae0b-ccd5-4227-97a1-eae72582d103"
      },
      "source": [
        "# SVC with Kfold \n",
        "from sklearn.model_selection import Kfold\n",
        "from sklearn.model_selection import cross_val_score\n",
        "\n",
        "X= data.drop(['target'], axis=1)\n",
        "X.drop.\n",
        "Y = data['target']\n",
        "svc =  SVC(kernel='sigmoid', C=1000.0)\n",
        "cv = KFold(n_splits =10, radom_state=42, shffle=False)\n",
        "f1 = cross_val_score(svc, X_Train, y_train, scoring='f1', cv=cv, n_jobs=-1)\n",
        "# report performance\n",
        "\n",
        "\n"
      ],
      "execution_count": null,
      "outputs": [
        {
          "output_type": "stream",
          "name": "stdout",
          "text": [
            "              precision    recall  f1-score   support\n",
            "\n",
            "           0       0.98      1.00      0.99      6394\n",
            "           1       0.00      0.00      0.00       113\n",
            "\n",
            "    accuracy                           0.98      6507\n",
            "   macro avg       0.49      0.50      0.50      6507\n",
            "weighted avg       0.97      0.98      0.97      6507\n",
            "\n"
          ]
        },
        {
          "output_type": "stream",
          "name": "stderr",
          "text": [
            "/usr/local/lib/python3.7/dist-packages/sklearn/metrics/_classification.py:1272: UndefinedMetricWarning: Precision and F-score are ill-defined and being set to 0.0 in labels with no predicted samples. Use `zero_division` parameter to control this behavior.\n",
            "  _warn_prf(average, modifier, msg_start, len(result))\n"
          ]
        }
      ]
    },
    {
      "cell_type": "code",
      "metadata": {
        "colab": {
          "base_uri": "https://localhost:8080/"
        },
        "id": "RGS4k0ed8JjI",
        "outputId": "98759ff3-37a3-4441-cc13-1f6e7ecafe7c"
      },
      "source": [
        "# Recurring model run \n",
        "\n",
        "c_value = [50.0,100.0,1000.0]\n",
        "kenel_name = ['sigmoid']\n",
        "\n",
        "for i in range(len(kenel_name)) :\n",
        "  for j in range(len(c_value)) :\n",
        "     svc = SVC(kernel=kenel_name[i], C = c_value[j])\n",
        "     svc.fit(X_train, y_train)\n",
        "     y_pred =svc.predict(X_test)\n",
        "\n",
        "     print('Model accuracy score with polynomial kernel and c = 1000.0: {0:0.4f}'. format(accuracy_score(y_test, y_pred)))\n",
        "     print(classification_report(y_test, y_pred)) \n",
        "\n"
      ],
      "execution_count": null,
      "outputs": [
        {
          "output_type": "stream",
          "name": "stdout",
          "text": [
            "Model accuracy score with polynomial kernel and c = 1000.0: 0.5090\n",
            "              precision    recall  f1-score   support\n",
            "\n",
            "           0       0.97      0.51      0.67      6394\n",
            "           1       0.01      0.23      0.02       113\n",
            "\n",
            "    accuracy                           0.51      6507\n",
            "   macro avg       0.49      0.37      0.34      6507\n",
            "weighted avg       0.96      0.51      0.66      6507\n",
            "\n",
            "Model accuracy score with polynomial kernel and c = 1000.0: 0.5090\n",
            "              precision    recall  f1-score   support\n",
            "\n",
            "           0       0.97      0.51      0.67      6394\n",
            "           1       0.01      0.23      0.02       113\n",
            "\n",
            "    accuracy                           0.51      6507\n",
            "   macro avg       0.49      0.37      0.34      6507\n",
            "weighted avg       0.96      0.51      0.66      6507\n",
            "\n",
            "Model accuracy score with polynomial kernel and c = 1000.0: 0.5090\n",
            "              precision    recall  f1-score   support\n",
            "\n",
            "           0       0.97      0.51      0.67      6394\n",
            "           1       0.01      0.23      0.02       113\n",
            "\n",
            "    accuracy                           0.51      6507\n",
            "   macro avg       0.49      0.37      0.34      6507\n",
            "weighted avg       0.96      0.51      0.66      6507\n",
            "\n"
          ]
        }
      ]
    },
    {
      "cell_type": "code",
      "metadata": {
        "id": "RXou5o8c1U1K"
      },
      "source": [
        "from sklearn.metrics import confusion_matrix\n",
        "\n",
        "cm = confusion_matrix(y_test, y_pred)\n",
        "TP = cm[0,0]\n",
        "TN = cm[1,1]\n",
        "FP = cm[0,1]\n",
        "FN = cm[1,0]"
      ],
      "execution_count": null,
      "outputs": []
    },
    {
      "cell_type": "code",
      "metadata": {
        "colab": {
          "base_uri": "https://localhost:8080/",
          "height": 296
        },
        "id": "q0lmrEzD0yo1",
        "outputId": "ba73f7de-c010-4b31-b085-87e96c2c15a6"
      },
      "source": [
        "from sklearn.metrics import roc_curve\n",
        "\n",
        "fpr, tpr, thresholds = roc_curve(y_test, y_pred)\n",
        "\n",
        "plt.figure(figsize=(6,4))\n",
        "\n",
        "plt.plot(fpr, tpr, linewidth=2)\n",
        "\n",
        "plt.plot([0,1], [0,1], 'k--' )\n",
        "\n",
        "plt.rcParams['font.size'] = 12\n",
        "\n",
        "plt.title('ROC curve for Predicting a Pulsar Star classifier')\n",
        "\n",
        "plt.xlabel('False Positive Rate (1 - Specificity)')\n",
        "\n",
        "plt.ylabel('True Positive Rate (Sensitivity)')\n",
        "\n",
        "plt.show()"
      ],
      "execution_count": null,
      "outputs": [
        {
          "output_type": "display_data",
          "data": {
            "image/png": "[encoded data removed]",
            "text/plain": [
              "<Figure size 432x288 with 1 Axes>"
            ]
          },
          "metadata": {
            "needs_background": "light"
          }
        }
      ]
    }
  ]
}